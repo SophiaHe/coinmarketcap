{
  "nbformat": 4,
  "nbformat_minor": 0,
  "metadata": {
    "colab": {
      "name": "coinmarketcap.ipynb",
      "provenance": [],
      "collapsed_sections": [],
      "authorship_tag": "ABX9TyOxlYzmboddlNNixlya/Jla",
      "include_colab_link": true
    },
    "kernelspec": {
      "name": "python3",
      "display_name": "Python 3"
    }
  },
  "cells": [
    {
      "cell_type": "markdown",
      "metadata": {
        "id": "view-in-github",
        "colab_type": "text"
      },
      "source": [
        "<a href=\"https://colab.research.google.com/github/SophiaHe/coinmarketcap/blob/main/coinmarketcap.ipynb\" target=\"_parent\"><img src=\"https://colab.research.google.com/assets/colab-badge.svg\" alt=\"Open In Colab\"/></a>"
      ]
    },
    {
      "cell_type": "code",
      "metadata": {
        "id": "aaA8hauAOid2"
      },
      "source": [
        "!pip install dash\n",
        "import pandas as pd\n",
        "import numpy as np\n",
        "import dash\n",
        "import dash_core_components as dcc\n",
        "import dash_html_components as html\n",
        "from dash.dependencies import Input, Output"
      ],
      "execution_count": null,
      "outputs": []
    },
    {
      "cell_type": "code",
      "metadata": {
        "id": "4YUubdlsPMbB",
        "outputId": "68be8dc3-2baf-4b91-a403-b04882d0d1d5",
        "colab": {
          "base_uri": "https://localhost:8080/",
          "height": 52
        }
      },
      "source": [
        "import json\n",
        "# df = json.loads(\"2020-08-21T20_07_05.899Z.json\")\n",
        "with open('2020-08-21T20_07_05.899Z.json') as f:\n",
        "  temp = json.load(f)\n",
        "\n",
        "for x in temp:\n",
        "  print(x)\n",
        "\n",
        "#print(temp['data']['quote'])\n",
        "\n",
        "\n"
      ],
      "execution_count": null,
      "outputs": [
        {
          "output_type": "stream",
          "text": [
            "status\n",
            "data\n"
          ],
          "name": "stdout"
        }
      ]
    },
    {
      "cell_type": "code",
      "metadata": {
        "id": "_Zli9ef1SJ05",
        "outputId": "112c97ac-0c26-4118-b684-0d697c837eee",
        "colab": {
          "base_uri": "https://localhost:8080/",
          "height": 1000
        }
      },
      "source": [
        "df = pd.DataFrame(temp['data'])\n",
        "\n",
        "#df['quote'].head()\n",
        "print(list(df['quote'].items())[0])\n",
        "df_quote = df['quote'].apply(pd.Series)\n",
        "#print(df2.info())\n",
        "#print(df2.head())\n",
        "\n",
        "# USD dict\n",
        "df_quote2 = df_quote['USD'].apply(pd.Series)\n",
        "df_quote2.columns = ['quote_usd_' + str(col)  for col in df_quote2.columns]\n",
        "print(df_quote2.info())\n",
        "print(df_quote2.head())\n",
        "\n",
        "# platform dict\n",
        "#print(list(df['platform'].items())[3])\n",
        "df_platform = df['platform'].apply(pd.Series)\n",
        "df_platform.columns = [\"platform_\" + str(col) for col in df_platform.columns]\n",
        "#df_platform.info()\n",
        "#df_platform.head()\n",
        "\n",
        "# append together\n",
        "#df = df.append([df_quote2,df_platform])\n",
        "df = pd.concat([df, df_quote2], axis=1)\n",
        "df = pd.concat([df, df_platform], axis=1)\n",
        "df = df.drop(['quote','platform'],1)\n",
        "df.info()\n",
        "#df.head()\n"
      ],
      "execution_count": null,
      "outputs": [
        {
          "output_type": "stream",
          "text": [
            "(0, {'USD': {'price': 11698.4362429, 'volume_24h': 22543977312.0752, 'percent_change_1h': -0.057789, 'percent_change_24h': -1.56616, 'percent_change_7d': -0.819135, 'market_cap': 216036987434.9231, 'last_updated': '2020-08-21T20:06:32.000Z'}})\n",
            "<class 'pandas.core.frame.DataFrame'>\n",
            "RangeIndex: 3154 entries, 0 to 3153\n",
            "Data columns (total 7 columns):\n",
            " #   Column                        Non-Null Count  Dtype  \n",
            "---  ------                        --------------  -----  \n",
            " 0   quote_usd_price               3146 non-null   float64\n",
            " 1   quote_usd_volume_24h          2902 non-null   float64\n",
            " 2   quote_usd_percent_change_1h   3146 non-null   float64\n",
            " 3   quote_usd_percent_change_24h  3139 non-null   float64\n",
            " 4   quote_usd_percent_change_7d   3084 non-null   float64\n",
            " 5   quote_usd_market_cap          2154 non-null   float64\n",
            " 6   quote_usd_last_updated        3154 non-null   object \n",
            "dtypes: float64(6), object(1)\n",
            "memory usage: 172.6+ KB\n",
            "None\n",
            "   quote_usd_price  ...    quote_usd_last_updated\n",
            "0     11698.436243  ...  2020-08-21T20:06:32.000Z\n",
            "1       399.488848  ...  2020-08-21T20:06:23.000Z\n",
            "2         0.284646  ...  2020-08-21T20:06:06.000Z\n",
            "3         1.000429  ...  2020-08-21T20:06:19.000Z\n",
            "4       289.494472  ...  2020-08-21T20:06:08.000Z\n",
            "\n",
            "[5 rows x 7 columns]\n",
            "<class 'pandas.core.frame.DataFrame'>\n",
            "RangeIndex: 3154 entries, 0 to 3153\n",
            "Data columns (total 24 columns):\n",
            " #   Column                        Non-Null Count  Dtype  \n",
            "---  ------                        --------------  -----  \n",
            " 0   id                            3154 non-null   int64  \n",
            " 1   name                          3154 non-null   object \n",
            " 2   symbol                        3154 non-null   object \n",
            " 3   slug                          3154 non-null   object \n",
            " 4   num_market_pairs              3154 non-null   int64  \n",
            " 5   date_added                    3154 non-null   object \n",
            " 6   tags                          3154 non-null   object \n",
            " 7   max_supply                    1061 non-null   float64\n",
            " 8   circulating_supply            2154 non-null   float64\n",
            " 9   total_supply                  2966 non-null   float64\n",
            " 10  cmc_rank                      3154 non-null   int64  \n",
            " 11  last_updated                  3154 non-null   object \n",
            " 12  quote_usd_price               3146 non-null   float64\n",
            " 13  quote_usd_volume_24h          2902 non-null   float64\n",
            " 14  quote_usd_percent_change_1h   3146 non-null   float64\n",
            " 15  quote_usd_percent_change_24h  3139 non-null   float64\n",
            " 16  quote_usd_percent_change_7d   3084 non-null   float64\n",
            " 17  quote_usd_market_cap          2154 non-null   float64\n",
            " 18  quote_usd_last_updated        3154 non-null   object \n",
            " 19  platform_id                   2150 non-null   float64\n",
            " 20  platform_name                 2150 non-null   object \n",
            " 21  platform_symbol               2150 non-null   object \n",
            " 22  platform_slug                 2150 non-null   object \n",
            " 23  platform_token_address        2150 non-null   object \n",
            "dtypes: float64(10), int64(3), object(11)\n",
            "memory usage: 591.5+ KB\n"
          ],
          "name": "stdout"
        }
      ]
    },
    {
      "cell_type": "code",
      "metadata": {
        "id": "JuNehI7udMYw",
        "outputId": "4b12f8f1-c69f-45d4-be46-2a077217932a",
        "colab": {
          "base_uri": "https://localhost:8080/",
          "height": 212
        }
      },
      "source": [
        "df['quote_usd_percent_change_24h'].describe()\n",
        "#df['quote_usd_percent_change_24h'].isnull().sum()\n",
        "print(df.sort_values('quote_usd_percent_change_24h', ascending=False)[['name','quote_usd_percent_change_24h','total_supply']].head(10))"
      ],
      "execution_count": null,
      "outputs": [
        {
          "output_type": "stream",
          "text": [
            "              name  quote_usd_percent_change_24h  total_supply\n",
            "554        YF Link                       380.252  5.000000e+04\n",
            "856           Omix                       313.891  3.000000e+09\n",
            "2945  Pyrrhos Gold                       267.087  1.500000e+07\n",
            "1245         TCASH                       266.004  8.800000e+07\n",
            "1638    Asura Coin                       262.092  1.000000e+09\n",
            "1813     SnodeCoin                       195.813  4.314997e+07\n",
            "2906        SalPay                       178.631  1.000000e+08\n",
            "929    BitNewChain                       177.882  5.612432e+08\n",
            "222      VestChain                       169.864  8.848000e+09\n",
            "945      FREE Coin                       146.857  1.000000e+13\n"
          ],
          "name": "stdout"
        }
      ]
    },
    {
      "cell_type": "code",
      "metadata": {
        "id": "qxpAR4PznNnh"
      },
      "source": [
        "!wget https://bin.equinox.io/c/4VmDzA7iaHb/ngrok-stable-linux-amd64.zip\n",
        "!unzip ngrok-stable-linux-amd64.zip\n",
        "\n",
        "### Run ngrok to tunnel Dash app port 8050 to the outside world. \n",
        "### This command runs in the background.\n",
        "get_ipython().system_raw('./ngrok http 8050 &')\n",
        "\n",
        "### Get the public URL where you can access the Dash app. Copy this URL.\n",
        "! curl -s http://localhost:4040/api/tunnels | python3 -c \\\n",
        "    \"import sys, json; print(json.load(sys.stdin)['tunnels'][0]['public_url'])\"\n",
        "\n",
        "### Install Dash\n",
        "!pip install dash==0.31.1  # The core dash backend\n",
        "!pip install dash-html-components==0.13.2  # HTML components\n",
        "!pip install dash-core-components==0.39.0  # Supercharged components\n",
        "!pip install dash-table==3.1.7  # Interactive DataTable component (new!)"
      ],
      "execution_count": null,
      "outputs": []
    },
    {
      "cell_type": "code",
      "metadata": {
        "id": "yhhMAF61yPiW"
      },
      "source": [
        "%%sh\n",
        "pip install -q dash\n",
        "pip install -q dash_core_components\n",
        "pip install -q dash_html_components\n",
        "pip install -q dash_table"
      ],
      "execution_count": null,
      "outputs": []
    },
    {
      "cell_type": "code",
      "metadata": {
        "id": "bo1PnnDcxvj-",
        "outputId": "4c61b8d5-5240-4800-c8b3-e1c3a37c59a8",
        "colab": {
          "base_uri": "https://localhost:8080/",
          "height": 124
        }
      },
      "source": [
        "%%sh\n",
        "# get ngrok\n",
        "curl -O https://bin.equinox.io/c/4VmDzA7iaHb/ngrok-stable-linux-amd64.zip\n",
        "unzip ngrok-stable-linux-amd64.zip"
      ],
      "execution_count": null,
      "outputs": [
        {
          "output_type": "stream",
          "text": [
            "Archive:  ngrok-stable-linux-amd64.zip\n"
          ],
          "name": "stdout"
        },
        {
          "output_type": "stream",
          "text": [
            "  % Total    % Received % Xferd  Average Speed   Time    Time     Time  Current\n",
            "                                 Dload  Upload   Total   Spent    Left  Speed\n",
            "\r  0     0    0     0    0     0      0      0 --:--:-- --:--:-- --:--:--     0\r100 13.1M  100 13.1M    0     0  40.0M      0 --:--:-- --:--:-- --:--:-- 40.0M\n",
            "replace ngrok? [y]es, [n]o, [A]ll, [N]one, [r]ename:  NULL\n",
            "(EOF or read error, treating as \"[N]one\" ...)\n"
          ],
          "name": "stderr"
        }
      ]
    },
    {
      "cell_type": "code",
      "metadata": {
        "id": "TvcBMocadb05",
        "outputId": "0f73f9a0-c300-4168-baac-d0b02e1894dc",
        "colab": {
          "base_uri": "https://localhost:8080/",
          "height": 35
        }
      },
      "source": [
        "%%writefile dash_app.py\n",
        "\n",
        "import dash\n",
        "import dash_core_components as dcc\n",
        "import dash_html_components as html\n",
        "\n",
        "external_stylesheets = ['https://codepen.io/chriddyp/pen/bWLwgP.css']\n",
        "\n",
        "app = dash.Dash(__name__)#, external_stylesheets=external_stylesheets)\n",
        "\n",
        "app.layout = html.Div(children=[\n",
        "    html.H1(children='Hello Dash'),\n",
        "\n",
        "    html.Div(children='''\n",
        "        Dash: A web application framework for Python.\n",
        "    '''),\n",
        "\n",
        "    dcc.Graph(\n",
        "        id='example-graph',\n",
        "        figure={\n",
        "            'data': [\n",
        "                {'x': [1, 2, 3], 'y': [4, 1, 2], 'type': 'bar', 'name': 'SF'},\n",
        "                {'x': [1, 2, 3], 'y': [2, 4, 5], 'type': 'bar', 'name': u'Montréal'},\n",
        "            ],\n",
        "            'layout': {\n",
        "                'title': 'Dash Data Visualization'\n",
        "            }\n",
        "        }\n",
        "    )\n",
        "])\n",
        "\n",
        "if __name__ == '__main__':\n",
        "    app.run_server(debug=True)\n"
      ],
      "execution_count": null,
      "outputs": [
        {
          "output_type": "stream",
          "text": [
            "Overwriting dash_app.py\n"
          ],
          "name": "stdout"
        }
      ]
    },
    {
      "cell_type": "code",
      "metadata": {
        "id": "vbrqMjXHx2AH"
      },
      "source": [
        "# launch ngrok\n",
        "get_ipython().system_raw('./ngrok http 8050 &')"
      ],
      "execution_count": null,
      "outputs": []
    },
    {
      "cell_type": "code",
      "metadata": {
        "id": "dJGdxiLJsf9k",
        "outputId": "d1d3235b-63b3-4a26-c21d-1577c98623b3",
        "colab": {
          "base_uri": "https://localhost:8080/",
          "height": 35
        }
      },
      "source": [
        "%%sh\n",
        "# get url with ngrok\n",
        "curl -s http://localhost:4040/api/tunnels | python3 -c \"import sys, json; print(json.load(sys.stdin)['tunnels'][0]['public_url'])\""
      ],
      "execution_count": null,
      "outputs": [
        {
          "output_type": "stream",
          "text": [
            "https://cb55a4de8a90.ngrok.io\n"
          ],
          "name": "stdout"
        }
      ]
    },
    {
      "cell_type": "code",
      "metadata": {
        "id": "CprtLN_ddNjt",
        "outputId": "b20019da-fdde-4342-ba28-66484607b30f",
        "colab": {
          "base_uri": "https://localhost:8080/",
          "height": 319
        }
      },
      "source": [
        "### Run Dash app\n",
        "!python dash_app.py"
      ],
      "execution_count": null,
      "outputs": [
        {
          "output_type": "stream",
          "text": [
            "Running on http://127.0.0.1:8050/\n",
            "Debugger PIN: 041-525-216\n",
            " * Serving Flask app \"dash_app\" (lazy loading)\n",
            " * Environment: production\n",
            "\u001b[31m   WARNING: This is a development server. Do not use it in a production deployment.\u001b[0m\n",
            "\u001b[2m   Use a production WSGI server instead.\u001b[0m\n",
            " * Debug mode: on\n",
            "Traceback (most recent call last):\n",
            "  File \"dash_app.py\", line 32, in <module>\n",
            "    app.run_server(debug=True)\n",
            "  File \"/usr/local/lib/python3.6/dist-packages/dash/dash.py\", line 1288, in run_server\n",
            "    **flask_run_options)\n",
            "  File \"/usr/local/lib/python3.6/dist-packages/flask/app.py\", line 990, in run\n",
            "    run_simple(host, port, self, **options)\n",
            "  File \"/usr/local/lib/python3.6/dist-packages/werkzeug/serving.py\", line 1030, in run_simple\n",
            "    s.bind(server_address)\n",
            "OSError: [Errno 98] Address already in use\n"
          ],
          "name": "stdout"
        }
      ]
    },
    {
      "cell_type": "code",
      "metadata": {
        "id": "BWU4Lk0aZhql"
      },
      "source": [
        "# rows list initialization \n",
        "rows = [] \n",
        "df2 = df['quote']\n",
        "df2.info()\n",
        "#df3 = df2['USD']\n",
        "\n",
        "# appending rows \n",
        "for data in df: \n",
        "    data_row = data\n",
        "    #time = data['quote'] \n",
        "      \n",
        "    for row in data_row: \n",
        "        #row['name']= time \n",
        "        rows.append(row) \n",
        "  \n",
        "# using data frame \n",
        "df = pd.DataFrame(rows) \n",
        "df.head()"
      ],
      "execution_count": null,
      "outputs": []
    },
    {
      "cell_type": "markdown",
      "metadata": {
        "id": "gZoPBhxcgKRK"
      },
      "source": [
        "## Scrape from coinmastercap"
      ]
    },
    {
      "cell_type": "code",
      "metadata": {
        "id": "QNx-GzR-CFgu",
        "outputId": "e60ed3e5-34d4-4d12-96b3-797f3e3d2309",
        "colab": {
          "base_uri": "https://localhost:8080/",
          "height": 54
        }
      },
      "source": [
        "from requests import Request, Session\n",
        "from requests.exceptions import ConnectionError, Timeout, TooManyRedirects\n",
        "import json\n",
        "\n",
        "url = 'https://pro-api.coinmarketcap.com/v1/cryptocurrency/listings/latest'\n",
        "parameters = {\n",
        "  'start':'1',\n",
        "  'limit':'10',\n",
        "  'convert':'USD'\n",
        "}\n",
        "headers = {\n",
        "  'Accepts': 'application/json',\n",
        "  'X-CMC_PRO_API_KEY': '8dd5c0fc-5c15-45dc-8e66-50303ae1902d',\n",
        "}\n",
        "\n",
        "session = Session()\n",
        "session.headers.update(headers)\n",
        "\n",
        "\n",
        "try:\n",
        "  response = session.get(url, params=parameters)\n",
        "  data = json.loads(response.text)\n",
        "  print(data['data'][0])\n",
        "except (ConnectionError, Timeout, TooManyRedirects) as e:\n",
        "  print(e)"
      ],
      "execution_count": 4,
      "outputs": [
        {
          "output_type": "stream",
          "text": [
            "{'id': 1, 'name': 'Bitcoin', 'symbol': 'BTC', 'slug': 'bitcoin', 'num_market_pairs': 9529, 'date_added': '2013-04-28T00:00:00.000Z', 'tags': ['mineable', 'pow', 'sha-256', 'store-of-value', 'state-channels'], 'max_supply': 21000000, 'circulating_supply': 18514006, 'total_supply': 18514006, 'platform': None, 'cmc_rank': 1, 'last_updated': '2020-10-11T17:02:23.000Z', 'quote': {'USD': {'price': 11399.788192926735, 'volume_24h': 19227744770.542408, 'percent_change_1h': 0.23889318, 'percent_change_24h': 0.38293337, 'percent_change_7d': 7.56198892, 'market_cap': 211055747002.57474, 'last_updated': '2020-10-11T17:02:23.000Z'}}}\n"
          ],
          "name": "stdout"
        }
      ]
    },
    {
      "cell_type": "code",
      "metadata": {
        "id": "OC_58qmBCNV2"
      },
      "source": [
        ""
      ],
      "execution_count": null,
      "outputs": []
    }
  ]
}