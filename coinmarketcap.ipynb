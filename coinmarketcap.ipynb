{
  "nbformat": 4,
  "nbformat_minor": 0,
  "metadata": {
    "colab": {
      "name": "coinmarketcap.ipynb",
      "provenance": [],
      "collapsed_sections": [
        "RmP02QsbhJ5-"
      ],
      "authorship_tag": "ABX9TyOBBSc3S4AtVXI5wY39Qokz",
      "include_colab_link": true
    },
    "kernelspec": {
      "name": "python3",
      "display_name": "Python 3"
    }
  },
  "cells": [
    {
      "cell_type": "markdown",
      "metadata": {
        "id": "view-in-github",
        "colab_type": "text"
      },
      "source": [
        "<a href=\"https://colab.research.google.com/github/SophiaHe/coinmarketcap/blob/main/coinmarketcap.ipynb\" target=\"_parent\"><img src=\"https://colab.research.google.com/assets/colab-badge.svg\" alt=\"Open In Colab\"/></a>"
      ]
    },
    {
      "cell_type": "code",
      "metadata": {
        "id": "aaA8hauAOid2",
        "outputId": "a4a0faa4-4c9b-4908-bdc0-630e17cb273b",
        "colab": {
          "base_uri": "https://localhost:8080/",
          "height": 238
        }
      },
      "source": [
        "!pip install dash\n",
        "import pandas as pd\n",
        "import numpy as np\n",
        "import dash\n",
        "import dash_core_components as dcc\n",
        "import dash_html_components as html\n",
        "from dash.dependencies import Input, Output"
      ],
      "execution_count": 55,
      "outputs": [
        {
          "output_type": "stream",
          "text": [
            "Requirement already satisfied: dash in /usr/local/lib/python3.6/dist-packages (0.31.1)\n",
            "Requirement already satisfied: Flask>=0.12 in /usr/local/lib/python3.6/dist-packages (from dash) (1.1.2)\n",
            "Requirement already satisfied: flask-compress in /usr/local/lib/python3.6/dist-packages (from dash) (1.7.0)\n",
            "Requirement already satisfied: dash-renderer in /usr/local/lib/python3.6/dist-packages (from dash) (1.8.2)\n",
            "Requirement already satisfied: plotly in /usr/local/lib/python3.6/dist-packages (from dash) (4.4.1)\n",
            "Requirement already satisfied: Jinja2>=2.10.1 in /usr/local/lib/python3.6/dist-packages (from Flask>=0.12->dash) (2.11.2)\n",
            "Requirement already satisfied: click>=5.1 in /usr/local/lib/python3.6/dist-packages (from Flask>=0.12->dash) (7.1.2)\n",
            "Requirement already satisfied: itsdangerous>=0.24 in /usr/local/lib/python3.6/dist-packages (from Flask>=0.12->dash) (1.1.0)\n",
            "Requirement already satisfied: Werkzeug>=0.15 in /usr/local/lib/python3.6/dist-packages (from Flask>=0.12->dash) (1.0.1)\n",
            "Requirement already satisfied: brotli in /usr/local/lib/python3.6/dist-packages (from flask-compress->dash) (1.0.9)\n",
            "Requirement already satisfied: retrying>=1.3.3 in /usr/local/lib/python3.6/dist-packages (from plotly->dash) (1.3.3)\n",
            "Requirement already satisfied: six in /usr/local/lib/python3.6/dist-packages (from plotly->dash) (1.15.0)\n",
            "Requirement already satisfied: MarkupSafe>=0.23 in /usr/local/lib/python3.6/dist-packages (from Jinja2>=2.10.1->Flask>=0.12->dash) (1.1.1)\n"
          ],
          "name": "stdout"
        }
      ]
    },
    {
      "cell_type": "code",
      "metadata": {
        "id": "4YUubdlsPMbB",
        "outputId": "68be8dc3-2baf-4b91-a403-b04882d0d1d5",
        "colab": {
          "base_uri": "https://localhost:8080/",
          "height": 52
        }
      },
      "source": [
        "import json\n",
        "# df = json.loads(\"2020-08-21T20_07_05.899Z.json\")\n",
        "with open('2020-08-21T20_07_05.899Z.json') as f:\n",
        "  temp = json.load(f)\n",
        "\n",
        "for x in temp:\n",
        "  print(x)\n",
        "\n",
        "#print(temp['data']['quote'])\n",
        "\n",
        "\n"
      ],
      "execution_count": null,
      "outputs": [
        {
          "output_type": "stream",
          "text": [
            "status\n",
            "data\n"
          ],
          "name": "stdout"
        }
      ]
    },
    {
      "cell_type": "code",
      "metadata": {
        "id": "_Zli9ef1SJ05",
        "outputId": "112c97ac-0c26-4118-b684-0d697c837eee",
        "colab": {
          "base_uri": "https://localhost:8080/",
          "height": 1000
        }
      },
      "source": [
        "df = pd.DataFrame(temp['data'])\n",
        "\n",
        "#df['quote'].head()\n",
        "print(list(df['quote'].items())[0])\n",
        "df_quote = df['quote'].apply(pd.Series)\n",
        "#print(df2.info())\n",
        "#print(df2.head())\n",
        "\n",
        "# USD dict\n",
        "df_quote2 = df_quote['USD'].apply(pd.Series)\n",
        "df_quote2.columns = ['quote_usd_' + str(col)  for col in df_quote2.columns]\n",
        "print(df_quote2.info())\n",
        "print(df_quote2.head())\n",
        "\n",
        "# platform dict\n",
        "#print(list(df['platform'].items())[3])\n",
        "df_platform = df['platform'].apply(pd.Series)\n",
        "df_platform.columns = [\"platform_\" + str(col) for col in df_platform.columns]\n",
        "#df_platform.info()\n",
        "#df_platform.head()\n",
        "\n",
        "# append together\n",
        "#df = df.append([df_quote2,df_platform])\n",
        "df = pd.concat([df, df_quote2], axis=1)\n",
        "df = pd.concat([df, df_platform], axis=1)\n",
        "df = df.drop(['quote','platform'],1)\n",
        "df.info()\n",
        "#df.head()\n"
      ],
      "execution_count": null,
      "outputs": [
        {
          "output_type": "stream",
          "text": [
            "(0, {'USD': {'price': 11698.4362429, 'volume_24h': 22543977312.0752, 'percent_change_1h': -0.057789, 'percent_change_24h': -1.56616, 'percent_change_7d': -0.819135, 'market_cap': 216036987434.9231, 'last_updated': '2020-08-21T20:06:32.000Z'}})\n",
            "<class 'pandas.core.frame.DataFrame'>\n",
            "RangeIndex: 3154 entries, 0 to 3153\n",
            "Data columns (total 7 columns):\n",
            " #   Column                        Non-Null Count  Dtype  \n",
            "---  ------                        --------------  -----  \n",
            " 0   quote_usd_price               3146 non-null   float64\n",
            " 1   quote_usd_volume_24h          2902 non-null   float64\n",
            " 2   quote_usd_percent_change_1h   3146 non-null   float64\n",
            " 3   quote_usd_percent_change_24h  3139 non-null   float64\n",
            " 4   quote_usd_percent_change_7d   3084 non-null   float64\n",
            " 5   quote_usd_market_cap          2154 non-null   float64\n",
            " 6   quote_usd_last_updated        3154 non-null   object \n",
            "dtypes: float64(6), object(1)\n",
            "memory usage: 172.6+ KB\n",
            "None\n",
            "   quote_usd_price  ...    quote_usd_last_updated\n",
            "0     11698.436243  ...  2020-08-21T20:06:32.000Z\n",
            "1       399.488848  ...  2020-08-21T20:06:23.000Z\n",
            "2         0.284646  ...  2020-08-21T20:06:06.000Z\n",
            "3         1.000429  ...  2020-08-21T20:06:19.000Z\n",
            "4       289.494472  ...  2020-08-21T20:06:08.000Z\n",
            "\n",
            "[5 rows x 7 columns]\n",
            "<class 'pandas.core.frame.DataFrame'>\n",
            "RangeIndex: 3154 entries, 0 to 3153\n",
            "Data columns (total 24 columns):\n",
            " #   Column                        Non-Null Count  Dtype  \n",
            "---  ------                        --------------  -----  \n",
            " 0   id                            3154 non-null   int64  \n",
            " 1   name                          3154 non-null   object \n",
            " 2   symbol                        3154 non-null   object \n",
            " 3   slug                          3154 non-null   object \n",
            " 4   num_market_pairs              3154 non-null   int64  \n",
            " 5   date_added                    3154 non-null   object \n",
            " 6   tags                          3154 non-null   object \n",
            " 7   max_supply                    1061 non-null   float64\n",
            " 8   circulating_supply            2154 non-null   float64\n",
            " 9   total_supply                  2966 non-null   float64\n",
            " 10  cmc_rank                      3154 non-null   int64  \n",
            " 11  last_updated                  3154 non-null   object \n",
            " 12  quote_usd_price               3146 non-null   float64\n",
            " 13  quote_usd_volume_24h          2902 non-null   float64\n",
            " 14  quote_usd_percent_change_1h   3146 non-null   float64\n",
            " 15  quote_usd_percent_change_24h  3139 non-null   float64\n",
            " 16  quote_usd_percent_change_7d   3084 non-null   float64\n",
            " 17  quote_usd_market_cap          2154 non-null   float64\n",
            " 18  quote_usd_last_updated        3154 non-null   object \n",
            " 19  platform_id                   2150 non-null   float64\n",
            " 20  platform_name                 2150 non-null   object \n",
            " 21  platform_symbol               2150 non-null   object \n",
            " 22  platform_slug                 2150 non-null   object \n",
            " 23  platform_token_address        2150 non-null   object \n",
            "dtypes: float64(10), int64(3), object(11)\n",
            "memory usage: 591.5+ KB\n"
          ],
          "name": "stdout"
        }
      ]
    },
    {
      "cell_type": "code",
      "metadata": {
        "id": "JuNehI7udMYw",
        "outputId": "4b12f8f1-c69f-45d4-be46-2a077217932a",
        "colab": {
          "base_uri": "https://localhost:8080/",
          "height": 212
        }
      },
      "source": [
        "df['quote_usd_percent_change_24h'].describe()\n",
        "#df['quote_usd_percent_change_24h'].isnull().sum()\n",
        "print(df.sort_values('quote_usd_percent_change_24h', ascending=False)[['name','quote_usd_percent_change_24h','total_supply']].head(10))"
      ],
      "execution_count": null,
      "outputs": [
        {
          "output_type": "stream",
          "text": [
            "              name  quote_usd_percent_change_24h  total_supply\n",
            "554        YF Link                       380.252  5.000000e+04\n",
            "856           Omix                       313.891  3.000000e+09\n",
            "2945  Pyrrhos Gold                       267.087  1.500000e+07\n",
            "1245         TCASH                       266.004  8.800000e+07\n",
            "1638    Asura Coin                       262.092  1.000000e+09\n",
            "1813     SnodeCoin                       195.813  4.314997e+07\n",
            "2906        SalPay                       178.631  1.000000e+08\n",
            "929    BitNewChain                       177.882  5.612432e+08\n",
            "222      VestChain                       169.864  8.848000e+09\n",
            "945      FREE Coin                       146.857  1.000000e+13\n"
          ],
          "name": "stdout"
        }
      ]
    },
    {
      "cell_type": "code",
      "metadata": {
        "id": "qxpAR4PznNnh",
        "outputId": "93124cbb-870d-416c-f2a3-83410dc0ac0e",
        "colab": {
          "base_uri": "https://localhost:8080/",
          "height": 1000
        }
      },
      "source": [
        "!wget https://bin.equinox.io/c/4VmDzA7iaHb/ngrok-stable-linux-amd64.zip\n",
        "!unzip ngrok-stable-linux-amd64.zip\n",
        "\n",
        "### Run ngrok to tunnel Dash app port 8050 to the outside world. \n",
        "### This command runs in the background.\n",
        "get_ipython().system_raw('./ngrok http 8050 &')\n",
        "\n",
        "### Get the public URL where you can access the Dash app. Copy this URL.\n",
        "! curl -s http://localhost:4040/api/tunnels | python3 -c \\\n",
        "    \"import sys, json; print(json.load(sys.stdin)['tunnels'][0]['public_url'])\"\n",
        "\n",
        "### Install Dash\n",
        "!pip install dash==0.31.1  # The core dash backend\n",
        "!pip install dash-html-components==0.13.2  # HTML components\n",
        "!pip install dash-core-components==0.39.0  # Supercharged components\n",
        "!pip install dash-table==3.1.7  # Interactive DataTable component (new!)"
      ],
      "execution_count": 56,
      "outputs": [
        {
          "output_type": "stream",
          "text": [
            "--2020-10-15 20:33:33--  https://bin.equinox.io/c/4VmDzA7iaHb/ngrok-stable-linux-amd64.zip\n",
            "Resolving bin.equinox.io (bin.equinox.io)... 52.54.124.219, 35.174.46.144, 3.213.223.141, ...\n",
            "Connecting to bin.equinox.io (bin.equinox.io)|52.54.124.219|:443... connected.\n",
            "HTTP request sent, awaiting response... 200 OK\n",
            "Length: 13773305 (13M) [application/octet-stream]\n",
            "Saving to: ‘ngrok-stable-linux-amd64.zip.1’\n",
            "\n",
            "ngrok-stable-linux- 100%[===================>]  13.13M  6.33MB/s    in 2.1s    \n",
            "\n",
            "2020-10-15 20:33:36 (6.33 MB/s) - ‘ngrok-stable-linux-amd64.zip.1’ saved [13773305/13773305]\n",
            "\n",
            "Archive:  ngrok-stable-linux-amd64.zip\n",
            "replace ngrok? [y]es, [n]o, [A]ll, [N]one, [r]ename: yes\n",
            "  inflating: ngrok                   \n",
            "https://48327246af65.ngrok.io\n",
            "Requirement already satisfied: dash==0.31.1 in /usr/local/lib/python3.6/dist-packages (0.31.1)\n",
            "Requirement already satisfied: Flask>=0.12 in /usr/local/lib/python3.6/dist-packages (from dash==0.31.1) (1.1.2)\n",
            "Requirement already satisfied: flask-compress in /usr/local/lib/python3.6/dist-packages (from dash==0.31.1) (1.7.0)\n",
            "Requirement already satisfied: plotly in /usr/local/lib/python3.6/dist-packages (from dash==0.31.1) (4.4.1)\n",
            "Requirement already satisfied: dash-renderer in /usr/local/lib/python3.6/dist-packages (from dash==0.31.1) (1.8.2)\n",
            "Requirement already satisfied: Werkzeug>=0.15 in /usr/local/lib/python3.6/dist-packages (from Flask>=0.12->dash==0.31.1) (1.0.1)\n",
            "Requirement already satisfied: itsdangerous>=0.24 in /usr/local/lib/python3.6/dist-packages (from Flask>=0.12->dash==0.31.1) (1.1.0)\n",
            "Requirement already satisfied: Jinja2>=2.10.1 in /usr/local/lib/python3.6/dist-packages (from Flask>=0.12->dash==0.31.1) (2.11.2)\n",
            "Requirement already satisfied: click>=5.1 in /usr/local/lib/python3.6/dist-packages (from Flask>=0.12->dash==0.31.1) (7.1.2)\n",
            "Requirement already satisfied: brotli in /usr/local/lib/python3.6/dist-packages (from flask-compress->dash==0.31.1) (1.0.9)\n",
            "Requirement already satisfied: six in /usr/local/lib/python3.6/dist-packages (from plotly->dash==0.31.1) (1.15.0)\n",
            "Requirement already satisfied: retrying>=1.3.3 in /usr/local/lib/python3.6/dist-packages (from plotly->dash==0.31.1) (1.3.3)\n",
            "Requirement already satisfied: MarkupSafe>=0.23 in /usr/local/lib/python3.6/dist-packages (from Jinja2>=2.10.1->Flask>=0.12->dash==0.31.1) (1.1.1)\n",
            "Requirement already satisfied: dash-html-components==0.13.2 in /usr/local/lib/python3.6/dist-packages (0.13.2)\n",
            "Requirement already satisfied: dash in /usr/local/lib/python3.6/dist-packages (from dash-html-components==0.13.2) (0.31.1)\n",
            "Requirement already satisfied: flask-compress in /usr/local/lib/python3.6/dist-packages (from dash->dash-html-components==0.13.2) (1.7.0)\n",
            "Requirement already satisfied: dash-renderer in /usr/local/lib/python3.6/dist-packages (from dash->dash-html-components==0.13.2) (1.8.2)\n",
            "Requirement already satisfied: Flask>=0.12 in /usr/local/lib/python3.6/dist-packages (from dash->dash-html-components==0.13.2) (1.1.2)\n",
            "Requirement already satisfied: plotly in /usr/local/lib/python3.6/dist-packages (from dash->dash-html-components==0.13.2) (4.4.1)\n",
            "Requirement already satisfied: brotli in /usr/local/lib/python3.6/dist-packages (from flask-compress->dash->dash-html-components==0.13.2) (1.0.9)\n",
            "Requirement already satisfied: Werkzeug>=0.15 in /usr/local/lib/python3.6/dist-packages (from Flask>=0.12->dash->dash-html-components==0.13.2) (1.0.1)\n",
            "Requirement already satisfied: itsdangerous>=0.24 in /usr/local/lib/python3.6/dist-packages (from Flask>=0.12->dash->dash-html-components==0.13.2) (1.1.0)\n",
            "Requirement already satisfied: click>=5.1 in /usr/local/lib/python3.6/dist-packages (from Flask>=0.12->dash->dash-html-components==0.13.2) (7.1.2)\n",
            "Requirement already satisfied: Jinja2>=2.10.1 in /usr/local/lib/python3.6/dist-packages (from Flask>=0.12->dash->dash-html-components==0.13.2) (2.11.2)\n",
            "Requirement already satisfied: six in /usr/local/lib/python3.6/dist-packages (from plotly->dash->dash-html-components==0.13.2) (1.15.0)\n",
            "Requirement already satisfied: retrying>=1.3.3 in /usr/local/lib/python3.6/dist-packages (from plotly->dash->dash-html-components==0.13.2) (1.3.3)\n",
            "Requirement already satisfied: MarkupSafe>=0.23 in /usr/local/lib/python3.6/dist-packages (from Jinja2>=2.10.1->Flask>=0.12->dash->dash-html-components==0.13.2) (1.1.1)\n",
            "Collecting dash-core-components==0.39.0\n",
            "\u001b[?25l  Downloading https://files.pythonhosted.org/packages/a1/e5/fe391f283966c71678927da312a1d37758d4714efc7b332b174bc52c011a/dash_core_components-0.39.0.tar.gz (3.9MB)\n",
            "\u001b[K     |████████████████████████████████| 3.9MB 2.8MB/s \n",
            "\u001b[?25hRequirement already satisfied: dash in /usr/local/lib/python3.6/dist-packages (from dash-core-components==0.39.0) (0.31.1)\n",
            "Requirement already satisfied: flask-compress in /usr/local/lib/python3.6/dist-packages (from dash->dash-core-components==0.39.0) (1.7.0)\n",
            "Requirement already satisfied: dash-renderer in /usr/local/lib/python3.6/dist-packages (from dash->dash-core-components==0.39.0) (1.8.2)\n",
            "Requirement already satisfied: plotly in /usr/local/lib/python3.6/dist-packages (from dash->dash-core-components==0.39.0) (4.4.1)\n",
            "Requirement already satisfied: Flask>=0.12 in /usr/local/lib/python3.6/dist-packages (from dash->dash-core-components==0.39.0) (1.1.2)\n",
            "Requirement already satisfied: brotli in /usr/local/lib/python3.6/dist-packages (from flask-compress->dash->dash-core-components==0.39.0) (1.0.9)\n",
            "Requirement already satisfied: six in /usr/local/lib/python3.6/dist-packages (from plotly->dash->dash-core-components==0.39.0) (1.15.0)\n",
            "Requirement already satisfied: retrying>=1.3.3 in /usr/local/lib/python3.6/dist-packages (from plotly->dash->dash-core-components==0.39.0) (1.3.3)\n",
            "Requirement already satisfied: itsdangerous>=0.24 in /usr/local/lib/python3.6/dist-packages (from Flask>=0.12->dash->dash-core-components==0.39.0) (1.1.0)\n",
            "Requirement already satisfied: Werkzeug>=0.15 in /usr/local/lib/python3.6/dist-packages (from Flask>=0.12->dash->dash-core-components==0.39.0) (1.0.1)\n",
            "Requirement already satisfied: click>=5.1 in /usr/local/lib/python3.6/dist-packages (from Flask>=0.12->dash->dash-core-components==0.39.0) (7.1.2)\n",
            "Requirement already satisfied: Jinja2>=2.10.1 in /usr/local/lib/python3.6/dist-packages (from Flask>=0.12->dash->dash-core-components==0.39.0) (2.11.2)\n",
            "Requirement already satisfied: MarkupSafe>=0.23 in /usr/local/lib/python3.6/dist-packages (from Jinja2>=2.10.1->Flask>=0.12->dash->dash-core-components==0.39.0) (1.1.1)\n",
            "Building wheels for collected packages: dash-core-components\n",
            "  Building wheel for dash-core-components (setup.py) ... \u001b[?25l\u001b[?25hdone\n",
            "  Created wheel for dash-core-components: filename=dash_core_components-0.39.0-cp36-none-any.whl size=3886517 sha256=020fd5c6134d8854e22021652bff1099dfb080e533ddd39757ff4e41762b3359\n",
            "  Stored in directory: /root/.cache/pip/wheels/c0/34/5a/430acb2820ad50081c36c73b8af9fa672613b6d5e0580b9c43\n",
            "Successfully built dash-core-components\n",
            "Installing collected packages: dash-core-components\n",
            "  Found existing installation: dash-core-components 1.12.1\n",
            "    Uninstalling dash-core-components-1.12.1:\n",
            "      Successfully uninstalled dash-core-components-1.12.1\n",
            "Successfully installed dash-core-components-0.39.0\n"
          ],
          "name": "stdout"
        },
        {
          "output_type": "display_data",
          "data": {
            "application/vnd.colab-display-data+json": {
              "pip_warning": {
                "packages": [
                  "dash_core_components"
                ]
              }
            }
          },
          "metadata": {
            "tags": []
          }
        },
        {
          "output_type": "stream",
          "text": [
            "Requirement already satisfied: dash-table==3.1.7 in /usr/local/lib/python3.6/dist-packages (3.1.7)\n",
            "Requirement already satisfied: dash in /usr/local/lib/python3.6/dist-packages (from dash-table==3.1.7) (0.31.1)\n",
            "Requirement already satisfied: dash-renderer in /usr/local/lib/python3.6/dist-packages (from dash->dash-table==3.1.7) (1.8.2)\n",
            "Requirement already satisfied: Flask>=0.12 in /usr/local/lib/python3.6/dist-packages (from dash->dash-table==3.1.7) (1.1.2)\n",
            "Requirement already satisfied: flask-compress in /usr/local/lib/python3.6/dist-packages (from dash->dash-table==3.1.7) (1.7.0)\n",
            "Requirement already satisfied: plotly in /usr/local/lib/python3.6/dist-packages (from dash->dash-table==3.1.7) (4.4.1)\n",
            "Requirement already satisfied: Werkzeug>=0.15 in /usr/local/lib/python3.6/dist-packages (from Flask>=0.12->dash->dash-table==3.1.7) (1.0.1)\n",
            "Requirement already satisfied: Jinja2>=2.10.1 in /usr/local/lib/python3.6/dist-packages (from Flask>=0.12->dash->dash-table==3.1.7) (2.11.2)\n",
            "Requirement already satisfied: click>=5.1 in /usr/local/lib/python3.6/dist-packages (from Flask>=0.12->dash->dash-table==3.1.7) (7.1.2)\n",
            "Requirement already satisfied: itsdangerous>=0.24 in /usr/local/lib/python3.6/dist-packages (from Flask>=0.12->dash->dash-table==3.1.7) (1.1.0)\n",
            "Requirement already satisfied: brotli in /usr/local/lib/python3.6/dist-packages (from flask-compress->dash->dash-table==3.1.7) (1.0.9)\n",
            "Requirement already satisfied: retrying>=1.3.3 in /usr/local/lib/python3.6/dist-packages (from plotly->dash->dash-table==3.1.7) (1.3.3)\n",
            "Requirement already satisfied: six in /usr/local/lib/python3.6/dist-packages (from plotly->dash->dash-table==3.1.7) (1.15.0)\n",
            "Requirement already satisfied: MarkupSafe>=0.23 in /usr/local/lib/python3.6/dist-packages (from Jinja2>=2.10.1->Flask>=0.12->dash->dash-table==3.1.7) (1.1.1)\n"
          ],
          "name": "stdout"
        }
      ]
    },
    {
      "cell_type": "code",
      "metadata": {
        "id": "yhhMAF61yPiW"
      },
      "source": [
        "%%sh\n",
        "pip install -q dash\n",
        "pip install -q dash_core_components\n",
        "pip install -q dash_html_components\n",
        "pip install -q dash_table"
      ],
      "execution_count": 57,
      "outputs": []
    },
    {
      "cell_type": "code",
      "metadata": {
        "id": "bo1PnnDcxvj-",
        "outputId": "c9288634-7402-4f5f-9176-0bc65cd32f6a",
        "colab": {
          "base_uri": "https://localhost:8080/",
          "height": 119
        }
      },
      "source": [
        "%%sh\n",
        "# get ngrok\n",
        "curl -O https://bin.equinox.io/c/4VmDzA7iaHb/ngrok-stable-linux-amd64.zip\n",
        "unzip ngrok-stable-linux-amd64.zip"
      ],
      "execution_count": 58,
      "outputs": [
        {
          "output_type": "stream",
          "text": [
            "Archive:  ngrok-stable-linux-amd64.zip\n"
          ],
          "name": "stdout"
        },
        {
          "output_type": "stream",
          "text": [
            "  % Total    % Received % Xferd  Average Speed   Time    Time     Time  Current\n",
            "                                 Dload  Upload   Total   Spent    Left  Speed\n",
            "\r  0     0    0     0    0     0      0      0 --:--:-- --:--:-- --:--:--     0\r  0     0    0     0    0     0      0      0 --:--:-- --:--:-- --:--:--     0\r  0 13.1M    0  105k    0     0  77596      0  0:02:57  0:00:01  0:02:56 77596\r 49 13.1M   49 6612k    0     0  2648k      0  0:00:05  0:00:02  0:00:03 2647k\r100 13.1M  100 13.1M    0     0  4693k      0  0:00:02  0:00:02 --:--:-- 4691k\n",
            "replace ngrok? [y]es, [n]o, [A]ll, [N]one, [r]ename:  NULL\n",
            "(EOF or read error, treating as \"[N]one\" ...)\n"
          ],
          "name": "stderr"
        }
      ]
    },
    {
      "cell_type": "code",
      "metadata": {
        "id": "TvcBMocadb05",
        "outputId": "1c433499-cb49-466c-ab85-384a78c30450",
        "colab": {
          "base_uri": "https://localhost:8080/",
          "height": 34
        }
      },
      "source": [
        "%%writefile dash_app.py\n",
        "\n",
        "import dash\n",
        "import dash_core_components as dcc\n",
        "import dash_html_components as html\n",
        "\n",
        "external_stylesheets = ['https://codepen.io/chriddyp/pen/bWLwgP.css']\n",
        "\n",
        "app = dash.Dash(__name__)#, external_stylesheets=external_stylesheets)\n",
        "\n",
        "app.layout = html.Div(children=[\n",
        "    html.H1(children='Hello Dash'),\n",
        "\n",
        "    html.Div(children='''\n",
        "        Dash: A web application framework for Python.\n",
        "    '''),\n",
        "\n",
        "    dcc.Graph(\n",
        "        id='example-graph',\n",
        "        figure={\n",
        "            'data': [\n",
        "                {'x': [1, 2, 3], 'y': [4, 1, 2], 'type': 'bar', 'name': 'SF'},\n",
        "                {'x': [1, 2, 3], 'y': [2, 4, 5], 'type': 'bar', 'name': u'Montréal'},\n",
        "            ],\n",
        "            'layout': {\n",
        "                'title': 'Dash Data Visualization'\n",
        "            }\n",
        "        }\n",
        "    )\n",
        "])\n",
        "\n",
        "if __name__ == '__main__':\n",
        "    app.run_server(debug=True)\n"
      ],
      "execution_count": 59,
      "outputs": [
        {
          "output_type": "stream",
          "text": [
            "Overwriting dash_app.py\n"
          ],
          "name": "stdout"
        }
      ]
    },
    {
      "cell_type": "code",
      "metadata": {
        "id": "vbrqMjXHx2AH"
      },
      "source": [
        "# launch ngrok\n",
        "get_ipython().system_raw('./ngrok http 8050 &')"
      ],
      "execution_count": 60,
      "outputs": []
    },
    {
      "cell_type": "code",
      "metadata": {
        "id": "dJGdxiLJsf9k",
        "outputId": "480e4a33-ba27-411f-9411-1e65daff5a46",
        "colab": {
          "base_uri": "https://localhost:8080/",
          "height": 34
        }
      },
      "source": [
        "%%sh\n",
        "# get url with ngrok\n",
        "curl -s http://localhost:4040/api/tunnels | python3 -c \"import sys, json; print(json.load(sys.stdin)['tunnels'][0]['public_url'])\""
      ],
      "execution_count": 62,
      "outputs": [
        {
          "output_type": "stream",
          "text": [
            "https://48327246af65.ngrok.io\n"
          ],
          "name": "stdout"
        }
      ]
    },
    {
      "cell_type": "code",
      "metadata": {
        "id": "CprtLN_ddNjt",
        "outputId": "b20019da-fdde-4342-ba28-66484607b30f",
        "colab": {
          "base_uri": "https://localhost:8080/",
          "height": 319
        }
      },
      "source": [
        "### Run Dash app\n",
        "!python dash_app.py"
      ],
      "execution_count": null,
      "outputs": [
        {
          "output_type": "stream",
          "text": [
            "Running on http://127.0.0.1:8050/\n",
            "Debugger PIN: 041-525-216\n",
            " * Serving Flask app \"dash_app\" (lazy loading)\n",
            " * Environment: production\n",
            "\u001b[31m   WARNING: This is a development server. Do not use it in a production deployment.\u001b[0m\n",
            "\u001b[2m   Use a production WSGI server instead.\u001b[0m\n",
            " * Debug mode: on\n",
            "Traceback (most recent call last):\n",
            "  File \"dash_app.py\", line 32, in <module>\n",
            "    app.run_server(debug=True)\n",
            "  File \"/usr/local/lib/python3.6/dist-packages/dash/dash.py\", line 1288, in run_server\n",
            "    **flask_run_options)\n",
            "  File \"/usr/local/lib/python3.6/dist-packages/flask/app.py\", line 990, in run\n",
            "    run_simple(host, port, self, **options)\n",
            "  File \"/usr/local/lib/python3.6/dist-packages/werkzeug/serving.py\", line 1030, in run_simple\n",
            "    s.bind(server_address)\n",
            "OSError: [Errno 98] Address already in use\n"
          ],
          "name": "stdout"
        }
      ]
    },
    {
      "cell_type": "markdown",
      "metadata": {
        "id": "gZoPBhxcgKRK"
      },
      "source": [
        "## Scrape from coinmastercap"
      ]
    },
    {
      "cell_type": "markdown",
      "metadata": {
        "id": "RmP02QsbhJ5-"
      },
      "source": [
        "### 1. Using its API (limited data)"
      ]
    },
    {
      "cell_type": "code",
      "metadata": {
        "id": "GA51xRtrp2GO"
      },
      "source": [
        "from requests import Request, Session\n",
        "from requests.exceptions import ConnectionError, Timeout, TooManyRedirects\n",
        "import json\n",
        "import pandas as pd"
      ],
      "execution_count": null,
      "outputs": []
    },
    {
      "cell_type": "code",
      "metadata": {
        "id": "QNx-GzR-CFgu",
        "outputId": "e60ed3e5-34d4-4d12-96b3-797f3e3d2309",
        "colab": {
          "base_uri": "https://localhost:8080/",
          "height": 54
        }
      },
      "source": [
        "# with 333 credit limit per day!!!!!\n",
        "url = 'https://pro-api.coinmarketcap.com/v1/cryptocurrency/listings/latest'\n",
        "parameters = {\n",
        "  'start':'1',\n",
        "  'limit':'10',\n",
        "  'convert':'USD'\n",
        "}\n",
        "headers = {\n",
        "  'Accepts': 'application/json',\n",
        "  'X-CMC_PRO_API_KEY': '8dd5c0fc-5c15-45dc-8e66-50303ae1902d',\n",
        "}\n",
        "\n",
        "#session = Session()\n",
        "#session.headers.update(headers)\n",
        "\n",
        "\n",
        "try:\n",
        "  #response = session.get(url, params=parameters)\n",
        "  #data = json.loads(response.text)\n",
        "  print(data['data'][0])\n",
        "except (ConnectionError, Timeout, TooManyRedirects) as e:\n",
        "  print(e)"
      ],
      "execution_count": null,
      "outputs": [
        {
          "output_type": "stream",
          "text": [
            "{'id': 1, 'name': 'Bitcoin', 'symbol': 'BTC', 'slug': 'bitcoin', 'num_market_pairs': 9529, 'date_added': '2013-04-28T00:00:00.000Z', 'tags': ['mineable', 'pow', 'sha-256', 'store-of-value', 'state-channels'], 'max_supply': 21000000, 'circulating_supply': 18514006, 'total_supply': 18514006, 'platform': None, 'cmc_rank': 1, 'last_updated': '2020-10-11T17:02:23.000Z', 'quote': {'USD': {'price': 11399.788192926735, 'volume_24h': 19227744770.542408, 'percent_change_1h': 0.23889318, 'percent_change_24h': 0.38293337, 'percent_change_7d': 7.56198892, 'market_cap': 211055747002.57474, 'last_updated': '2020-10-11T17:02:23.000Z'}}}\n"
          ],
          "name": "stdout"
        }
      ]
    },
    {
      "cell_type": "code",
      "metadata": {
        "id": "0FliNYbZpOjd"
      },
      "source": [
        "import json\n",
        "# save data as json file\n",
        "with open('data.json', 'w') as fp:\n",
        "    json.dump(data, fp)"
      ],
      "execution_count": null,
      "outputs": []
    },
    {
      "cell_type": "code",
      "metadata": {
        "id": "NPCV2VOuppZ1"
      },
      "source": [
        "# load jason file\n",
        "with open('data.json', 'r') as fp:\n",
        "    data = json.load(fp)"
      ],
      "execution_count": null,
      "outputs": []
    },
    {
      "cell_type": "code",
      "metadata": {
        "id": "tWagCy2PeUcN",
        "outputId": "4241ba20-7b61-4f35-f37b-355a88d31505",
        "colab": {
          "base_uri": "https://localhost:8080/",
          "height": 544
        }
      },
      "source": [
        "# convert coinmarketcap scraped result to dataframe\n",
        "def dict_to_df (data):\n",
        "  df = pd.DataFrame(data['data'])\n",
        "  df_quote = df['quote'].apply(pd.Series)\n",
        "  \n",
        "  # USD dict\n",
        "  df_quote2 = df_quote['USD'].apply(pd.Series)\n",
        "  df_quote2.columns = ['quote_usd_' + str(col)  for col in df_quote2.columns]\n",
        "\n",
        "  # platform dict\n",
        "  df_platform = df['platform'].apply(pd.Series)\n",
        "  df_platform.columns = [\"platform_\" + str(col) for col in df_platform.columns]\n",
        "\n",
        "  pdList = [df, df_quote2, df_platform]\n",
        "  final = pd.concat(pdList, axis=1)\n",
        "  final = final.drop(['quote','platform'],1)\n",
        "  return(final)\n",
        "\n",
        "final = dict_to_df(data)\n",
        "final.info()"
      ],
      "execution_count": null,
      "outputs": [
        {
          "output_type": "stream",
          "text": [
            "<class 'pandas.core.frame.DataFrame'>\n",
            "RangeIndex: 10 entries, 0 to 9\n",
            "Data columns (total 24 columns):\n",
            " #   Column                        Non-Null Count  Dtype  \n",
            "---  ------                        --------------  -----  \n",
            " 0   id                            10 non-null     int64  \n",
            " 1   name                          10 non-null     object \n",
            " 2   symbol                        10 non-null     object \n",
            " 3   slug                          10 non-null     object \n",
            " 4   num_market_pairs              10 non-null     int64  \n",
            " 5   date_added                    10 non-null     object \n",
            " 6   tags                          10 non-null     object \n",
            " 7   max_supply                    6 non-null      float64\n",
            " 8   circulating_supply            10 non-null     float64\n",
            " 9   total_supply                  10 non-null     float64\n",
            " 10  cmc_rank                      10 non-null     int64  \n",
            " 11  last_updated                  10 non-null     object \n",
            " 12  quote_usd_price               10 non-null     float64\n",
            " 13  quote_usd_volume_24h          10 non-null     float64\n",
            " 14  quote_usd_percent_change_1h   10 non-null     float64\n",
            " 15  quote_usd_percent_change_24h  10 non-null     float64\n",
            " 16  quote_usd_percent_change_7d   10 non-null     float64\n",
            " 17  quote_usd_market_cap          10 non-null     float64\n",
            " 18  quote_usd_last_updated        10 non-null     object \n",
            " 19  platform_id                   2 non-null      float64\n",
            " 20  platform_name                 2 non-null      object \n",
            " 21  platform_symbol               2 non-null      object \n",
            " 22  platform_slug                 2 non-null      object \n",
            " 23  platform_token_address        2 non-null      object \n",
            "dtypes: float64(10), int64(3), object(11)\n",
            "memory usage: 2.0+ KB\n"
          ],
          "name": "stdout"
        }
      ]
    },
    {
      "cell_type": "markdown",
      "metadata": {
        "id": "0S4Wz76jhRH6"
      },
      "source": [
        "### 2. Use web scraper"
      ]
    },
    {
      "cell_type": "code",
      "metadata": {
        "id": "OC_58qmBCNV2",
        "outputId": "85d24237-aef3-49a2-cce8-d0fc34561b53",
        "colab": {
          "base_uri": "https://localhost:8080/",
          "height": 34
        }
      },
      "source": [
        "!pip install beautifulsoup4\n",
        "from bs4 import BeautifulSoup\n",
        "import requests \n",
        "import json\n",
        "import pandas as pd\n",
        "# tutorial: https://towardsdatascience.com/web-scraping-crypto-prices-with-python-41072ea5b5bf"
      ],
      "execution_count": 1,
      "outputs": [
        {
          "output_type": "stream",
          "text": [
            "Requirement already satisfied: beautifulsoup4 in /usr/local/lib/python3.6/dist-packages (4.6.3)\n"
          ],
          "name": "stdout"
        }
      ]
    },
    {
      "cell_type": "code",
      "metadata": {
        "id": "xas-4uzklVM0"
      },
      "source": [
        "cmc = requests.get('https://coinmarketcap.com')\n",
        "soup = BeautifulSoup(cmc.content, 'html.parser')\n",
        "# print(soup.prettify)"
      ],
      "execution_count": 2,
      "outputs": []
    },
    {
      "cell_type": "code",
      "metadata": {
        "id": "yKB2b8dnh_xw",
        "outputId": "940f9236-9cdd-41fb-b7d2-4fb052bd4d4f",
        "colab": {
          "base_uri": "https://localhost:8080/",
          "height": 54
        }
      },
      "source": [
        "# get a list of all coins\n",
        "data = soup.find('script', id = \"__NEXT_DATA__\",type = \"application/json\")\n",
        "coins = {} #dict\n",
        "\n",
        "coin_data = json.loads(data.contents[0])\n",
        "listings = coin_data['props']['initialState']['cryptocurrency']['listingLatest']['data']\n",
        "\n",
        "for i in listings:\n",
        "  coins[str(i['id'])] = i['slug']\n",
        "coins2 = list(coins.values())\n",
        "\n",
        "#a = pd.concat(coins)\n",
        "print((coins))\n",
        "#print(range(len(coins)))\n",
        "#for i in range(3):\n",
        "#  print(coins[i])\n"
      ],
      "execution_count": 62,
      "outputs": [
        {
          "output_type": "stream",
          "text": [
            "{'1': 'bitcoin', '1027': 'ethereum', '825': 'tether', '52': 'xrp', '1831': 'bitcoin-cash', '1839': 'binance-coin', '1975': 'chainlink', '6636': 'polkadot-new', '2010': 'cardano', '2': 'litecoin', '3602': 'bitcoin-sv', '3635': 'crypto-com-coin', '3408': 'usd-coin', '1765': 'eos', '328': 'monero', '1958': 'tron', '2011': 'tezos', '512': 'stellar', '1376': 'neo', '3717': 'wrapped-bitcoin', '3957': 'unus-sed-leo', '3794': 'cosmos', '873': 'nem', '2280': 'filecoin', '2502': 'huobi-token', '4943': 'multi-collateral-dai', '4687': 'binance-usd', '1720': 'iota', '3077': 'vechain', '1437': 'zcash', '2239': 'aave', '2416': 'theta', '131': 'dash', '1321': 'ethereum-classic', '7083': 'uniswap', '1518': 'maker', '1808': 'omg', '5864': 'yearn-finance', '5617': 'uma', '2566': 'ontology', '2586': 'synthetix-network-token', '3437': 'abbc-coin', '3897': 'okb', '3718': 'bittorrent', '4195': 'ftx-token', '2563': 'trueusd', '4030': 'algorand', '74': 'dogecoin', '2539': 'ren', '109': 'digibyte', '1697': 'basic-attention-token', '2700': 'celsius', '3662': 'hedgetrade', '1896': '0x', '5692': 'compound', '1274': 'waves', '5567': 'celo', '5034': 'kusama', '3330': 'paxos-standard', '7278': 'aave-new', '1684': 'qtum', '2099': 'icon', '5268': 'energy-web-token', '6535': 'near-protocol', '1934': 'loopring', '2469': 'zilliqa', '4642': 'hedera-hashgraph', '5830': 'nxm', '6138': 'dia', '1982': 'kyber-network', '1104': 'augur', '1214': 'lisk', '1168': 'decred', '3155': 'quant', '2083': 'bitcoin-gold', '5632': 'arweave', '3911': 'ocean-protocol', '1042': 'siacoin', '4779': 'husd', '2642': 'cybervein', '2130': 'enjin-coin', '4679': 'band-protocol', '4172': 'terra-luna', '2135': 'revain', '3351': 'zb-token', '3356': 'the-midas-touch-gold', '4847': 'blockstack', '1966': 'decentraland', '1680': 'aragon', '1567': 'nano', '6892': 'elrond-egld', '3964': 'reserve-rights', '5805': 'avalanche', '5426': 'solana', '2222': 'bitcoin-diamond', '1772': 'storj', '4948': 'nervos-network', '1732': 'numeraire', '3139': 'dxchain-token', '4279': 'swipe'}\n"
          ],
          "name": "stdout"
        }
      ]
    },
    {
      "cell_type": "code",
      "metadata": {
        "id": "t-M5rCaynMWp"
      },
      "source": [
        "# get historical data for all coins\n",
        "for i in range(3):\n",
        "  page = requests.get(f'https://coinmarketcap.com/currencies/{coins[i]}/historical-data/?start=20200101&end={yesterday}')\n",
        "  soup = BeautifulSoup(page.content, 'html.parser')\n",
        "  data = soup.find('script', id = \"__NEXT_DATA__\",type = \"application/json\")\n",
        "  historical_data= json.loads(data.contents[0])"
      ],
      "execution_count": 47,
      "outputs": []
    },
    {
      "cell_type": "code",
      "metadata": {
        "id": "HzScQYpy7BeT",
        "outputId": "41712f47-712d-47b3-9075-a07a5a322850",
        "colab": {
          "base_uri": "https://localhost:8080/",
          "height": 51
        }
      },
      "source": [
        "print(historical_data.keys())\n",
        "print(historical_data['props']['initialState']['cryptocurrency']['ohlcvHistorical'].keys())"
      ],
      "execution_count": 54,
      "outputs": [
        {
          "output_type": "stream",
          "text": [
            "dict_keys(['props', 'page', 'query', 'buildId', 'assetPrefix', 'isFallback', 'customServer', 'gip', 'appGip'])\n",
            "dict_keys(['825'])\n"
          ],
          "name": "stdout"
        }
      ]
    },
    {
      "cell_type": "markdown",
      "metadata": {
        "id": "cyqPxd8Vz4Ou"
      },
      "source": [
        "**Scrape Bitcoin**"
      ]
    },
    {
      "cell_type": "markdown",
      "metadata": {
        "id": "3ONyFV4Q-UHu"
      },
      "source": [
        "**1. Historical data of Bitcoin**"
      ]
    },
    {
      "cell_type": "code",
      "metadata": {
        "id": "pfP2liiS4Yqg"
      },
      "source": [
        "from datetime import datetime,timedelta\n",
        "\n",
        "yesterday = (datetime.today() - timedelta(days=1)).strftime('%Y%m%d')"
      ],
      "execution_count": 3,
      "outputs": []
    },
    {
      "cell_type": "code",
      "metadata": {
        "id": "3pp1CEFIXtzU"
      },
      "source": [
        "page = requests.get(\"https://coinmarketcap.com/currencies/bitcoin/historical-data/?start=20200101&end={yesterday}\")\n",
        "soup = BeautifulSoup(page.content, 'html.parser')\n",
        "data = soup.find('script', id = \"__NEXT_DATA__\",type = \"application/json\")\n",
        "historical_data= json.loads(data.contents[0])"
      ],
      "execution_count": 4,
      "outputs": []
    },
    {
      "cell_type": "code",
      "metadata": {
        "id": "2EaXqjoM43P5",
        "outputId": "7036e2b7-4579-4e3f-c579-ec66f07cd51d",
        "colab": {
          "base_uri": "https://localhost:8080/",
          "height": 54
        }
      },
      "source": [
        "quotes = historical_data['props']['initialState']['cryptocurrency']['ohlcvHistorical']['1']['quotes']\n",
        "print(quotes)"
      ],
      "execution_count": 5,
      "outputs": [
        {
          "output_type": "stream",
          "text": [
            "[{'time_open': '2020-01-01T00:00:00.000Z', 'time_close': '2020-01-01T23:59:59.999Z', 'time_high': '2020-01-01T15:42:01.000Z', 'time_low': '2020-01-01T01:06:01.000Z', 'quote': {'USD': {'open': 7194.89197053, 'high': 7254.33061134, 'low': 7174.94415256, 'close': 7200.17439274, 'volume': 18565664996.7884, 'market_cap': 130580829149.587, 'timestamp': '2020-01-01T23:59:59.999Z'}}}, {'time_open': '2020-01-02T00:00:00.000Z', 'time_close': '2020-01-02T23:59:59.999Z', 'time_high': '2020-01-02T01:30:00.000Z', 'time_low': '2020-01-02T23:02:01.000Z', 'quote': {'USD': {'open': 7202.55112207, 'high': 7212.15525252, 'low': 6935.26997193, 'close': 6985.47000061, 'volume': 20802083465.3292, 'market_cap': 126699395235.204, 'timestamp': '2020-01-02T23:59:59.999Z'}}}, {'time_open': '2020-01-03T00:00:00.000Z', 'time_close': '2020-01-03T23:59:59.999Z', 'time_high': '2020-01-03T17:04:00.000Z', 'time_low': '2020-01-03T02:10:01.000Z', 'quote': {'USD': {'open': 6984.4286123, 'high': 7413.71509934, 'low': 6914.99590793, 'close': 7344.88418341, 'volume': 28111481031.9377, 'market_cap': 133233444755.489, 'timestamp': '2020-01-03T23:59:59.999Z'}}}, {'time_open': '2020-01-04T00:00:00.000Z', 'time_close': '2020-01-04T23:59:59.999Z', 'time_high': '2020-01-04T18:44:02.000Z', 'time_low': '2020-01-04T00:39:02.000Z', 'quote': {'USD': {'open': 7345.37527527, 'high': 7427.38579435, 'low': 7309.5140117, 'close': 7410.65656642, 'volume': 18444271274.7607, 'market_cap': 134442464030.264, 'timestamp': '2020-01-04T23:59:59.999Z'}}}, {'time_open': '2020-01-05T00:00:00.000Z', 'time_close': '2020-01-05T23:59:59.999Z', 'time_high': '2020-01-05T18:57:00.000Z', 'time_low': '2020-01-05T23:18:00.000Z', 'quote': {'USD': {'open': 7410.45169373, 'high': 7544.49687224, 'low': 7400.5355609, 'close': 7411.31732676, 'volume': 19725074094.5446, 'market_cap': 134469548249.076, 'timestamp': '2020-01-05T23:59:59.999Z'}}}, {'time_open': '2020-01-06T00:00:00.000Z', 'time_close': '2020-01-06T23:59:59.999Z', 'time_high': '2020-01-06T23:55:01.000Z', 'time_low': '2020-01-06T00:05:01.000Z', 'quote': {'USD': {'open': 7410.45216807, 'high': 7781.86718275, 'low': 7409.29318246, 'close': 7769.21903905, 'volume': 23276261598.2482, 'market_cap': 140976457303.71, 'timestamp': '2020-01-06T23:59:59.999Z'}}}, {'time_open': '2020-01-07T00:00:00.000Z', 'time_close': '2020-01-07T23:59:59.999Z', 'time_high': '2020-01-07T23:51:01.000Z', 'time_low': '2020-01-07T00:01:01.000Z', 'quote': {'USD': {'open': 7768.68189098, 'high': 8178.21587336, 'low': 7768.22771944, 'close': 8163.69223944, 'volume': 28767291326.9703, 'market_cap': 148152237653.685, 'timestamp': '2020-01-07T23:59:59.999Z'}}}, {'time_open': '2020-01-08T00:00:00.000Z', 'time_close': '2020-01-08T23:59:59.999Z', 'time_high': '2020-01-08T13:55:01.000Z', 'time_low': '2020-01-08T20:30:00.000Z', 'quote': {'USD': {'open': 8161.93547734, 'high': 8396.73788064, 'low': 7956.77421957, 'close': 8079.86277673, 'volume': 31672559264.5185, 'market_cap': 146645162431.476, 'timestamp': '2020-01-08T23:59:59.999Z'}}}, {'time_open': '2020-01-09T00:00:00.000Z', 'time_close': '2020-01-09T23:59:59.999Z', 'time_high': '2020-01-09T00:00:00.000Z', 'time_low': '2020-01-09T21:12:00.000Z', 'quote': {'USD': {'open': 8082.29607413, 'high': 8082.29607413, 'low': 7842.4036134, 'close': 7879.07152428, 'volume': 24045990465.6494, 'market_cap': 143016572819.392, 'timestamp': '2020-01-09T23:59:59.999Z'}}}, {'time_open': '2020-01-10T00:00:00.000Z', 'time_close': '2020-01-10T23:59:59.999Z', 'time_high': '2020-01-10T23:59:00.000Z', 'time_low': '2020-01-10T10:23:00.000Z', 'quote': {'USD': {'open': 7878.30753815, 'high': 8166.55414039, 'low': 7726.77498918, 'close': 8166.55414039, 'volume': 28714583843.7846, 'market_cap': 148249907276.742, 'timestamp': '2020-01-10T23:59:59.999Z'}}}, {'time_open': '2020-01-11T00:00:00.000Z', 'time_close': '2020-01-11T23:59:59.999Z', 'time_high': '2020-01-11T01:36:00.000Z', 'time_low': '2020-01-11T23:55:00.000Z', 'quote': {'USD': {'open': 8162.1911379, 'high': 8218.3589373, 'low': 8029.64210795, 'close': 8037.53738872, 'volume': 25521165085.3714, 'market_cap': 145924199942.312, 'timestamp': '2020-01-11T23:59:59.999Z'}}}, {'time_open': '2020-01-12T00:00:00.000Z', 'time_close': '2020-01-12T23:59:59.999Z', 'time_high': '2020-01-12T19:44:00.000Z', 'time_low': '2020-01-12T00:08:01.000Z', 'quote': {'USD': {'open': 8033.26184596, 'high': 8200.06347027, 'low': 8009.0588841, 'close': 8192.49400532, 'volume': 22903438381.3875, 'market_cap': 148752956965.746, 'timestamp': '2020-01-12T23:59:59.999Z'}}}, {'time_open': '2020-01-13T00:00:00.000Z', 'time_close': '2020-01-13T23:59:59.999Z', 'time_high': '2020-01-13T00:08:01.000Z', 'time_low': '2020-01-13T14:36:00.000Z', 'quote': {'USD': {'open': 8189.77206362, 'high': 8197.78817891, 'low': 8079.70074107, 'close': 8144.19451744, 'volume': 22482910687.9031, 'market_cap': 147890525972.527, 'timestamp': '2020-01-13T23:59:59.999Z'}}}, {'time_open': '2020-01-14T00:00:00.000Z', 'time_close': '2020-01-14T23:59:59.999Z', 'time_high': '2020-01-14T23:42:00.000Z', 'time_low': '2020-01-14T00:00:00.000Z', 'quote': {'USD': {'open': 8140.93309605, 'high': 8879.51152651, 'low': 8140.93309605, 'close': 8827.76442606, 'volume': 44841784107.1774, 'market_cap': 160319484882.901, 'timestamp': '2020-01-14T23:59:59.999Z'}}}, {'time_open': '2020-01-15T00:00:00.000Z', 'time_close': '2020-01-15T23:59:59.999Z', 'time_high': '2020-01-15T14:08:01.000Z', 'time_low': '2020-01-15T05:19:01.000Z', 'quote': {'USD': {'open': 8825.34368451, 'high': 8890.11741953, 'low': 8657.18744654, 'close': 8807.01027532, 'volume': 40102834649.9655, 'market_cap': 159959191211.678, 'timestamp': '2020-01-15T23:59:59.999Z'}}}, {'time_open': '2020-01-16T00:00:00.000Z', 'time_close': '2020-01-16T23:59:59.999Z', 'time_high': '2020-01-16T00:14:00.000Z', 'time_low': '2020-01-16T03:35:01.000Z', 'quote': {'USD': {'open': 8812.48149122, 'high': 8846.46109861, 'low': 8612.09583682, 'close': 8723.78576573, 'volume': 31313981930.8235, 'market_cap': 158465055984.185, 'timestamp': '2020-01-16T23:59:59.999Z'}}}, {'time_open': '2020-01-17T00:00:00.000Z', 'time_close': '2020-01-17T23:59:59.999Z', 'time_high': '2020-01-17T10:21:00.000Z', 'time_low': '2020-01-17T01:20:01.000Z', 'quote': {'USD': {'open': 8725.20996387, 'high': 8958.12195167, 'low': 8677.3163483, 'close': 8929.0376776, 'volume': 36372139320.4446, 'market_cap': 162211148777.656, 'timestamp': '2020-01-17T23:59:59.999Z'}}}, {'time_open': '2020-01-18T00:00:00.000Z', 'time_close': '2020-01-18T23:59:59.999Z', 'time_high': '2020-01-18T19:31:01.000Z', 'time_low': '2020-01-18T05:36:00.000Z', 'quote': {'USD': {'open': 8927.21225983, 'high': 9012.19810645, 'low': 8827.33234474, 'close': 8942.80890321, 'volume': 32337772626.799, 'market_cap': 162475965880.12, 'timestamp': '2020-01-18T23:59:59.999Z'}}}, {'time_open': '2020-01-19T00:00:00.000Z', 'time_close': '2020-01-19T23:59:59.999Z', 'time_high': '2020-01-19T03:36:00.000Z', 'time_low': '2020-01-19T13:36:00.000Z', 'quote': {'USD': {'open': 8941.44574506, 'high': 9164.36225977, 'low': 8620.0799932, 'close': 8706.24512993, 'volume': 34217320471.3994, 'market_cap': 158194319734.796, 'timestamp': '2020-01-19T23:59:59.999Z'}}}, {'time_open': '2020-01-20T00:00:00.000Z', 'time_close': '2020-01-20T23:59:59.999Z', 'time_high': '2020-01-20T22:50:00.000Z', 'time_low': '2020-01-20T13:17:00.000Z', 'quote': {'USD': {'open': 8704.63181434, 'high': 8745.59079709, 'low': 8560.47404294, 'close': 8657.64293942, 'volume': 26422375678.0529, 'market_cap': 157327553259.434, 'timestamp': '2020-01-20T23:59:59.999Z'}}}, {'time_open': '2020-01-21T00:00:00.000Z', 'time_close': '2020-01-21T23:59:59.999Z', 'time_high': '2020-01-21T21:11:01.000Z', 'time_low': '2020-01-21T19:57:01.000Z', 'quote': {'USD': {'open': 8658.99118302, 'high': 8755.70629569, 'low': 8544.52045256, 'close': 8745.89478833, 'volume': 24097418512.0058, 'market_cap': 158947996833.847, 'timestamp': '2020-01-21T23:59:59.999Z'}}}, {'time_open': '2020-01-22T00:00:00.000Z', 'time_close': '2020-01-22T23:59:59.999Z', 'time_high': '2020-01-22T07:32:01.000Z', 'time_low': '2020-01-22T16:38:01.000Z', 'quote': {'USD': {'open': 8744.21075075, 'high': 8792.9938714, 'low': 8636.7474349, 'close': 8680.87604222, 'volume': 22600204050.5816, 'market_cap': 157783273070.101, 'timestamp': '2020-01-22T23:59:59.999Z'}}}, {'time_open': '2020-01-23T00:00:00.000Z', 'time_close': '2020-01-23T23:59:59.999Z', 'time_high': '2020-01-23T00:19:00.000Z', 'time_low': '2020-01-23T18:15:01.000Z', 'quote': {'USD': {'open': 8680.65055954, 'high': 8687.74708842, 'low': 8333.63787363, 'close': 8406.5160678, 'volume': 25770680778.6907, 'market_cap': 152813329632.858, 'timestamp': '2020-01-23T23:59:59.999Z'}}}, {'time_open': '2020-01-24T00:00:00.000Z', 'time_close': '2020-01-24T23:59:59.999Z', 'time_high': '2020-01-24T20:12:00.000Z', 'time_low': '2020-01-24T11:01:00.000Z', 'quote': {'USD': {'open': 8405.56773288, 'high': 8514.66703526, 'low': 8266.84057849, 'close': 8445.43428152, 'volume': 24397913025.6774, 'market_cap': 153536829768.103, 'timestamp': '2020-01-24T23:59:59.999Z'}}}, {'time_open': '2020-01-25T00:00:00.000Z', 'time_close': '2020-01-25T23:59:59.999Z', 'time_high': '2020-01-25T00:01:00.000Z', 'time_low': '2020-01-25T02:00:01.000Z', 'quote': {'USD': {'open': 8440.11958702, 'high': 8458.45301525, 'low': 8296.21900672, 'close': 8367.84777344, 'volume': 19647331548.6757, 'market_cap': 152143262649.888, 'timestamp': '2020-01-25T23:59:59.999Z'}}}, {'time_open': '2020-01-26T00:00:00.000Z', 'time_close': '2020-01-26T23:59:59.999Z', 'time_high': '2020-01-26T22:02:00.000Z', 'time_low': '2020-01-26T00:48:00.000Z', 'quote': {'USD': {'open': 8364.41006958, 'high': 8602.40124618, 'low': 8325.49808268, 'close': 8596.82983316, 'volume': 22177678795.56, 'market_cap': 156322174637.231, 'timestamp': '2020-01-26T23:59:59.999Z'}}}, {'time_open': '2020-01-27T00:00:00.000Z', 'time_close': '2020-01-27T23:59:59.999Z', 'time_high': '2020-01-27T20:43:00.000Z', 'time_low': '2020-01-27T00:00:02.000Z', 'quote': {'USD': {'open': 8597.30877926, 'high': 8977.7269618, 'low': 8597.30877926, 'close': 8909.81917753, 'volume': 28647338393.165, 'market_cap': 162027957434.616, 'timestamp': '2020-01-27T23:59:59.999Z'}}}, {'time_open': '2020-01-28T00:00:00.000Z', 'time_close': '2020-01-28T23:59:59.999Z', 'time_high': '2020-01-28T04:19:00.000Z', 'time_low': '2020-01-28T00:19:01.000Z', 'quote': {'USD': {'open': 8912.52433979, 'high': 9358.59031703, 'low': 8908.44692853, 'close': 9358.59031703, 'volume': 34398744402.6914, 'market_cap': 170205617954.856, 'timestamp': '2020-01-28T23:59:59.999Z'}}}, {'time_open': '2020-01-29T00:00:00.000Z', 'time_close': '2020-01-29T23:59:59.999Z', 'time_high': '2020-01-29T21:22:00.000Z', 'time_low': '2020-01-29T12:27:01.000Z', 'quote': {'USD': {'open': 9357.47037892, 'high': 9406.43179329, 'low': 9269.46813861, 'close': 9316.62950445, 'volume': 30682598115.464, 'market_cap': 169460984603.208, 'timestamp': '2020-01-29T23:59:59.999Z'}}}, {'time_open': '2020-01-30T00:00:00.000Z', 'time_close': '2020-01-30T23:59:59.999Z', 'time_high': '2020-01-30T20:47:01.000Z', 'time_low': '2020-01-30T00:37:00.000Z', 'quote': {'USD': {'open': 9316.01697842, 'high': 9553.12613251, 'low': 9230.89727886, 'close': 9508.9935947, 'volume': 32378792850.8777, 'market_cap': 172978577930.867, 'timestamp': '2020-01-30T23:59:59.999Z'}}}, {'time_open': '2020-01-31T00:00:00.000Z', 'time_close': '2020-01-31T23:59:59.999Z', 'time_high': '2020-01-31T00:40:00.000Z', 'time_low': '2020-01-31T13:22:00.000Z', 'quote': {'USD': {'open': 9508.31314184, 'high': 9521.70592625, 'low': 9230.77618023, 'close': 9350.52936518, 'volume': 29432489719.1331, 'market_cap': 170112778161.315, 'timestamp': '2020-01-31T23:59:59.999Z'}}}, {'time_open': '2020-02-01T00:00:00.000Z', 'time_close': '2020-02-01T23:59:59.999Z', 'time_high': '2020-02-01T02:43:00.000Z', 'time_low': '2020-02-01T13:02:00.000Z', 'quote': {'USD': {'open': 9346.35762761, 'high': 9439.323332, 'low': 9313.2387904, 'close': 9392.87536841, 'volume': 25922656496.1848, 'market_cap': 170900662180.114, 'timestamp': '2020-02-01T23:59:59.999Z'}}}, {'time_open': '2020-02-02T00:00:00.000Z', 'time_close': '2020-02-02T23:59:59.999Z', 'time_high': '2020-02-02T12:30:02.000Z', 'time_low': '2020-02-02T04:14:01.000Z', 'quote': {'USD': {'open': 9389.82059095, 'high': 9468.79761797, 'low': 9217.82397728, 'close': 9344.36529292, 'volume': 30835736946.1066, 'market_cap': 170034976661.751, 'timestamp': '2020-02-02T23:59:59.999Z'}}}, {'time_open': '2020-02-03T00:00:00.000Z', 'time_close': '2020-02-03T23:59:59.999Z', 'time_high': '2020-02-03T01:53:00.000Z', 'time_low': '2020-02-03T23:15:02.000Z', 'quote': {'USD': {'open': 9344.68367852, 'high': 9540.37173779, 'low': 9248.63423233, 'close': 9293.52108908, 'volume': 30934096508.7388, 'market_cap': 169126861033.712, 'timestamp': '2020-02-03T23:59:59.999Z'}}}, {'time_open': '2020-02-04T00:00:00.000Z', 'time_close': '2020-02-04T23:59:59.999Z', 'time_high': '2020-02-04T00:28:01.000Z', 'time_low': '2020-02-04T13:23:00.000Z', 'quote': {'USD': {'open': 9292.84190002, 'high': 9331.26581712, 'low': 9112.8114171, 'close': 9180.9629665, 'volume': 29893183716.0878, 'market_cap': 167093636161.856, 'timestamp': '2020-02-04T23:59:59.999Z'}}}, {'time_open': '2020-02-05T00:00:00.000Z', 'time_close': '2020-02-05T23:59:59.999Z', 'time_high': '2020-02-05T21:44:01.000Z', 'time_low': '2020-02-05T00:03:02.000Z', 'quote': {'USD': {'open': 9183.41577743, 'high': 9701.30003735, 'low': 9163.70413921, 'close': 9613.42428895, 'volume': 35222060874.4553, 'market_cap': 174983423932.952, 'timestamp': '2020-02-05T23:59:59.999Z'}}}, {'time_open': '2020-02-06T00:00:00.000Z', 'time_close': '2020-02-06T23:59:59.999Z', 'time_high': '2020-02-06T13:39:01.000Z', 'time_low': '2020-02-06T01:03:01.000Z', 'quote': {'USD': {'open': 9617.8210448, 'high': 9824.61926061, 'low': 9539.8180851, 'close': 9729.80223149, 'volume': 37628823715.5135, 'market_cap': 177118274393.946, 'timestamp': '2020-02-06T23:59:59.999Z'}}}, {'time_open': '2020-02-07T00:00:00.000Z', 'time_close': '2020-02-07T23:59:59.999Z', 'time_high': '2020-02-07T11:45:01.000Z', 'time_low': '2020-02-07T00:00:02.000Z', 'quote': {'USD': {'open': 9726.00315742, 'high': 9834.71678972, 'low': 9726.00315742, 'close': 9795.94377253, 'volume': 34522718159.4693, 'market_cap': 178339437206.337, 'timestamp': '2020-02-07T23:59:59.999Z'}}}, {'time_open': '2020-02-08T00:00:00.000Z', 'time_close': '2020-02-08T23:59:59.999Z', 'time_high': '2020-02-08T21:51:00.000Z', 'time_low': '2020-02-08T04:11:00.000Z', 'quote': {'USD': {'open': 9793.07042002, 'high': 9876.74934121, 'low': 9678.90979138, 'close': 9865.11946905, 'volume': 35172043761.8284, 'market_cap': 179615828322.347, 'timestamp': '2020-02-08T23:59:59.999Z'}}}, {'time_open': '2020-02-09T00:00:00.000Z', 'time_close': '2020-02-09T23:59:59.999Z', 'time_high': '2020-02-09T04:03:01.000Z', 'time_low': '2020-02-09T04:05:00.000Z', 'quote': {'USD': {'open': 9863.89488145, 'high': 10129.4351603, 'low': 9850.39221314, 'close': 10116.673759, 'volume': 35807884663.4158, 'market_cap': 184214765394.475, 'timestamp': '2020-02-09T23:59:59.999Z'}}}, {'time_open': '2020-02-10T00:00:00.000Z', 'time_close': '2020-02-10T23:59:59.999Z', 'time_high': '2020-02-10T06:44:00.000Z', 'time_low': '2020-02-10T05:59:01.000Z', 'quote': {'USD': {'open': 10115.559686, 'high': 10165.765355, 'low': 9784.563802, 'close': 9856.61149362, 'volume': 39386548074.7018, 'market_cap': 179494809265.716, 'timestamp': '2020-02-10T23:59:59.999Z'}}}, {'time_open': '2020-02-11T00:00:00.000Z', 'time_close': '2020-02-11T23:59:59.999Z', 'time_high': '2020-02-11T15:40:00.000Z', 'time_low': '2020-02-11T15:41:01.000Z', 'quote': {'USD': {'open': 9855.89170857, 'high': 10210.0526411, 'low': 9729.33489054, 'close': 10208.2362609, 'volume': 37648059388.6878, 'market_cap': 185917114988.663, 'timestamp': '2020-02-11T23:59:59.999Z'}}}, {'time_open': '2020-02-12T00:00:00.000Z', 'time_close': '2020-02-12T23:59:59.999Z', 'time_high': '2020-02-12T07:47:01.000Z', 'time_low': '2020-02-12T00:00:00.000Z', 'quote': {'USD': {'open': 10202.3876541, 'high': 10393.6117227, 'low': 10202.3876541, 'close': 10326.0545246, 'volume': 43444303830.2328, 'market_cap': 188081204385.987, 'timestamp': '2020-02-12T23:59:59.999Z'}}}, {'time_open': '2020-02-13T00:00:00.000Z', 'time_close': '2020-02-13T23:59:59.999Z', 'time_high': '2020-02-13T07:15:00.000Z', 'time_low': '2020-02-13T12:08:01.000Z', 'quote': {'USD': {'open': 10323.9604932, 'high': 10457.6271997, 'low': 10116.1614999, 'close': 10214.3794638, 'volume': 49356071372.9288, 'market_cap': 186065003525.648, 'timestamp': '2020-02-13T23:59:59.999Z'}}}, {'time_open': '2020-02-14T00:00:00.000Z', 'time_close': '2020-02-14T23:59:59.999Z', 'time_high': '2020-02-14T21:06:00.000Z', 'time_low': '2020-02-14T08:04:01.000Z', 'quote': {'USD': {'open': 10211.5503892, 'high': 10321.9957973, 'low': 10125.5337907, 'close': 10312.1160909, 'volume': 43338264161.5617, 'market_cap': 187862645448.777, 'timestamp': '2020-02-14T23:59:59.999Z'}}}, {'time_open': '2020-02-15T00:00:00.000Z', 'time_close': '2020-02-15T23:59:59.999Z', 'time_high': '2020-02-15T16:37:01.000Z', 'time_low': '2020-02-15T16:03:01.000Z', 'quote': {'USD': {'open': 10313.8568369, 'high': 10341.5559017, 'low': 9874.4275077, 'close': 9889.42462838, 'volume': 43865054831.0045, 'market_cap': 180179996218.634, 'timestamp': '2020-02-15T23:59:59.999Z'}}}, {'time_open': '2020-02-16T00:00:00.000Z', 'time_close': '2020-02-16T23:59:59.999Z', 'time_high': '2020-02-16T03:49:00.000Z', 'time_low': '2020-02-16T05:03:00.000Z', 'quote': {'USD': {'open': 9889.17970534, 'high': 10053.9690091, 'low': 9722.38715745, 'close': 9934.43339025, 'volume': 43374780305.4408, 'market_cap': 181017665264.459, 'timestamp': '2020-02-16T23:59:59.999Z'}}}, {'time_open': '2020-02-17T00:00:00.000Z', 'time_close': '2020-02-17T23:59:59.999Z', 'time_high': '2020-02-17T00:09:00.000Z', 'time_low': '2020-02-17T14:29:00.000Z', 'quote': {'USD': {'open': 9936.56026014, 'high': 9938.81578, 'low': 9507.63799409, 'close': 9690.14261814, 'volume': 45998298412.6028, 'market_cap': 176585280987.035, 'timestamp': '2020-02-17T23:59:59.999Z'}}}, {'time_open': '2020-02-18T00:00:00.000Z', 'time_close': '2020-02-18T23:59:59.999Z', 'time_high': '2020-02-18T20:34:01.000Z', 'time_low': '2020-02-18T20:35:00.000Z', 'quote': {'USD': {'open': 9691.23094489, 'high': 10161.9353141, 'low': 9632.38276334, 'close': 10141.9963705, 'volume': 47271023953.4278, 'market_cap': 184838512656.137, 'timestamp': '2020-02-18T23:59:59.999Z'}}}, {'time_open': '2020-02-19T00:00:00.000Z', 'time_close': '2020-02-19T23:59:59.999Z', 'time_high': '2020-02-19T21:47:00.000Z', 'time_low': '2020-02-19T21:46:00.000Z', 'quote': {'USD': {'open': 10143.7983568, 'high': 10191.6758471, 'low': 9611.22354001, 'close': 9633.38688518, 'volume': 46992019709.9208, 'market_cap': 175585931679.441, 'timestamp': '2020-02-19T23:59:59.999Z'}}}, {'time_open': '2020-02-20T00:00:00.000Z', 'time_close': '2020-02-20T23:59:59.999Z', 'time_high': '2020-02-20T00:47:00.000Z', 'time_low': '2020-02-20T18:11:01.000Z', 'quote': {'USD': {'open': 9629.32531033, 'high': 9643.21673144, 'low': 9507.90006137, 'close': 9608.47590343, 'volume': 44925260236.831, 'market_cap': 175147142158.083, 'timestamp': '2020-02-20T23:59:59.999Z'}}}, {'time_open': '2020-02-21T00:00:00.000Z', 'time_close': '2020-02-21T23:59:59.999Z', 'time_high': '2020-02-21T17:07:01.000Z', 'time_low': '2020-02-21T00:41:00.000Z', 'quote': {'USD': {'open': 9611.78201954, 'high': 9723.01498512, 'low': 9589.74360064, 'close': 9686.44119763, 'volume': 40930547512.6559, 'market_cap': 176587087363.478, 'timestamp': '2020-02-21T23:59:59.999Z'}}}, {'time_open': '2020-02-22T00:00:00.000Z', 'time_close': '2020-02-22T23:59:59.999Z', 'time_high': '2020-02-22T00:36:00.000Z', 'time_low': '2020-02-22T06:24:01.000Z', 'quote': {'USD': {'open': 9687.70676008, 'high': 9698.23112312, 'low': 9600.72878571, 'close': 9663.18182933, 'volume': 35838025154.2608, 'market_cap': 176180696547.801, 'timestamp': '2020-02-22T23:59:59.999Z'}}}, {'time_open': '2020-02-23T00:00:00.000Z', 'time_close': '2020-02-23T23:59:59.999Z', 'time_high': '2020-02-23T23:13:02.000Z', 'time_low': '2020-02-23T00:06:01.000Z', 'quote': {'USD': {'open': 9663.31864201, 'high': 9937.40410608, 'low': 9657.79114467, 'close': 9924.51522822, 'volume': 41185185761.491, 'market_cap': 180963233539.785, 'timestamp': '2020-02-23T23:59:59.999Z'}}}, {'time_open': '2020-02-24T00:00:00.000Z', 'time_close': '2020-02-24T23:59:59.999Z', 'time_high': '2020-02-24T00:29:00.000Z', 'time_low': '2020-02-24T18:24:01.000Z', 'quote': {'USD': {'open': 9921.58346055, 'high': 9951.74614899, 'low': 9537.04322252, 'close': 9650.17480677, 'volume': 45080496648.3463, 'market_cap': 175977808525.913, 'timestamp': '2020-02-24T23:59:59.999Z'}}}, {'time_open': '2020-02-25T00:00:00.000Z', 'time_close': '2020-02-25T23:59:59.999Z', 'time_high': '2020-02-25T00:02:01.000Z', 'time_low': '2020-02-25T21:23:04.000Z', 'quote': {'USD': {'open': 9651.31279866, 'high': 9652.73686506, 'low': 9305.02118582, 'close': 9341.70516876, 'volume': 42515259129.2118, 'market_cap': 170369581557.89, 'timestamp': '2020-02-25T23:59:59.999Z'}}}, {'time_open': '2020-02-26T00:00:00.000Z', 'time_close': '2020-02-26T23:59:59.999Z', 'time_high': '2020-02-26T00:38:00.000Z', 'time_low': '2020-02-26T17:56:00.000Z', 'quote': {'USD': {'open': 9338.29028024, 'high': 9354.77831023, 'low': 8704.4265506, 'close': 8820.52220005, 'volume': 50420050761.9225, 'market_cap': 160879489024.207, 'timestamp': '2020-02-26T23:59:59.999Z'}}}, {'time_open': '2020-02-27T00:00:00.000Z', 'time_close': '2020-02-27T23:59:59.999Z', 'time_high': '2020-02-27T16:57:01.000Z', 'time_low': '2020-02-27T01:18:01.000Z', 'quote': {'USD': {'open': 8825.09351775, 'high': 8932.89304727, 'low': 8577.19930942, 'close': 8784.49384867, 'volume': 45470195695.0864, 'market_cap': 160238496932.208, 'timestamp': '2020-02-27T23:59:59.999Z'}}}, {'time_open': '2020-02-28T00:00:00.000Z', 'time_close': '2020-02-28T23:59:59.999Z', 'time_high': '2020-02-28T02:13:00.000Z', 'time_low': '2020-02-28T12:46:00.000Z', 'quote': {'USD': {'open': 8788.72854689, 'high': 8890.45600513, 'low': 8492.93215312, 'close': 8672.45534996, 'volume': 44605450442.7398, 'market_cap': 158211707018.784, 'timestamp': '2020-02-28T23:59:59.999Z'}}}, {'time_open': '2020-02-29T00:00:00.000Z', 'time_close': '2020-02-29T23:59:59.999Z', 'time_high': '2020-02-29T06:11:00.000Z', 'time_low': '2020-02-29T23:59:01.000Z', 'quote': {'USD': {'open': 8671.21254207, 'high': 8775.63201232, 'low': 8599.50861972, 'close': 8599.50861972, 'volume': 35792392544.0102, 'market_cap': 156895988083.74, 'timestamp': '2020-02-29T23:59:59.999Z'}}}, {'time_open': '2020-03-01T00:00:00.000Z', 'time_close': '2020-03-01T23:59:59.999Z', 'time_high': '2020-03-01T12:12:01.000Z', 'time_low': '2020-03-01T19:06:00.000Z', 'quote': {'USD': {'open': 8599.7583441, 'high': 8726.79676016, 'low': 8471.21262606, 'close': 8562.45405008, 'volume': 35349164300.1413, 'market_cap': 156238987739.907, 'timestamp': '2020-03-01T23:59:59.999Z'}}}, {'time_open': '2020-03-02T00:00:00.000Z', 'time_close': '2020-03-02T23:59:59.999Z', 'time_high': '2020-03-02T22:39:00.000Z', 'time_low': '2020-03-02T00:16:00.000Z', 'quote': {'USD': {'open': 8563.26425933, 'high': 8921.30839546, 'low': 8532.63094465, 'close': 8869.67031078, 'volume': 42857674408.8765, 'market_cap': 161861167745.164, 'timestamp': '2020-03-02T23:59:59.999Z'}}}, {'time_open': '2020-03-03T00:00:00.000Z', 'time_close': '2020-03-03T23:59:59.999Z', 'time_high': '2020-03-03T12:17:00.000Z', 'time_low': '2020-03-03T19:19:00.000Z', 'quote': {'USD': {'open': 8865.38796487, 'high': 8901.59868323, 'low': 8704.99029396, 'close': 8787.78645576, 'volume': 42386715820.5577, 'market_cap': 160383579416.238, 'timestamp': '2020-03-03T23:59:59.999Z'}}}, {'time_open': '2020-03-04T00:00:00.000Z', 'time_close': '2020-03-04T23:59:59.999Z', 'time_high': '2020-03-04T06:07:00.000Z', 'time_low': '2020-03-04T16:18:01.000Z', 'quote': {'USD': {'open': 8788.54218625, 'high': 8843.36574975, 'low': 8712.43181192, 'close': 8755.24589461, 'volume': 34746706368.1467, 'market_cap': 159807857328.088, 'timestamp': '2020-03-04T23:59:59.999Z'}}}, {'time_open': '2020-03-05T00:00:00.000Z', 'time_close': '2020-03-05T23:59:59.999Z', 'time_high': '2020-03-05T20:01:00.000Z', 'time_low': '2020-03-05T00:01:00.000Z', 'quote': {'USD': {'open': 8760.28504049, 'high': 9142.05429624, 'low': 8757.25403405, 'close': 9078.76279174, 'volume': 39698054597.4259, 'market_cap': 165731679917.865, 'timestamp': '2020-03-05T23:59:59.999Z'}}}, {'time_open': '2020-03-06T00:00:00.000Z', 'time_close': '2020-03-06T23:59:59.999Z', 'time_high': '2020-03-06T11:57:01.000Z', 'time_low': '2020-03-06T01:27:01.000Z', 'quote': {'USD': {'open': 9078.30852906, 'high': 9167.69579623, 'low': 9032.07958273, 'close': 9122.54557333, 'volume': 40826885650.9438, 'market_cap': 166548261959.532, 'timestamp': '2020-03-06T23:59:59.999Z'}}}, {'time_open': '2020-03-07T00:00:00.000Z', 'time_close': '2020-03-07T23:59:59.999Z', 'time_high': '2020-03-07T16:40:00.000Z', 'time_low': '2020-03-07T20:09:00.000Z', 'quote': {'USD': {'open': 9121.60053553, 'high': 9163.22109566, 'low': 8890.74417157, 'close': 8909.9536515, 'volume': 36216930369.6665, 'market_cap': 162684945902.611, 'timestamp': '2020-03-07T23:59:59.999Z'}}}, {'time_open': '2020-03-08T00:00:00.000Z', 'time_close': '2020-03-08T23:59:59.999Z', 'time_high': '2020-03-08T00:04:00.000Z', 'time_low': '2020-03-08T23:54:01.000Z', 'quote': {'USD': {'open': 8908.20601509, 'high': 8914.34415498, 'low': 8105.25280434, 'close': 8108.11629101, 'volume': 39973102120.5682, 'market_cap': 148060284561.061, 'timestamp': '2020-03-08T23:59:59.999Z'}}}, {'time_open': '2020-03-09T00:00:00.000Z', 'time_close': '2020-03-09T23:59:59.999Z', 'time_high': '2020-03-09T00:13:00.000Z', 'time_low': '2020-03-09T15:47:02.000Z', 'quote': {'USD': {'open': 8111.14639164, 'high': 8177.79322362, 'low': 7690.09818591, 'close': 7923.6447033, 'volume': 46936995808.1849, 'market_cap': 144706353758.487, 'timestamp': '2020-03-09T23:59:59.999Z'}}}, {'time_open': '2020-03-10T00:00:00.000Z', 'time_close': '2020-03-10T23:59:59.999Z', 'time_high': '2020-03-10T13:05:01.000Z', 'time_low': '2020-03-10T16:06:00.000Z', 'quote': {'USD': {'open': 7922.1470416, 'high': 8136.9452227, 'low': 7814.76324378, 'close': 7909.72939346, 'volume': 42213940993.6104, 'market_cap': 144465567734.489, 'timestamp': '2020-03-10T23:59:59.999Z'}}}, {'time_open': '2020-03-11T00:00:00.000Z', 'time_close': '2020-03-11T23:59:59.999Z', 'time_high': '2020-03-11T01:07:01.000Z', 'time_low': '2020-03-11T18:24:00.000Z', 'quote': {'USD': {'open': 7910.08980669, 'high': 7950.81435628, 'low': 7642.81243049, 'close': 7911.43012933, 'volume': 38682762604.6366, 'market_cap': 144508402670.563, 'timestamp': '2020-03-11T23:59:59.999Z'}}}, {'time_open': '2020-03-12T00:00:00.000Z', 'time_close': '2020-03-12T23:59:59.999Z', 'time_high': '2020-03-12T00:10:01.000Z', 'time_low': '2020-03-12T23:56:01.000Z', 'quote': {'USD': {'open': 7913.61638784, 'high': 7929.11601884, 'low': 4860.35383012, 'close': 4970.78790105, 'volume': 53980357243.0501, 'market_cap': 90804613600.616, 'timestamp': '2020-03-12T23:59:59.999Z'}}}, {'time_open': '2020-03-13T00:00:00.000Z', 'time_close': '2020-03-13T23:59:59.999Z', 'time_high': '2020-03-13T13:38:02.000Z', 'time_low': '2020-03-13T02:26:01.000Z', 'quote': {'USD': {'open': 5017.83083939, 'high': 5838.11493749, 'low': 4106.98075029, 'close': 5563.70689169, 'volume': 74156772074.9603, 'market_cap': 101644613038.335, 'timestamp': '2020-03-13T23:59:59.999Z'}}}, {'time_open': '2020-03-14T00:00:00.000Z', 'time_close': '2020-03-14T23:59:59.999Z', 'time_high': '2020-03-14T03:19:00.000Z', 'time_low': '2020-03-14T23:32:01.000Z', 'quote': {'USD': {'open': 5573.07764952, 'high': 5625.22650517, 'low': 5125.06934725, 'close': 5200.36626392, 'volume': 36154506007.5848, 'market_cap': 95014981943.9861, 'timestamp': '2020-03-14T23:59:59.999Z'}}}, {'time_open': '2020-03-15T00:00:00.000Z', 'time_close': '2020-03-15T23:59:59.999Z', 'time_high': '2020-03-15T22:03:00.000Z', 'time_low': '2020-03-15T00:24:00.000Z', 'quote': {'USD': {'open': 5201.06668673, 'high': 5836.64500618, 'low': 5169.28339052, 'close': 5392.31488002, 'volume': 33997889638.762, 'market_cap': 98530059889.968, 'timestamp': '2020-03-15T23:59:59.999Z'}}}, {'time_open': '2020-03-16T00:00:00.000Z', 'time_close': '2020-03-16T23:59:59.999Z', 'time_high': '2020-03-16T00:00:01.000Z', 'time_low': '2020-03-16T11:15:01.000Z', 'quote': {'USD': {'open': 5385.22952159, 'high': 5385.22952159, 'low': 4575.35788665, 'close': 5014.47997748, 'volume': 45368026429.6205, 'market_cap': 91633478850.4746, 'timestamp': '2020-03-16T23:59:59.999Z'}}}, {'time_open': '2020-03-17T00:00:00.000Z', 'time_close': '2020-03-17T23:59:59.999Z', 'time_high': '2020-03-17T07:42:01.000Z', 'time_low': '2020-03-17T00:21:00.000Z', 'quote': {'USD': {'open': 5002.5781383, 'high': 5371.34851644, 'low': 4981.90941273, 'close': 5225.62919259, 'volume': 38622642935.2466, 'market_cap': 95499941183.34, 'timestamp': '2020-03-17T23:59:59.999Z'}}}, {'time_open': '2020-03-18T00:00:00.000Z', 'time_close': '2020-03-18T23:59:59.999Z', 'time_high': '2020-03-18T21:29:00.000Z', 'time_low': '2020-03-18T13:26:00.000Z', 'quote': {'USD': {'open': 5227.1136885, 'high': 5331.83385967, 'low': 5069.3361519, 'close': 5238.43857664, 'volume': 37878801016.3368, 'market_cap': 95740715528.8542, 'timestamp': '2020-03-18T23:59:59.999Z'}}}, {'time_open': '2020-03-19T00:00:00.000Z', 'time_close': '2020-03-19T23:59:59.999Z', 'time_high': '2020-03-19T22:56:02.000Z', 'time_low': '2020-03-19T02:37:01.000Z', 'quote': {'USD': {'open': 5245.4166032, 'high': 6329.73594838, 'low': 5236.96875288, 'close': 6191.19295222, 'volume': 51000731797.4328, 'market_cap': 113162079955.697, 'timestamp': '2020-03-19T23:59:59.999Z'}}}, {'time_open': '2020-03-20T00:00:00.000Z', 'time_close': '2020-03-20T23:59:59.999Z', 'time_high': '2020-03-20T10:58:00.000Z', 'time_low': '2020-03-20T20:35:02.000Z', 'quote': {'USD': {'open': 6191.65372133, 'high': 6844.26152806, 'low': 5865.78196437, 'close': 6198.77820508, 'volume': 54442976102.5119, 'market_cap': 113309245860.002, 'timestamp': '2020-03-20T23:59:59.999Z'}}}, {'time_open': '2020-03-21T00:00:00.000Z', 'time_close': '2020-03-21T23:59:59.999Z', 'time_high': '2020-03-21T21:20:03.000Z', 'time_low': '2020-03-21T11:22:00.000Z', 'quote': {'USD': {'open': 6206.52165025, 'high': 6378.13517055, 'low': 5932.82338618, 'close': 6185.06651501, 'volume': 42494390879.6104, 'market_cap': 113068192795.056, 'timestamp': '2020-03-21T23:59:59.999Z'}}}, {'time_open': '2020-03-22T00:00:00.000Z', 'time_close': '2020-03-22T23:59:59.999Z', 'time_high': '2020-03-22T06:20:03.000Z', 'time_low': '2020-03-22T23:51:00.000Z', 'quote': {'USD': {'open': 6185.55790292, 'high': 6359.69729033, 'low': 5823.71407014, 'close': 5830.25479765, 'volume': 40099664740.0619, 'market_cap': 106591196068.926, 'timestamp': '2020-03-22T23:59:59.999Z'}}}, {'time_open': '2020-03-23T00:00:00.000Z', 'time_close': '2020-03-23T23:59:59.999Z', 'time_high': '2020-03-23T23:18:00.000Z', 'time_low': '2020-03-23T09:28:00.000Z', 'quote': {'USD': {'open': 5831.37473534, 'high': 6443.93454693, 'low': 5785.00445322, 'close': 6416.31475839, 'volume': 46491915999.7158, 'market_cap': 117314776187.32, 'timestamp': '2020-03-23T23:59:59.999Z'}}}, {'time_open': '2020-03-24T00:00:00.000Z', 'time_close': '2020-03-24T23:59:59.999Z', 'time_high': '2020-03-24T10:10:00.000Z', 'time_low': '2020-03-24T05:07:01.000Z', 'quote': {'USD': {'open': 6436.64245088, 'high': 6789.02272423, 'low': 6411.06651215, 'close': 6734.80378045, 'volume': 48221910672.248, 'market_cap': 123148917787.229, 'timestamp': '2020-03-24T23:59:59.999Z'}}}, {'time_open': '2020-03-25T00:00:00.000Z', 'time_close': '2020-03-25T23:59:59.999Z', 'time_high': '2020-03-25T10:08:00.000Z', 'time_low': '2020-03-25T11:52:00.000Z', 'quote': {'USD': {'open': 6738.71663989, 'high': 6892.51135949, 'low': 6536.92618369, 'close': 6681.06312656, 'volume': 44590107887.9421, 'market_cap': 122174009142.91, 'timestamp': '2020-03-25T23:59:59.999Z'}}}, {'time_open': '2020-03-26T00:00:00.000Z', 'time_close': '2020-03-26T23:59:59.999Z', 'time_high': '2020-03-26T04:07:01.000Z', 'time_low': '2020-03-26T08:30:01.000Z', 'quote': {'USD': {'open': 6675.17065538, 'high': 6735.4638794, 'low': 6590.96271561, 'close': 6716.44054866, 'volume': 35319797641.53, 'market_cap': 122834375215.51, 'timestamp': '2020-03-26T23:59:59.999Z'}}}, {'time_open': '2020-03-27T00:00:00.000Z', 'time_close': '2020-03-27T23:59:59.999Z', 'time_high': '2020-03-27T04:19:03.000Z', 'time_low': '2020-03-27T23:57:03.000Z', 'quote': {'USD': {'open': 6719.38897407, 'high': 6793.83619652, 'low': 6466.70180578, 'close': 6469.79813509, 'volume': 34585598366.5512, 'market_cap': 118336082172.395, 'timestamp': '2020-03-27T23:59:59.999Z'}}}, {'time_open': '2020-03-28T00:00:00.000Z', 'time_close': '2020-03-28T23:59:59.999Z', 'time_high': '2020-03-28T00:01:02.000Z', 'time_low': '2020-03-28T18:01:02.000Z', 'quote': {'USD': {'open': 6467.25404592, 'high': 6467.501165, 'low': 6117.83774851, 'close': 6242.1938684, 'volume': 34885225901.0064, 'market_cap': 114183689640.72, 'timestamp': '2020-03-28T23:59:59.999Z'}}}, {'time_open': '2020-03-29T00:00:00.000Z', 'time_close': '2020-03-29T23:59:59.999Z', 'time_high': '2020-03-29T00:02:02.000Z', 'time_low': '2020-03-29T22:02:03.000Z', 'quote': {'USD': {'open': 6245.62462695, 'high': 6250.46730894, 'low': 5920.08601757, 'close': 5922.0431227, 'volume': 28373690930.5441, 'market_cap': 108338520155.504, 'timestamp': '2020-03-29T23:59:59.999Z'}}}, {'time_open': '2020-03-30T00:00:00.000Z', 'time_close': '2020-03-30T23:59:59.999Z', 'time_high': '2020-03-30T22:31:02.000Z', 'time_low': '2020-03-30T00:10:03.000Z', 'quote': {'USD': {'open': 5925.53848884, 'high': 6517.19578925, 'low': 5903.23434726, 'close': 6429.84193389, 'volume': 37101651525.2979, 'market_cap': 117640143688.458, 'timestamp': '2020-03-30T23:59:59.999Z'}}}, {'time_open': '2020-03-31T00:00:00.000Z', 'time_close': '2020-03-31T23:59:59.999Z', 'time_high': '2020-03-31T01:58:00.000Z', 'time_low': '2020-03-31T12:28:00.000Z', 'quote': {'USD': {'open': 6430.60652809, 'high': 6504.51532416, 'low': 6374.16217148, 'close': 6438.64476637, 'volume': 32786468812.0812, 'market_cap': 117814077266.537, 'timestamp': '2020-03-31T23:59:59.999Z'}}}, {'time_open': '2020-04-01T00:00:00.000Z', 'time_close': '2020-04-01T23:59:59.999Z', 'time_high': '2020-04-01T23:58:00.000Z', 'time_low': '2020-04-01T16:58:00.000Z', 'quote': {'USD': {'open': 6437.31921486, 'high': 6612.57379089, 'low': 6202.37351173, 'close': 6606.77626829, 'volume': 40346426265.7324, 'market_cap': 120903014693.267, 'timestamp': '2020-04-01T23:59:59.999Z'}}}, {'time_open': '2020-04-02T00:00:00.000Z', 'time_close': '2020-04-02T23:59:59.999Z', 'time_high': '2020-04-02T17:40:02.000Z', 'time_low': '2020-04-02T05:33:03.000Z', 'quote': {'USD': {'open': 6606.77626829, 'high': 7088.24732438, 'low': 6595.91827654, 'close': 6793.62459642, 'volume': 47660646124.4133, 'market_cap': 124335130640.41, 'timestamp': '2020-04-02T23:59:59.999Z'}}}, {'time_open': '2020-04-03T00:00:00.000Z', 'time_close': '2020-04-03T23:59:59.999Z', 'time_high': '2020-04-03T12:25:03.000Z', 'time_low': '2020-04-03T16:28:03.000Z', 'quote': {'USD': {'open': 6797.39659183, 'high': 7003.22078432, 'low': 6673.33575767, 'close': 6733.3873906, 'volume': 38976504902.968, 'market_cap': 123244051099.793, 'timestamp': '2020-04-03T23:59:59.999Z'}}}, {'time_open': '2020-04-04T00:00:00.000Z', 'time_close': '2020-04-04T23:59:59.999Z', 'time_high': '2020-04-04T20:32:03.000Z', 'time_low': '2020-04-04T03:27:02.000Z', 'quote': {'USD': {'open': 6738.38301967, 'high': 6878.95351761, 'low': 6696.48466818, 'close': 6867.52731596, 'volume': 33185988583.8042, 'market_cap': 125712834529.574, 'timestamp': '2020-04-04T23:59:59.999Z'}}}, {'time_open': '2020-04-05T00:00:00.000Z', 'time_close': '2020-04-05T23:59:59.999Z', 'time_high': '2020-04-05T00:40:03.000Z', 'time_low': '2020-04-05T17:24:03.000Z', 'quote': {'USD': {'open': 6862.53782636, 'high': 6883.41414332, 'low': 6715.9292996, 'close': 6791.12944093, 'volume': 29510409856.1053, 'market_cap': 124328853511.615, 'timestamp': '2020-04-05T23:59:59.999Z'}}}, {'time_open': '2020-04-06T00:00:00.000Z', 'time_close': '2020-04-06T23:59:59.999Z', 'time_high': '2020-04-06T23:59:02.000Z', 'time_low': '2020-04-06T00:04:03.000Z', 'quote': {'USD': {'open': 6788.04980287, 'high': 7271.7811527, 'low': 6782.88974461, 'close': 7271.7811527, 'volume': 46896904614.9285, 'market_cap': 133140400947.86, 'timestamp': '2020-04-06T23:59:59.999Z'}}}, {'time_open': '2020-04-07T00:00:00.000Z', 'time_close': '2020-04-07T23:59:59.999Z', 'time_high': '2020-04-07T10:54:03.000Z', 'time_low': '2020-04-07T21:07:03.000Z', 'quote': {'USD': {'open': 7273.64421075, 'high': 7427.93933989, 'low': 7136.71418613, 'close': 7176.41450049, 'volume': 44243482667.8499, 'market_cap': 131409299432.46, 'timestamp': '2020-04-07T23:59:59.999Z'}}}, {'time_open': '2020-04-08T00:00:00.000Z', 'time_close': '2020-04-08T23:59:59.999Z', 'time_high': '2020-04-08T06:02:04.000Z', 'time_low': '2020-04-08T01:56:04.000Z', 'quote': {'USD': {'open': 7179.28341821, 'high': 7356.22386412, 'low': 7153.30567428, 'close': 7334.09845346, 'volume': 37563249548.9382, 'market_cap': 134309895035.597, 'timestamp': '2020-04-08T23:59:59.999Z'}}}, {'time_open': '2020-04-09T00:00:00.000Z', 'time_close': '2020-04-09T23:59:59.999Z', 'time_high': '2020-04-09T00:43:00.000Z', 'time_low': '2020-04-09T12:12:04.000Z', 'quote': {'USD': {'open': 7337.9661825, 'high': 7341.44831412, 'low': 7179.0943407, 'close': 7302.0895105, 'volume': 34815139177.5936, 'market_cap': 133737857009.882, 'timestamp': '2020-04-09T23:59:59.999Z'}}}, {'time_open': '2020-04-10T00:00:00.000Z', 'time_close': '2020-04-10T23:59:59.999Z', 'time_high': '2020-04-10T00:00:00.000Z', 'time_low': '2020-04-10T15:36:03.000Z', 'quote': {'USD': {'open': 7303.81519824, 'high': 7303.81519824, 'low': 6802.47496589, 'close': 6865.49337195, 'volume': 43622840991.71, 'market_cap': 125755496117.263, 'timestamp': '2020-04-10T23:59:59.999Z'}}}, {'time_open': '2020-04-11T00:00:00.000Z', 'time_close': '2020-04-11T23:59:59.999Z', 'time_high': '2020-04-11T06:27:03.000Z', 'time_low': '2020-04-11T17:16:03.000Z', 'quote': {'USD': {'open': 6867.4404519, 'high': 6926.0696338, 'low': 6789.9207024, 'close': 6859.08296343, 'volume': 31222085946.2734, 'market_cap': 125651623116.07, 'timestamp': '2020-04-11T23:59:59.999Z'}}}, {'time_open': '2020-04-12T00:00:00.000Z', 'time_close': '2020-04-12T23:59:59.999Z', 'time_high': '2020-04-12T20:38:04.000Z', 'time_low': '2020-04-12T04:19:04.000Z', 'quote': {'USD': {'open': 6858.06802459, 'high': 7119.94706176, 'low': 6811.07790015, 'close': 6971.09159108, 'volume': 35759567632.2851, 'market_cap': 127716846208.307, 'timestamp': '2020-04-12T23:59:59.999Z'}}}, {'time_open': '2020-04-13T00:00:00.000Z', 'time_close': '2020-04-13T23:59:59.999Z', 'time_high': '2020-04-13T00:00:03.000Z', 'time_low': '2020-04-13T14:00:03.000Z', 'quote': {'USD': {'open': 6965.61663772, 'high': 6965.61663772, 'low': 6668.25976411, 'close': 6845.03769683, 'volume': 38619308647.4394, 'market_cap': 125422221237.296, 'timestamp': '2020-04-13T23:59:59.999Z'}}}, {'time_open': '2020-04-14T00:00:00.000Z', 'time_close': '2020-04-14T23:59:59.999Z', 'time_high': '2020-04-14T17:12:05.000Z', 'time_low': '2020-04-14T08:41:03.000Z', 'quote': {'USD': {'open': 6843.28177662, 'high': 6958.55722441, 'low': 6793.82120931, 'close': 6842.42786097, 'volume': 34110434051.8629, 'market_cap': 125388687977.151, 'timestamp': '2020-04-14T23:59:59.999Z'}}}, {'time_open': '2020-04-15T00:00:00.000Z', 'time_close': '2020-04-15T23:59:59.999Z', 'time_high': '2020-04-15T04:43:00.000Z', 'time_low': '2020-04-15T23:41:00.000Z', 'quote': {'USD': {'open': 6845.56171696, 'high': 6928.66436972, 'low': 6633.40269245, 'close': 6642.10989286, 'volume': 32288311030.7598, 'market_cap': 121731940639.413, 'timestamp': '2020-04-15T23:59:59.999Z'}}}, {'time_open': '2020-04-16T00:00:00.000Z', 'time_close': '2020-04-16T23:59:59.999Z', 'time_high': '2020-04-16T23:03:03.000Z', 'time_low': '2020-04-16T00:32:03.000Z', 'quote': {'USD': {'open': 6640.45388894, 'high': 7134.45052778, 'low': 6555.50427487, 'close': 7116.80421777, 'volume': 46783242376.7001, 'market_cap': 130445413270, 'timestamp': '2020-04-16T23:59:59.999Z'}}}, {'time_open': '2020-04-17T00:00:00.000Z', 'time_close': '2020-04-17T23:59:59.999Z', 'time_high': '2020-04-17T23:38:03.000Z', 'time_low': '2020-04-17T15:03:04.000Z', 'quote': {'USD': {'open': 7116.55260865, 'high': 7167.18298759, 'low': 7050.33182989, 'close': 7096.18465879, 'volume': 32513423567.4314, 'market_cap': 130078472088.331, 'timestamp': '2020-04-17T23:59:59.999Z'}}}, {'time_open': '2020-04-18T00:00:00.000Z', 'time_close': '2020-04-18T23:59:59.999Z', 'time_high': '2020-04-18T23:38:03.000Z', 'time_low': '2020-04-18T00:01:04.000Z', 'quote': {'USD': {'open': 7092.29152293, 'high': 7269.95653094, 'low': 7089.24716763, 'close': 7257.66485847, 'volume': 32447188385.9262, 'market_cap': 133053136875.737, 'timestamp': '2020-04-18T23:59:59.999Z'}}}, {'time_open': '2020-04-19T00:00:00.000Z', 'time_close': '2020-04-19T23:59:59.999Z', 'time_high': '2020-04-19T04:34:03.000Z', 'time_low': '2020-04-19T14:44:00.000Z', 'quote': {'USD': {'open': 7260.92257873, 'high': 7280.52178187, 'low': 7167.05456229, 'close': 7189.42482356, 'volume': 31311210215.3203, 'market_cap': 131815853850.003, 'timestamp': '2020-04-19T23:59:59.999Z'}}}, {'time_open': '2020-04-20T00:00:00.000Z', 'time_close': '2020-04-20T23:59:59.999Z', 'time_high': '2020-04-20T04:07:04.000Z', 'time_low': '2020-04-20T20:06:04.000Z', 'quote': {'USD': {'open': 7186.8737411, 'high': 7240.29059686, 'low': 6835.50314462, 'close': 6881.95869275, 'volume': 37747113935.8454, 'market_cap': 126192239912.382, 'timestamp': '2020-04-20T23:59:59.999Z'}}}, {'time_open': '2020-04-21T00:00:00.000Z', 'time_close': '2020-04-21T23:59:59.999Z', 'time_high': '2020-04-21T07:28:00.000Z', 'time_low': '2020-04-21T12:00:04.000Z', 'quote': {'USD': {'open': 6879.78434985, 'high': 6934.55187057, 'low': 6834.44232463, 'close': 6880.32347375, 'volume': 32589741510.7266, 'market_cap': 126175238603.42, 'timestamp': '2020-04-21T23:59:59.999Z'}}}, {'time_open': '2020-04-22T00:00:00.000Z', 'time_close': '2020-04-22T23:59:59.999Z', 'time_high': '2020-04-22T17:37:06.000Z', 'time_low': '2020-04-22T01:15:05.000Z', 'quote': {'USD': {'open': 6879.44029975, 'high': 7145.86574462, 'low': 6867.78168929, 'close': 7117.20747869, 'volume': 33249153865.7605, 'market_cap': 130530916076.973, 'timestamp': '2020-04-22T23:59:59.999Z'}}}, {'time_open': '2020-04-23T00:00:00.000Z', 'time_close': '2020-04-23T23:59:59.999Z', 'time_high': '2020-04-23T19:49:00.000Z', 'time_low': '2020-04-23T11:23:00.000Z', 'quote': {'USD': {'open': 7121.30605911, 'high': 7491.78492971, 'low': 7081.5946281, 'close': 7429.72464927, 'volume': 43500782316.0712, 'market_cap': 136275638030.678, 'timestamp': '2020-04-23T23:59:59.999Z'}}}, {'time_open': '2020-04-24T00:00:00.000Z', 'time_close': '2020-04-24T23:59:59.999Z', 'time_high': '2020-04-24T21:31:04.000Z', 'time_low': '2020-04-24T00:00:04.000Z', 'quote': {'USD': {'open': 7434.18155636, 'high': 7574.19602617, 'low': 7434.18155636, 'close': 7550.90102725, 'volume': 34636526285.7972, 'market_cap': 138512029491.143, 'timestamp': '2020-04-24T23:59:59.999Z'}}}, {'time_open': '2020-04-25T00:00:00.000Z', 'time_close': '2020-04-25T23:59:59.999Z', 'time_high': '2020-04-25T15:54:04.000Z', 'time_low': '2020-04-25T19:29:00.000Z', 'quote': {'USD': {'open': 7550.48301195, 'high': 7641.36397705, 'low': 7521.67241878, 'close': 7569.93603405, 'volume': 32941541446.9347, 'market_cap': 138874072264.263, 'timestamp': '2020-04-25T23:59:59.999Z'}}}, {'time_open': '2020-04-26T00:00:00.000Z', 'time_close': '2020-04-26T23:59:59.999Z', 'time_high': '2020-04-26T14:44:00.000Z', 'time_low': '2020-04-26T00:08:04.000Z', 'quote': {'USD': {'open': 7570.13893823, 'high': 7700.59429483, 'low': 7561.40785333, 'close': 7679.86720422, 'volume': 33070154490.749, 'market_cap': 140903867572.585, 'timestamp': '2020-04-26T23:59:59.999Z'}}}, {'time_open': '2020-04-27T00:00:00.000Z', 'time_close': '2020-04-27T23:59:59.999Z', 'time_high': '2020-04-27T23:59:04.000Z', 'time_low': '2020-04-27T00:00:05.000Z', 'quote': {'USD': {'open': 7679.41895085, 'high': 7795.60083451, 'low': 7679.41895085, 'close': 7795.60083451, 'volume': 36162144724.7077, 'market_cap': 143040988589.571, 'timestamp': '2020-04-27T23:59:59.999Z'}}}, {'time_open': '2020-04-28T00:00:00.000Z', 'time_close': '2020-04-28T23:59:59.999Z', 'time_high': '2020-04-28T23:42:01.000Z', 'time_low': '2020-04-28T15:02:00.000Z', 'quote': {'USD': {'open': 7796.97044056, 'high': 7814.52714133, 'low': 7730.80654225, 'close': 7807.05845106, 'volume': 33187959920.9249, 'market_cap': 143266252261.336, 'timestamp': '2020-04-28T23:59:59.999Z'}}}, {'time_open': '2020-04-29T00:00:00.000Z', 'time_close': '2020-04-29T23:59:59.999Z', 'time_high': '2020-04-29T21:59:00.000Z', 'time_low': '2020-04-29T02:13:00.000Z', 'quote': {'USD': {'open': 7806.71256355, 'high': 8871.75372738, 'low': 7786.04929564, 'close': 8801.03776688, 'volume': 60201052202.5403, 'market_cap': 161522471384.783, 'timestamp': '2020-04-29T23:59:59.999Z'}}}, {'time_open': '2020-04-30T00:00:00.000Z', 'time_close': '2020-04-30T23:59:59.999Z', 'time_high': '2020-04-30T06:22:00.000Z', 'time_low': '2020-04-30T17:55:00.000Z', 'quote': {'USD': {'open': 8797.67005044, 'high': 9440.65067326, 'low': 8533.25593295, 'close': 8658.55417975, 'volume': 66964629541.3087, 'market_cap': 158922133909.094, 'timestamp': '2020-04-30T23:59:59.999Z'}}}, {'time_open': '2020-05-01T00:00:00.000Z', 'time_close': '2020-05-01T23:59:59.999Z', 'time_high': '2020-05-01T11:45:01.000Z', 'time_low': '2020-05-01T00:01:00.000Z', 'quote': {'USD': {'open': 8672.7819143, 'high': 9048.02383263, 'low': 8667.76321655, 'close': 8864.76680793, 'volume': 44068389996.9374, 'market_cap': 162722652380.246, 'timestamp': '2020-05-01T23:59:59.999Z'}}}, {'time_open': '2020-05-02T00:00:00.000Z', 'time_close': '2020-05-02T23:59:59.999Z', 'time_high': '2020-05-02T17:50:01.000Z', 'time_low': '2020-05-02T06:53:00.000Z', 'quote': {'USD': {'open': 8869.05761887, 'high': 9007.18780321, 'low': 8811.36632956, 'close': 8988.5962069, 'volume': 40134388683.2271, 'market_cap': 165012307599.614, 'timestamp': '2020-05-02T23:59:59.999Z'}}}, {'time_open': '2020-05-03T00:00:00.000Z', 'time_close': '2020-05-03T23:59:59.999Z', 'time_high': '2020-05-03T04:35:01.000Z', 'time_low': '2020-05-03T15:55:00.000Z', 'quote': {'USD': {'open': 8983.61414879, 'high': 9167.7813443, 'low': 8830.97125528, 'close': 8897.46850985, 'volume': 47101785174.2562, 'market_cap': 163358189150.984, 'timestamp': '2020-05-03T23:59:59.999Z'}}}, {'time_open': '2020-05-04T00:00:00.000Z', 'time_close': '2020-05-04T23:59:59.999Z', 'time_high': '2020-05-04T22:03:00.000Z', 'time_low': '2020-05-04T05:42:00.000Z', 'quote': {'USD': {'open': 8895.74487399, 'high': 8956.90651911, 'low': 8645.02412633, 'close': 8912.65460539, 'volume': 45718796275.5495, 'market_cap': 163654493632.392, 'timestamp': '2020-05-04T23:59:59.999Z'}}}, {'time_open': '2020-05-05T00:00:00.000Z', 'time_close': '2020-05-05T23:59:59.999Z', 'time_high': '2020-05-05T05:08:00.000Z', 'time_low': '2020-05-05T11:00:01.000Z', 'quote': {'USD': {'open': 8912.8321603, 'high': 9062.41456364, 'low': 8856.82715528, 'close': 9003.07017834, 'volume': 43148462663.1671, 'market_cap': 165332488791.878, 'timestamp': '2020-05-05T23:59:59.999Z'}}}, {'time_open': '2020-05-06T00:00:00.000Z', 'time_close': '2020-05-06T23:59:59.999Z', 'time_high': '2020-05-06T23:05:00.000Z', 'time_low': '2020-05-06T00:50:01.000Z', 'quote': {'USD': {'open': 9007.44125582, 'high': 9411.46787039, 'low': 8966.70598977, 'close': 9268.76208066, 'volume': 49371886931.4799, 'market_cap': 170229620935.298, 'timestamp': '2020-05-06T23:59:59.999Z'}}}, {'time_open': '2020-05-07T00:00:00.000Z', 'time_close': '2020-05-07T23:59:59.999Z', 'time_high': '2020-05-07T23:52:00.000Z', 'time_low': '2020-05-07T02:03:02.000Z', 'quote': {'USD': {'open': 9261.89505826, 'high': 9992.66392105, 'low': 9138.32257195, 'close': 9951.5187451, 'volume': 61112700562.079, 'market_cap': 182787376636.504, 'timestamp': '2020-05-07T23:59:59.999Z'}}}, {'time_open': '2020-05-08T00:00:00.000Z', 'time_close': '2020-05-08T23:59:59.999Z', 'time_high': '2020-05-08T00:53:01.000Z', 'time_low': '2020-05-08T07:05:01.000Z', 'quote': {'USD': {'open': 9936.16248196, 'high': 9996.74335304, 'low': 9767.17307027, 'close': 9842.66636785, 'volume': 51780748041.9506, 'market_cap': 180804859844.221, 'timestamp': '2020-05-08T23:59:59.999Z'}}}, {'time_open': '2020-05-09T00:00:00.000Z', 'time_close': '2020-05-09T23:59:59.999Z', 'time_high': '2020-05-09T01:16:01.000Z', 'time_low': '2020-05-09T11:48:00.000Z', 'quote': {'USD': {'open': 9840.90638396, 'high': 9913.86299284, 'low': 9580.64449235, 'close': 9593.89673363, 'volume': 46566121841.1111, 'market_cap': 176251395672.863, 'timestamp': '2020-05-09T23:59:59.999Z'}}}, {'time_open': '2020-05-10T00:00:00.000Z', 'time_close': '2020-05-10T23:59:59.999Z', 'time_high': '2020-05-10T00:02:03.000Z', 'time_low': '2020-05-10T17:02:01.000Z', 'quote': {'USD': {'open': 9591.16923131, 'high': 9595.58062909, 'low': 8395.10745112, 'close': 8756.43114193, 'volume': 63325279336.9553, 'market_cap': 160884755210.801, 'timestamp': '2020-05-10T23:59:59.999Z'}}}, {'time_open': '2020-05-11T00:00:00.000Z', 'time_close': '2020-05-11T23:59:59.999Z', 'time_high': '2020-05-11T12:31:00.000Z', 'time_low': '2020-05-11T18:24:01.000Z', 'quote': {'USD': {'open': 8755.5356389, 'high': 9033.47117613, 'low': 8374.32297508, 'close': 8601.79620238, 'volume': 57119858801.9446, 'market_cap': 158059235275.589, 'timestamp': '2020-05-11T23:59:59.999Z'}}}, {'time_open': '2020-05-12T00:00:00.000Z', 'time_close': '2020-05-12T23:59:59.999Z', 'time_high': '2020-05-12T17:22:01.000Z', 'time_low': '2020-05-12T00:05:01.000Z', 'quote': {'USD': {'open': 8610.38621232, 'high': 8949.89797874, 'low': 8569.64398804, 'close': 8804.47781074, 'volume': 42142717533.1676, 'market_cap': 161791577300.916, 'timestamp': '2020-05-12T23:59:59.999Z'}}}, {'time_open': '2020-05-13T00:00:00.000Z', 'time_close': '2020-05-13T23:59:59.999Z', 'time_high': '2020-05-13T21:28:01.000Z', 'time_low': '2020-05-13T00:00:01.000Z', 'quote': {'USD': {'open': 8805.38781338, 'high': 9317.87855411, 'low': 8805.38781338, 'close': 9269.98770576, 'volume': 45558144023.0156, 'market_cap': 170352710071.21, 'timestamp': '2020-05-13T23:59:59.999Z'}}}, {'time_open': '2020-05-14T00:00:00.000Z', 'time_close': '2020-05-14T23:59:59.999Z', 'time_high': '2020-05-14T10:10:00.000Z', 'time_low': '2020-05-14T01:48:01.000Z', 'quote': {'USD': {'open': 9271.32863776, 'high': 9793.26820869, 'low': 9255.03484619, 'close': 9733.72147137, 'volume': 56426907637.2912, 'market_cap': 178881641547.089, 'timestamp': '2020-05-14T23:59:59.999Z'}}}, {'time_open': '2020-05-15T00:00:00.000Z', 'time_close': '2020-05-15T23:59:59.999Z', 'time_high': '2020-05-15T00:05:01.000Z', 'time_low': '2020-05-15T20:58:00.000Z', 'quote': {'USD': {'open': 9734.29077525, 'high': 9755.82849814, 'low': 9261.3979997, 'close': 9328.19722645, 'volume': 48158802327.3442, 'market_cap': 171436341789.485, 'timestamp': '2020-05-15T23:59:59.999Z'}}}, {'time_open': '2020-05-16T00:00:00.000Z', 'time_close': '2020-05-16T23:59:59.999Z', 'time_high': '2020-05-16T05:32:00.000Z', 'time_low': '2020-05-16T00:19:00.000Z', 'quote': {'USD': {'open': 9333.23987276, 'high': 9564.20498908, 'low': 9260.69416318, 'close': 9377.0140257, 'volume': 36164766407.6309, 'market_cap': 172340956578.561, 'timestamp': '2020-05-16T23:59:59.999Z'}}}, {'time_open': '2020-05-17T00:00:00.000Z', 'time_close': '2020-05-17T23:59:59.999Z', 'time_high': '2020-05-17T16:15:00.000Z', 'time_low': '2020-05-17T00:08:00.000Z', 'quote': {'USD': {'open': 9374.92998661, 'high': 9823.0022878, 'low': 9349.5460711, 'close': 9670.73937122, 'volume': 40084250662.9587, 'market_cap': 177745404470.085, 'timestamp': '2020-05-17T23:59:59.999Z'}}}, {'time_open': '2020-05-18T00:00:00.000Z', 'time_close': '2020-05-18T23:59:59.999Z', 'time_high': '2020-05-18T01:43:00.000Z', 'time_low': '2020-05-18T10:03:00.000Z', 'quote': {'USD': {'open': 9675.69498013, 'high': 9906.03020325, 'low': 9570.35898532, 'close': 9726.5748149, 'volume': 41827139895.6194, 'market_cap': 178779483463.616, 'timestamp': '2020-05-18T23:59:59.999Z'}}}, {'time_open': '2020-05-19T00:00:00.000Z', 'time_close': '2020-05-19T23:59:59.999Z', 'time_high': '2020-05-19T11:22:01.000Z', 'time_low': '2020-05-19T05:31:03.000Z', 'quote': {'USD': {'open': 9727.06360375, 'high': 9836.04752405, 'low': 9539.62405543, 'close': 9729.0379192, 'volume': 39254288954.9774, 'market_cap': 178831635026.347, 'timestamp': '2020-05-19T23:59:59.999Z'}}}, {'time_open': '2020-05-20T00:00:00.000Z', 'time_close': '2020-05-20T23:59:59.999Z', 'time_high': '2020-05-20T06:42:00.000Z', 'time_low': '2020-05-20T17:24:00.000Z', 'quote': {'USD': {'open': 9725.32936525, 'high': 9804.79388786, 'low': 9447.20154126, 'close': 9522.98115678, 'volume': 36546239702.5477, 'market_cap': 175050963474.872, 'timestamp': '2020-05-20T23:59:59.999Z'}}}, {'time_open': '2020-05-21T00:00:00.000Z', 'time_close': '2020-05-21T23:59:59.999Z', 'time_high': '2020-05-21T00:45:00.000Z', 'time_low': '2020-05-21T19:01:00.000Z', 'quote': {'USD': {'open': 9522.74008319, 'high': 9555.24217533, 'low': 8869.93110855, 'close': 9081.76202252, 'volume': 39326160532.4299, 'market_cap': 166947987863.53, 'timestamp': '2020-05-21T23:59:59.999Z'}}}, {'time_open': '2020-05-22T00:00:00.000Z', 'time_close': '2020-05-22T23:59:59.999Z', 'time_high': '2020-05-22T17:07:02.000Z', 'time_low': '2020-05-22T04:43:00.000Z', 'quote': {'USD': {'open': 9080.33473763, 'high': 9232.93609283, 'low': 9008.63827133, 'close': 9182.57751787, 'volume': 29810773699.2271, 'market_cap': 168807619957.283, 'timestamp': '2020-05-22T23:59:59.999Z'}}}, {'time_open': '2020-05-23T00:00:00.000Z', 'time_close': '2020-05-23T23:59:59.999Z', 'time_high': '2020-05-23T03:28:00.000Z', 'time_low': '2020-05-23T10:32:01.000Z', 'quote': {'USD': {'open': 9185.06272737, 'high': 9302.50164919, 'low': 9118.10885548, 'close': 9209.28742769, 'volume': 27727866811.6695, 'market_cap': 169305492439.588, 'timestamp': '2020-05-23T23:59:59.999Z'}}}, {'time_open': '2020-05-24T00:00:00.000Z', 'time_close': '2020-05-24T23:59:59.999Z', 'time_high': '2020-05-24T10:28:02.000Z', 'time_low': '2020-05-24T23:48:00.000Z', 'quote': {'USD': {'open': 9212.28340427, 'high': 9288.40401564, 'low': 8787.251002, 'close': 8790.36800074, 'volume': 32518803299.5833, 'market_cap': 161610414642.629, 'timestamp': '2020-05-24T23:59:59.999Z'}}}, {'time_open': '2020-05-25T00:00:00.000Z', 'time_close': '2020-05-25T23:59:59.999Z', 'time_high': '2020-05-25T19:58:00.000Z', 'time_low': '2020-05-25T11:01:02.000Z', 'quote': {'USD': {'open': 8786.10769511, 'high': 8951.00563809, 'low': 8719.66836224, 'close': 8906.93476142, 'volume': 31288157264.1934, 'market_cap': 163760453116.409, 'timestamp': '2020-05-25T23:59:59.999Z'}}}, {'time_open': '2020-05-26T00:00:00.000Z', 'time_close': '2020-05-26T23:59:59.999Z', 'time_high': '2020-05-26T08:27:00.000Z', 'time_low': '2020-05-26T16:00:01.000Z', 'quote': {'USD': {'open': 8909.58607327, 'high': 8991.9676255, 'low': 8757.29380384, 'close': 8835.05306073, 'volume': 29584186947.0227, 'market_cap': 162445535235.104, 'timestamp': '2020-05-26T23:59:59.999Z'}}}, {'time_open': '2020-05-27T00:00:00.000Z', 'time_close': '2020-05-27T23:59:59.999Z', 'time_high': '2020-05-27T17:58:01.000Z', 'time_low': '2020-05-27T00:04:01.000Z', 'quote': {'USD': {'open': 8837.3812128, 'high': 9203.32051535, 'low': 8834.15742919, 'close': 9181.01794762, 'volume': 32740536902.3266, 'market_cap': 168814700531.386, 'timestamp': '2020-05-27T23:59:59.999Z'}}}, {'time_open': '2020-05-28T00:00:00.000Z', 'time_close': '2020-05-28T23:59:59.999Z', 'time_high': '2020-05-28T23:32:01.000Z', 'time_low': '2020-05-28T08:09:06.000Z', 'quote': {'USD': {'open': 9184.94499772, 'high': 9546.31960175, 'low': 9148.45714843, 'close': 9525.7510947, 'volume': 34367073114.464, 'market_cap': 175161235290.292, 'timestamp': '2020-05-28T23:59:59.999Z'}}}, {'time_open': '2020-05-29T00:00:00.000Z', 'time_close': '2020-05-29T23:59:59.999Z', 'time_high': '2020-05-29T00:17:01.000Z', 'time_low': '2020-05-29T11:19:00.000Z', 'quote': {'USD': {'open': 9528.35562913, 'high': 9573.66681733, 'low': 9379.33894613, 'close': 9439.12439045, 'volume': 32896642044.2639, 'market_cap': 173575756364.005, 'timestamp': '2020-05-29T23:59:59.999Z'}}}, {'time_open': '2020-05-30T00:00:00.000Z', 'time_close': '2020-05-30T23:59:59.999Z', 'time_high': '2020-05-30T23:17:01.000Z', 'time_low': '2020-05-30T03:52:00.000Z', 'quote': {'USD': {'open': 9438.91400926, 'high': 9704.03030928, 'low': 9366.72941775, 'close': 9700.41407169, 'volume': 32722975141.2035, 'market_cap': 178390129757.676, 'timestamp': '2020-05-30T23:59:59.999Z'}}}, {'time_open': '2020-05-31T00:00:00.000Z', 'time_close': '2020-05-31T23:59:59.999Z', 'time_high': '2020-05-31T00:01:01.000Z', 'time_low': '2020-05-31T23:46:01.000Z', 'quote': {'USD': {'open': 9700.10569689, 'high': 9700.34389507, 'low': 9432.29679512, 'close': 9461.05891806, 'volume': 27773290298.5099, 'market_cap': 173997151929.677, 'timestamp': '2020-05-31T23:59:59.999Z'}}}, {'time_open': '2020-06-01T00:00:00.000Z', 'time_close': '2020-06-01T23:59:59.999Z', 'time_high': '2020-06-01T23:30:01.000Z', 'time_low': '2020-06-01T23:32:02.000Z', 'quote': {'USD': {'open': 9463.6056622, 'high': 10199.5649719, 'low': 9450.89911148, 'close': 10167.2681012, 'volume': 35198901068.3888, 'market_cap': 186993405740.449, 'timestamp': '2020-06-01T23:59:59.999Z'}}}, {'time_open': '2020-06-02T00:00:00.000Z', 'time_close': '2020-06-02T23:59:59.999Z', 'time_high': '2020-06-02T14:49:00.000Z', 'time_low': '2020-06-02T14:48:01.000Z', 'quote': {'USD': {'open': 10162.9731448, 'high': 10182.3407084, 'low': 9460.57137098, 'close': 9529.80414872, 'volume': 39137252108.6748, 'market_cap': 175277218229.261, 'timestamp': '2020-06-02T23:59:59.999Z'}}}, {'time_open': '2020-06-03T00:00:00.000Z', 'time_close': '2020-06-03T23:59:59.999Z', 'time_high': '2020-06-03T23:57:00.000Z', 'time_low': '2020-06-03T05:29:01.000Z', 'quote': {'USD': {'open': 9533.76049336, 'high': 9682.85947041, 'low': 9471.84640611, 'close': 9656.71776526, 'volume': 25007459262.1552, 'market_cap': 177619631125.589, 'timestamp': '2020-06-03T23:59:59.999Z'}}}, {'time_open': '2020-06-04T00:00:00.000Z', 'time_close': '2020-06-04T23:59:59.999Z', 'time_high': '2020-06-04T18:25:00.000Z', 'time_low': '2020-06-04T11:37:01.000Z', 'quote': {'USD': {'open': 9655.85445253, 'high': 9887.6106294, 'low': 9525.24667912, 'close': 9800.63659532, 'volume': 25921805071.9826, 'market_cap': 180276153545.029, 'timestamp': '2020-06-04T23:59:59.999Z'}}}, {'time_open': '2020-06-05T00:00:00.000Z', 'time_close': '2020-06-05T23:59:59.999Z', 'time_high': '2020-06-05T09:17:00.000Z', 'time_low': '2020-06-05T15:19:01.000Z', 'quote': {'USD': {'open': 9800.21547674, 'high': 9869.2369055, 'low': 9663.21633712, 'close': 9665.53278908, 'volume': 23509628646.2021, 'market_cap': 177801825144.882, 'timestamp': '2020-06-05T23:59:59.999Z'}}}, {'time_open': '2020-06-06T00:00:00.000Z', 'time_close': '2020-06-06T23:59:59.999Z', 'time_high': '2020-06-06T12:17:01.000Z', 'time_low': '2020-06-06T02:16:01.000Z', 'quote': {'USD': {'open': 9664.90477464, 'high': 9773.43201601, 'low': 9591.02453467, 'close': 9653.67926335, 'volume': 20438419222.3341, 'market_cap': 177595657884.165, 'timestamp': '2020-06-06T23:59:59.999Z'}}}, {'time_open': '2020-06-07T00:00:00.000Z', 'time_close': '2020-06-07T23:59:59.999Z', 'time_high': '2020-06-07T23:22:00.000Z', 'time_low': '2020-06-07T14:07:00.000Z', 'quote': {'USD': {'open': 9653.00332503, 'high': 9768.49790176, 'low': 9458.1504702, 'close': 9758.8524174, 'volume': 25015250845.6586, 'market_cap': 179540253701.404, 'timestamp': '2020-06-07T23:59:59.999Z'}}}, {'time_open': '2020-06-08T00:00:00.000Z', 'time_close': '2020-06-08T23:59:59.999Z', 'time_high': '2020-06-08T12:32:00.000Z', 'time_low': '2020-06-08T15:36:00.000Z', 'quote': {'USD': {'open': 9760.0632524, 'high': 9782.30649673, 'low': 9675.88590718, 'close': 9771.48948366, 'volume': 21486346311.9064, 'market_cap': 179782576533.652, 'timestamp': '2020-06-08T23:59:59.999Z'}}}, {'time_open': '2020-06-09T00:00:00.000Z', 'time_close': '2020-06-09T23:59:59.999Z', 'time_high': '2020-06-09T00:21:00.000Z', 'time_low': '2020-06-09T09:41:01.000Z', 'quote': {'USD': {'open': 9774.35993635, 'high': 9836.36896869, 'low': 9664.72013333, 'close': 9795.70019463, 'volume': 23717842782.9821, 'market_cap': 180237817527.031, 'timestamp': '2020-06-09T23:59:59.999Z'}}}, {'time_open': '2020-06-10T00:00:00.000Z', 'time_close': '2020-06-10T23:59:59.999Z', 'time_high': '2020-06-10T20:07:00.000Z', 'time_low': '2020-06-10T09:13:00.000Z', 'quote': {'USD': {'open': 9794.11951106, 'high': 9908.89655918, 'low': 9728.29114041, 'close': 9870.09445278, 'volume': 25706567600.5701, 'market_cap': 181616765438.402, 'timestamp': '2020-06-10T23:59:59.999Z'}}}, {'time_open': '2020-06-11T00:00:00.000Z', 'time_close': '2020-06-11T23:59:59.999Z', 'time_high': '2020-06-11T02:27:01.000Z', 'time_low': '2020-06-11T20:16:01.000Z', 'quote': {'USD': {'open': 9870.07852908, 'high': 9938.29767389, 'low': 9263.06958826, 'close': 9321.78129819, 'volume': 30247143440.179, 'market_cap': 171538133043.473, 'timestamp': '2020-06-11T23:59:59.999Z'}}}, {'time_open': '2020-06-12T00:00:00.000Z', 'time_close': '2020-06-12T23:59:59.999Z', 'time_high': '2020-06-12T14:04:00.000Z', 'time_low': '2020-06-12T00:09:01.000Z', 'quote': {'USD': {'open': 9320.69085457, 'high': 9540.46539289, 'low': 9285.85140439, 'close': 9480.84378943, 'volume': 22610564515.3124, 'market_cap': 174474896921.532, 'timestamp': '2020-06-12T23:59:59.999Z'}}}, {'time_open': '2020-06-13T00:00:00.000Z', 'time_close': '2020-06-13T23:59:59.999Z', 'time_high': '2020-06-13T19:50:00.000Z', 'time_low': '2020-06-13T04:31:00.000Z', 'quote': {'USD': {'open': 9480.73574979, 'high': 9493.21171489, 'low': 9396.00939365, 'close': 9475.27733834, 'volume': 17564322315.198, 'market_cap': 174381819725.142, 'timestamp': '2020-06-13T23:59:59.999Z'}}}, {'time_open': '2020-06-14T00:00:00.000Z', 'time_close': '2020-06-14T23:59:59.999Z', 'time_high': '2020-06-14T00:01:00.000Z', 'time_low': '2020-06-14T22:27:00.000Z', 'quote': {'USD': {'open': 9477.55403706, 'high': 9482.27093599, 'low': 9347.59379317, 'close': 9386.78789214, 'volume': 18991732745.507, 'market_cap': 172763239787.199, 'timestamp': '2020-06-14T23:59:59.999Z'}}}, {'time_open': '2020-06-15T00:00:00.000Z', 'time_close': '2020-06-15T23:59:59.999Z', 'time_high': '2020-06-15T21:19:00.000Z', 'time_low': '2020-06-15T06:34:00.000Z', 'quote': {'USD': {'open': 9386.03529073, 'high': 9504.86006526, 'low': 8990.1759467, 'close': 9450.70198692, 'volume': 26699704768.4568, 'market_cap': 173947607771.726, 'timestamp': '2020-06-15T23:59:59.999Z'}}}, {'time_open': '2020-06-16T00:00:00.000Z', 'time_close': '2020-06-16T23:59:59.999Z', 'time_high': '2020-06-16T06:25:00.000Z', 'time_low': '2020-06-16T00:59:00.000Z', 'quote': {'USD': {'open': 9454.26643056, 'high': 9579.43037458, 'low': 9400.44500832, 'close': 9538.0243743, 'volume': 21565537208.8567, 'market_cap': 175563963385.476, 'timestamp': '2020-06-16T23:59:59.999Z'}}}, {'time_open': '2020-06-17T00:00:00.000Z', 'time_close': '2020-06-17T23:59:59.999Z', 'time_high': '2020-06-17T00:08:00.000Z', 'time_low': '2020-06-17T20:08:01.000Z', 'quote': {'USD': {'open': 9533.78375101, 'high': 9540.42327076, 'low': 9327.33958675, 'close': 9480.25536624, 'volume': 20177709879.1518, 'market_cap': 174508805561.132, 'timestamp': '2020-06-17T23:59:59.999Z'}}}, {'time_open': '2020-06-18T00:00:00.000Z', 'time_close': '2020-06-18T23:59:59.999Z', 'time_high': '2020-06-18T00:01:00.000Z', 'time_low': '2020-06-18T21:19:00.000Z', 'quote': {'USD': {'open': 9481.56706237, 'high': 9482.78198635, 'low': 9328.39559548, 'close': 9411.84046197, 'volume': 17770083002.7017, 'market_cap': 173256688664.117, 'timestamp': '2020-06-18T23:59:59.999Z'}}}, {'time_open': '2020-06-19T00:00:00.000Z', 'time_close': '2020-06-19T23:59:59.999Z', 'time_high': '2020-06-19T12:33:00.000Z', 'time_low': '2020-06-19T23:55:00.000Z', 'quote': {'USD': {'open': 9410.29434848, 'high': 9440.87603373, 'low': 9274.29612136, 'close': 9288.01871603, 'volume': 19632223107.3844, 'market_cap': 170985625732.412, 'timestamp': '2020-06-19T23:59:59.999Z'}}}, {'time_open': '2020-06-20T00:00:00.000Z', 'time_close': '2020-06-20T23:59:59.999Z', 'time_high': '2020-06-20T22:45:01.000Z', 'time_low': '2020-06-20T16:08:00.000Z', 'quote': {'USD': {'open': 9290.96027975, 'high': 9394.97159448, 'low': 9247.37967261, 'close': 9332.340762, 'volume': 17130541557.3081, 'market_cap': 171809438650.585, 'timestamp': '2020-06-20T23:59:59.999Z'}}}, {'time_open': '2020-06-21T00:00:00.000Z', 'time_close': '2020-06-21T23:59:59.999Z', 'time_high': '2020-06-21T06:10:00.000Z', 'time_low': '2020-06-21T23:58:01.000Z', 'quote': {'USD': {'open': 9330.9264778, 'high': 9401.10749682, 'low': 9300.43050848, 'close': 9303.62971409, 'volume': 15324301168.8293, 'market_cap': 171289415078.632, 'timestamp': '2020-06-21T23:59:59.999Z'}}}, {'time_open': '2020-06-22T00:00:00.000Z', 'time_close': '2020-06-22T23:59:59.999Z', 'time_high': '2020-06-22T21:16:00.000Z', 'time_low': '2020-06-22T00:04:01.000Z', 'quote': {'USD': {'open': 9300.91545819, 'high': 9655.07321812, 'low': 9296.87166573, 'close': 9648.71760979, 'volume': 21104009513.9664, 'market_cap': 177651397436.609, 'timestamp': '2020-06-22T23:59:59.999Z'}}}, {'time_open': '2020-06-23T00:00:00.000Z', 'time_close': '2020-06-23T23:59:59.999Z', 'time_high': '2020-06-23T16:05:00.000Z', 'time_low': '2020-06-23T01:59:00.000Z', 'quote': {'USD': {'open': 9644.07594221, 'high': 9670.54076171, 'low': 9547.24708412, 'close': 9629.65836578, 'volume': 17006433272.0405, 'market_cap': 177310052079.171, 'timestamp': '2020-06-23T23:59:59.999Z'}}}, {'time_open': '2020-06-24T00:00:00.000Z', 'time_close': '2020-06-24T23:59:59.999Z', 'time_high': '2020-06-24T06:12:00.000Z', 'time_low': '2020-06-24T15:58:00.000Z', 'quote': {'USD': {'open': 9632.14957943, 'high': 9680.36714624, 'low': 9278.23354695, 'close': 9313.61034868, 'volume': 18961716075.6046, 'market_cap': 171498781279.927, 'timestamp': '2020-06-24T23:59:59.999Z'}}}, {'time_open': '2020-06-25T00:00:00.000Z', 'time_close': '2020-06-25T23:59:59.999Z', 'time_high': '2020-06-25T21:18:00.000Z', 'time_low': '2020-06-25T03:43:00.000Z', 'quote': {'USD': {'open': 9314.12688901, 'high': 9340.16150568, 'low': 9095.32457939, 'close': 9264.81304308, 'volume': 18616048626.1063, 'market_cap': 170608289503.753, 'timestamp': '2020-06-25T23:59:59.999Z'}}}, {'time_open': '2020-06-26T00:00:00.000Z', 'time_close': '2020-06-26T23:59:59.999Z', 'time_high': '2020-06-26T01:17:00.000Z', 'time_low': '2020-06-26T14:44:00.000Z', 'quote': {'USD': {'open': 9260.99499378, 'high': 9310.51638223, 'low': 9101.73845201, 'close': 9162.91760386, 'volume': 18341465836.5998, 'market_cap': 168741367621.97, 'timestamp': '2020-06-26T23:59:59.999Z'}}}, {'time_open': '2020-06-27T00:00:00.000Z', 'time_close': '2020-06-27T23:59:59.999Z', 'time_high': '2020-06-27T08:18:00.000Z', 'time_low': '2020-06-27T23:15:01.000Z', 'quote': {'USD': {'open': 9167.82427849, 'high': 9207.81098342, 'low': 8998.21670066, 'close': 9045.39095672, 'volume': 17273093144.4037, 'market_cap': 166584831506.245, 'timestamp': '2020-06-27T23:59:59.999Z'}}}, {'time_open': '2020-06-28T00:00:00.000Z', 'time_close': '2020-06-28T23:59:59.999Z', 'time_high': '2020-06-28T16:20:01.000Z', 'time_low': '2020-06-28T04:56:01.000Z', 'quote': {'USD': {'open': 9048.46083712, 'high': 9197.54701677, 'low': 8975.52585473, 'close': 9143.58219104, 'volume': 14560870760.2209, 'market_cap': 168401806136.911, 'timestamp': '2020-06-28T23:59:59.999Z'}}}, {'time_open': '2020-06-29T00:00:00.000Z', 'time_close': '2020-06-29T23:59:59.999Z', 'time_high': '2020-06-29T22:11:00.000Z', 'time_low': '2020-06-29T13:46:00.000Z', 'quote': {'USD': {'open': 9140.02907078, 'high': 9237.57275525, 'low': 9041.87625573, 'close': 9190.85446467, 'volume': 16460547078.0368, 'market_cap': 169280659245.843, 'timestamp': '2020-06-29T23:59:59.999Z'}}}, {'time_open': '2020-06-30T00:00:00.000Z', 'time_close': '2020-06-30T23:59:59.999Z', 'time_high': '2020-06-30T02:07:00.000Z', 'time_low': '2020-06-30T13:21:00.000Z', 'quote': {'USD': {'open': 9185.58126105, 'high': 9217.83601269, 'low': 9084.83749244, 'close': 9137.99340026, 'volume': 15735797743.9923, 'market_cap': 168315606321.29, 'timestamp': '2020-06-30T23:59:59.999Z'}}}, {'time_open': '2020-07-01T00:00:00.000Z', 'time_close': '2020-07-01T23:59:59.999Z', 'time_high': '2020-07-01T17:57:00.000Z', 'time_low': '2020-07-01T03:45:00.000Z', 'quote': {'USD': {'open': 9145.98505502, 'high': 9309.75486362, 'low': 9104.73487906, 'close': 9228.32559024, 'volume': 15971550355.2327, 'market_cap': 169988756578.038, 'timestamp': '2020-07-01T23:59:59.999Z'}}}, {'time_open': '2020-07-02T00:00:00.000Z', 'time_close': '2020-07-02T23:59:59.999Z', 'time_high': '2020-07-02T13:42:00.000Z', 'time_low': '2020-07-02T16:47:00.000Z', 'quote': {'USD': {'open': 9231.13965322, 'high': 9274.96292273, 'low': 9036.6234943, 'close': 9123.41015432, 'volume': 16338916796.0184, 'market_cap': 168065586386.744, 'timestamp': '2020-07-02T23:59:59.999Z'}}}, {'time_open': '2020-07-03T00:00:00.000Z', 'time_close': '2020-07-03T23:59:59.999Z', 'time_high': '2020-07-03T01:14:01.000Z', 'time_low': '2020-07-03T23:44:00.000Z', 'quote': {'USD': {'open': 9124.84264611, 'high': 9202.34438443, 'low': 9058.79478198, 'close': 9087.30391103, 'volume': 13078970998.6402, 'market_cap': 167409720387.961, 'timestamp': '2020-07-03T23:59:59.999Z'}}}, {'time_open': '2020-07-04T00:00:00.000Z', 'time_close': '2020-07-04T23:59:59.999Z', 'time_high': '2020-07-04T17:57:00.000Z', 'time_low': '2020-07-04T11:08:01.000Z', 'quote': {'USD': {'open': 9084.23373428, 'high': 9183.29558274, 'low': 9053.62967104, 'close': 9132.48795051, 'volume': 12290528515.106, 'market_cap': 168251076677.956, 'timestamp': '2020-07-04T23:59:59.999Z'}}}, {'time_open': '2020-07-05T00:00:00.000Z', 'time_close': '2020-07-05T23:59:59.999Z', 'time_high': '2020-07-05T01:27:00.000Z', 'time_low': '2020-07-05T21:26:00.000Z', 'quote': {'USD': {'open': 9126.090803, 'high': 9162.18323157, 'low': 8977.01563525, 'close': 9073.94286936, 'volume': 12903406143.3498, 'market_cap': 167181726153.665, 'timestamp': '2020-07-05T23:59:59.999Z'}}}, {'time_open': '2020-07-06T00:00:00.000Z', 'time_close': '2020-07-06T23:59:59.999Z', 'time_high': '2020-07-06T23:59:01.000Z', 'time_low': '2020-07-06T00:29:00.000Z', 'quote': {'USD': {'open': 9072.85007426, 'high': 9375.47475925, 'low': 9058.6644583, 'close': 9375.47475925, 'volume': 17889263251.9634, 'market_cap': 172746103840.155, 'timestamp': '2020-07-06T23:59:59.999Z'}}}, {'time_open': '2020-07-07T00:00:00.000Z', 'time_close': '2020-07-07T23:59:59.999Z', 'time_high': '2020-07-07T00:26:01.000Z', 'time_low': '2020-07-07T11:38:00.000Z', 'quote': {'USD': {'open': 9349.16137441, 'high': 9360.61757468, 'low': 9201.81538154, 'close': 9252.27750386, 'volume': 13839652594.6508, 'market_cap': 170485472276.313, 'timestamp': '2020-07-07T23:59:59.999Z'}}}, {'time_open': '2020-07-08T00:00:00.000Z', 'time_close': '2020-07-08T23:59:59.999Z', 'time_high': '2020-07-08T22:44:00.000Z', 'time_low': '2020-07-08T00:20:02.000Z', 'quote': {'USD': {'open': 9253.02015436, 'high': 9450.33567174, 'low': 9249.49994806, 'close': 9428.3330848, 'volume': 19702359882.8975, 'market_cap': 173738543115.206, 'timestamp': '2020-07-08T23:59:59.999Z'}}}, {'time_open': '2020-07-09T00:00:00.000Z', 'time_close': '2020-07-09T23:59:59.999Z', 'time_high': '2020-07-09T00:04:01.000Z', 'time_low': '2020-07-09T19:46:00.000Z', 'quote': {'USD': {'open': 9427.99387728, 'high': 9431.37858131, 'low': 9234.99945975, 'close': 9277.96790642, 'volume': 18000702524.1277, 'market_cap': 170977231637.687, 'timestamp': '2020-07-09T23:59:59.999Z'}}}, {'time_open': '2020-07-10T00:00:00.000Z', 'time_close': '2020-07-10T23:59:59.999Z', 'time_high': '2020-07-10T23:37:00.000Z', 'time_low': '2020-07-10T07:27:01.000Z', 'quote': {'USD': {'open': 9273.35699507, 'high': 9287.47159361, 'low': 9118.00240742, 'close': 9278.8078672, 'volume': 16860035604.804, 'market_cap': 171001933826.989, 'timestamp': '2020-07-10T23:59:59.999Z'}}}, {'time_open': '2020-07-11T00:00:00.000Z', 'time_close': '2020-07-11T23:59:59.999Z', 'time_high': '2020-07-11T00:09:00.000Z', 'time_low': '2020-07-11T09:34:01.000Z', 'quote': {'USD': {'open': 9277.51196283, 'high': 9293.53268075, 'low': 9199.48551044, 'close': 9240.34632654, 'volume': 13249910444.0746, 'market_cap': 170302234777.528, 'timestamp': '2020-07-11T23:59:59.999Z'}}}, {'time_open': '2020-07-12T00:00:00.000Z', 'time_close': '2020-07-12T23:59:59.999Z', 'time_high': '2020-07-12T13:26:00.000Z', 'time_low': '2020-07-12T19:32:00.000Z', 'quote': {'USD': {'open': 9241.0550437, 'high': 9319.41941671, 'low': 9197.4503198, 'close': 9276.49985018, 'volume': 14452361906.8128, 'market_cap': 170977422928.131, 'timestamp': '2020-07-12T23:59:59.999Z'}}}, {'time_open': '2020-07-13T00:00:00.000Z', 'time_close': '2020-07-13T23:59:59.999Z', 'time_high': '2020-07-13T18:04:00.000Z', 'time_low': '2020-07-13T20:20:00.000Z', 'quote': {'USD': {'open': 9277.2046601, 'high': 9306.40492983, 'low': 9224.29284137, 'close': 9243.61385509, 'volume': 17519821266.4821, 'market_cap': 170379677119.097, 'timestamp': '2020-07-13T23:59:59.999Z'}}}, {'time_open': '2020-07-14T00:00:00.000Z', 'time_close': '2020-07-14T23:59:59.999Z', 'time_high': '2020-07-14T20:18:00.000Z', 'time_low': '2020-07-14T11:23:00.000Z', 'quote': {'USD': {'open': 9238.7032275, 'high': 9283.84214229, 'low': 9171.66111846, 'close': 9243.21341642, 'volume': 18085038362.4529, 'market_cap': 170380670524.821, 'timestamp': '2020-07-14T23:59:59.999Z'}}}, {'time_open': '2020-07-15T00:00:00.000Z', 'time_close': '2020-07-15T23:59:59.999Z', 'time_high': '2020-07-15T00:34:00.000Z', 'time_low': '2020-07-15T19:17:00.000Z', 'quote': {'USD': {'open': 9241.89699957, 'high': 9275.32512547, 'low': 9171.93355443, 'close': 9192.83736784, 'volume': 15844731575.2007, 'market_cap': 169460074575.96, 'timestamp': '2020-07-15T23:59:59.999Z'}}}, {'time_open': '2020-07-16T00:00:00.000Z', 'time_close': '2020-07-16T23:59:59.999Z', 'time_high': '2020-07-16T00:03:01.000Z', 'time_low': '2020-07-16T10:08:01.000Z', 'quote': {'USD': {'open': 9191.9802336, 'high': 9214.31269823, 'low': 9088.94740241, 'close': 9132.22786293, 'volume': 15713967522.662, 'market_cap': 168350501976.25, 'timestamp': '2020-07-16T23:59:59.999Z'}}}, {'time_open': '2020-07-17T00:00:00.000Z', 'time_close': '2020-07-17T23:59:59.999Z', 'time_high': '2020-07-17T12:24:00.000Z', 'time_low': '2020-07-17T05:46:01.000Z', 'quote': {'USD': {'open': 9131.8121414, 'high': 9182.25430793, 'low': 9089.20245471, 'close': 9151.39223963, 'volume': 13944570749.4994, 'market_cap': 168710427573.953, 'timestamp': '2020-07-17T23:59:59.999Z'}}}, {'time_open': '2020-07-18T00:00:00.000Z', 'time_close': '2020-07-18T23:59:59.999Z', 'time_high': '2020-07-18T15:39:00.000Z', 'time_low': '2020-07-18T23:46:00.000Z', 'quote': {'USD': {'open': 9151.18404834, 'high': 9230.98350533, 'low': 9100.82441002, 'close': 9159.03990531, 'volume': 12252601474.7851, 'market_cap': 168858972268.985, 'timestamp': '2020-07-18T23:59:59.999Z'}}}, {'time_open': '2020-07-19T00:00:00.000Z', 'time_close': '2020-07-19T23:59:59.999Z', 'time_high': '2020-07-19T23:45:00.000Z', 'time_low': '2020-07-19T17:09:00.000Z', 'quote': {'USD': {'open': 9158.00603543, 'high': 9201.39848305, 'low': 9097.63308598, 'close': 9185.81691242, 'volume': 12939002784.0054, 'market_cap': 169360219986.106, 'timestamp': '2020-07-19T23:59:59.999Z'}}}, {'time_open': '2020-07-20T00:00:00.000Z', 'time_close': '2020-07-20T23:59:59.999Z', 'time_high': '2020-07-20T01:42:00.000Z', 'time_low': '2020-07-20T14:08:00.000Z', 'quote': {'USD': {'open': 9187.22037014, 'high': 9214.27062879, 'low': 9137.50962153, 'close': 9164.2313647, 'volume': 13755604145.7171, 'market_cap': 168970262858.503, 'timestamp': '2020-07-20T23:59:59.999Z'}}}, {'time_open': '2020-07-21T00:00:00.000Z', 'time_close': '2020-07-21T23:59:59.999Z', 'time_high': '2020-07-21T13:31:01.000Z', 'time_low': '2020-07-21T00:11:01.000Z', 'quote': {'USD': {'open': 9162.51448207, 'high': 9407.26305599, 'low': 9149.3899187, 'close': 9374.88752808, 'volume': 18069581955.5535, 'market_cap': 172861732402.087, 'timestamp': '2020-07-21T23:59:59.999Z'}}}, {'time_open': '2020-07-22T00:00:00.000Z', 'time_close': '2020-07-22T23:59:59.999Z', 'time_high': '2020-07-22T23:55:01.000Z', 'time_low': '2020-07-22T08:04:01.000Z', 'quote': {'USD': {'open': 9375.08046428, 'high': 9530.5190089, 'low': 9319.65339503, 'close': 9525.36344997, 'volume': 16532254884.4441, 'market_cap': 175644844408.412, 'timestamp': '2020-07-22T23:59:59.999Z'}}}, {'time_open': '2020-07-23T00:00:00.000Z', 'time_close': '2020-07-23T23:59:59.999Z', 'time_high': '2020-07-23T17:08:01.000Z', 'time_low': '2020-07-23T14:22:00.000Z', 'quote': {'USD': {'open': 9527.14199636, 'high': 9610.24712467, 'low': 9483.00401906, 'close': 9581.07201141, 'volume': 18146399001.7048, 'market_cap': 176680237480.007, 'timestamp': '2020-07-23T23:59:59.999Z'}}}, {'time_open': '2020-07-24T00:00:00.000Z', 'time_close': '2020-07-24T23:59:59.999Z', 'time_high': '2020-07-24T21:05:00.000Z', 'time_low': '2020-07-24T07:06:01.000Z', 'quote': {'USD': {'open': 9585.51480236, 'high': 9623.33703153, 'low': 9481.45392527, 'close': 9536.89268563, 'volume': 16552768324.6558, 'market_cap': 175875016548.431, 'timestamp': '2020-07-24T23:59:59.999Z'}}}, {'time_open': '2020-07-25T00:00:00.000Z', 'time_close': '2020-07-25T23:59:59.999Z', 'time_high': '2020-07-25T21:02:00.000Z', 'time_low': '2020-07-25T01:11:00.000Z', 'quote': {'USD': {'open': 9539.48551544, 'high': 9704.55701308, 'low': 9530.21219614, 'close': 9677.11349729, 'volume': 16610070932.7937, 'market_cap': 178469614078.301, 'timestamp': '2020-07-25T23:59:59.999Z'}}}, {'time_open': '2020-07-26T00:00:00.000Z', 'time_close': '2020-07-26T23:59:59.999Z', 'time_high': '2020-07-26T10:09:01.000Z', 'time_low': '2020-07-26T10:08:00.000Z', 'quote': {'USD': {'open': 9680.23483128, 'high': 10023.807661, 'low': 9652.84720642, 'close': 9905.16724705, 'volume': 20507998996.6863, 'market_cap': 182685328095.43, 'timestamp': '2020-07-26T23:59:59.999Z'}}}, {'time_open': '2020-07-27T00:00:00.000Z', 'time_close': '2020-07-27T23:59:59.999Z', 'time_high': '2020-07-27T01:22:00.000Z', 'time_low': '2020-07-27T01:20:00.000Z', 'quote': {'USD': {'open': 9905.21791377, 'high': 11298.2217576, 'low': 9903.97011125, 'close': 10990.8733998, 'volume': 35359749590.1205, 'market_cap': 202719581736.842, 'timestamp': '2020-07-27T23:59:59.999Z'}}}, {'time_open': '2020-07-28T00:00:00.000Z', 'time_close': '2020-07-28T23:59:59.999Z', 'time_high': '2020-07-28T00:27:00.000Z', 'time_low': '2020-07-28T10:18:00.000Z', 'quote': {'USD': {'open': 11017.4638476, 'high': 11204.327602, 'low': 10632.6317033, 'close': 10912.8230505, 'volume': 28766551141.779, 'market_cap': 201290022192.811, 'timestamp': '2020-07-28T23:59:59.999Z'}}}, {'time_open': '2020-07-29T00:00:00.000Z', 'time_close': '2020-07-29T23:59:59.999Z', 'time_high': '2020-07-29T21:59:00.000Z', 'time_low': '2020-07-29T01:22:01.000Z', 'quote': {'USD': {'open': 10912.9529611, 'high': 11304.3970694, 'low': 10856.1413409, 'close': 11100.4681253, 'volume': 24617249714.5052, 'market_cap': 204761455132.909, 'timestamp': '2020-07-29T23:59:59.999Z'}}}, {'time_open': '2020-07-30T00:00:00.000Z', 'time_close': '2020-07-30T23:59:59.999Z', 'time_high': '2020-07-30T23:06:02.000Z', 'time_low': '2020-07-30T13:07:01.000Z', 'quote': {'USD': {'open': 11099.8328914, 'high': 11169.3566691, 'low': 10895.4554062, 'close': 11111.2142899, 'volume': 22857247900.667, 'market_cap': 204969047788, 'timestamp': '2020-07-30T23:59:59.999Z'}}}, {'time_open': '2020-07-31T00:00:00.000Z', 'time_close': '2020-07-31T23:59:59.999Z', 'time_high': '2020-07-31T16:16:00.000Z', 'time_low': '2020-07-31T03:54:01.000Z', 'quote': {'USD': {'open': 11110.2109424, 'high': 11415.8638958, 'low': 10987.0535485, 'close': 11323.4664207, 'volume': 23160469766.3921, 'market_cap': 208895308529.074, 'timestamp': '2020-07-31T23:59:59.999Z'}}}, {'time_open': '2020-08-01T00:00:00.000Z', 'time_close': '2020-08-01T23:59:59.999Z', 'time_high': '2020-08-01T20:43:01.000Z', 'time_low': '2020-08-01T01:06:01.000Z', 'quote': {'USD': {'open': 11322.5705008, 'high': 11794.7753933, 'low': 11239.6827355, 'close': 11759.5927707, 'volume': 26075670302.7985, 'market_cap': 216950669097.909, 'timestamp': '2020-08-01T23:59:59.999Z'}}}, {'time_open': '2020-08-02T00:00:00.000Z', 'time_close': '2020-08-02T23:59:59.999Z', 'time_high': '2020-08-02T04:21:00.000Z', 'time_low': '2020-08-02T13:07:00.000Z', 'quote': {'USD': {'open': 11758.7646653, 'high': 12034.1441504, 'low': 11018.1300423, 'close': 11053.613901, 'volume': 27410067336.0208, 'market_cap': 203936136729.627, 'timestamp': '2020-08-02T23:59:59.999Z'}}}, {'time_open': '2020-08-03T00:00:00.000Z', 'time_close': '2020-08-03T23:59:59.999Z', 'time_high': '2020-08-03T16:26:00.000Z', 'time_low': '2020-08-03T00:07:00.000Z', 'quote': {'USD': {'open': 11043.7688847, 'high': 11453.0787225, 'low': 11012.4147398, 'close': 11246.3487749, 'volume': 20271713443.2596, 'market_cap': 207503423455.952, 'timestamp': '2020-08-03T23:59:59.999Z'}}}, {'time_open': '2020-08-04T00:00:00.000Z', 'time_close': '2020-08-04T23:59:59.999Z', 'time_high': '2020-08-04T00:54:00.000Z', 'time_low': '2020-08-04T13:20:01.000Z', 'quote': {'USD': {'open': 11246.2032469, 'high': 11385.3815713, 'low': 11094.1453896, 'close': 11205.8929179, 'volume': 21250197042.2032, 'market_cap': 206767135617.319, 'timestamp': '2020-08-04T23:59:59.999Z'}}}, {'time_open': '2020-08-05T00:00:00.000Z', 'time_close': '2020-08-05T23:59:59.999Z', 'time_high': '2020-08-05T21:45:01.000Z', 'time_low': '2020-08-05T01:19:01.000Z', 'quote': {'USD': {'open': 11203.8230991, 'high': 11786.6168994, 'low': 11158.2851945, 'close': 11747.0228312, 'volume': 24411254471.1224, 'market_cap': 216761492405.85, 'timestamp': '2020-08-05T23:59:59.999Z'}}}, {'time_open': '2020-08-06T00:00:00.000Z', 'time_close': '2020-08-06T23:59:59.999Z', 'time_high': '2020-08-06T19:21:01.000Z', 'time_low': '2020-08-06T04:43:01.000Z', 'quote': {'USD': {'open': 11749.8713321, 'high': 11902.3359717, 'low': 11598.7138024, 'close': 11779.7732574, 'volume': 23400740340.1344, 'market_cap': 217377233001.076, 'timestamp': '2020-08-06T23:59:59.999Z'}}}, {'time_open': '2020-08-07T00:00:00.000Z', 'time_close': '2020-08-07T23:59:59.999Z', 'time_high': '2020-08-07T02:50:01.000Z', 'time_low': '2020-08-07T18:39:00.000Z', 'quote': {'USD': {'open': 11778.8942824, 'high': 11898.0384141, 'low': 11408.5940427, 'close': 11601.4727146, 'volume': 23132312867.154, 'market_cap': 214097928027.496, 'timestamp': '2020-08-07T23:59:59.999Z'}}}, {'time_open': '2020-08-08T00:00:00.000Z', 'time_close': '2020-08-08T23:59:59.999Z', 'time_high': '2020-08-08T12:18:00.000Z', 'time_low': '2020-08-08T05:25:00.000Z', 'quote': {'USD': {'open': 11604.5533476, 'high': 11800.0648506, 'low': 11558.4316317, 'close': 11754.0458135, 'volume': 17572057837.4054, 'market_cap': 216924147850.741, 'timestamp': '2020-08-08T23:59:59.999Z'}}}, {'time_open': '2020-08-09T00:00:00.000Z', 'time_close': '2020-08-09T23:59:59.999Z', 'time_high': '2020-08-09T00:38:00.000Z', 'time_low': '2020-08-09T18:01:00.000Z', 'quote': {'USD': {'open': 11737.3252342, 'high': 11806.0562765, 'low': 11548.7844464, 'close': 11675.7393433, 'volume': 17489608833.2939, 'market_cap': 215490364254.781, 'timestamp': '2020-08-09T23:59:59.999Z'}}}, {'time_open': '2020-08-10T00:00:00.000Z', 'time_close': '2020-08-10T23:59:59.999Z', 'time_high': '2020-08-10T04:11:00.000Z', 'time_low': '2020-08-10T00:00:00.000Z', 'quote': {'USD': {'open': 11662.2569338, 'high': 12045.1403178, 'low': 11662.2569338, 'close': 11878.1113253, 'volume': 26114112569.4156, 'market_cap': 219235405395.415, 'timestamp': '2020-08-10T23:59:59.999Z'}}}, {'time_open': '2020-08-11T00:00:00.000Z', 'time_close': '2020-08-11T23:59:59.999Z', 'time_high': '2020-08-11T01:45:00.000Z', 'time_low': '2020-08-11T21:11:01.000Z', 'quote': {'USD': {'open': 11881.64754, 'high': 11932.7111738, 'low': 11195.7092716, 'close': 11410.5256775, 'volume': 27039782639.9113, 'market_cap': 210616121944.733, 'timestamp': '2020-08-11T23:59:59.999Z'}}}, {'time_open': '2020-08-12T00:00:00.000Z', 'time_close': '2020-08-12T23:59:59.999Z', 'time_high': '2020-08-12T15:01:01.000Z', 'time_low': '2020-08-12T06:10:01.000Z', 'quote': {'USD': {'open': 11404.5968775, 'high': 11748.3964937, 'low': 11249.6054441, 'close': 11584.9345762, 'volume': 25064548486.4884, 'market_cap': 213846666475.048, 'timestamp': '2020-08-12T23:59:59.999Z'}}}, {'time_open': '2020-08-13T00:00:00.000Z', 'time_close': '2020-08-13T23:59:59.999Z', 'time_high': '2020-08-13T23:57:00.000Z', 'time_low': '2020-08-13T09:32:01.000Z', 'quote': {'USD': {'open': 11588.4055125, 'high': 11796.3961941, 'low': 11216.8725398, 'close': 11784.1373895, 'volume': 27522199497.2324, 'market_cap': 217534728412.949, 'timestamp': '2020-08-13T23:59:59.999Z'}}}, {'time_open': '2020-08-14T00:00:00.000Z', 'time_close': '2020-08-14T23:59:59.999Z', 'time_high': '2020-08-14T18:48:00.000Z', 'time_low': '2020-08-14T15:19:01.000Z', 'quote': {'USD': {'open': 11772.6593859, 'high': 12150.9936677, 'low': 11685.4554805, 'close': 11768.8706193, 'volume': 24237958589.0645, 'market_cap': 217265120502.897, 'timestamp': '2020-08-14T23:59:59.999Z'}}}, {'time_open': '2020-08-15T00:00:00.000Z', 'time_close': '2020-08-15T23:59:59.999Z', 'time_high': '2020-08-15T21:41:00.000Z', 'time_low': '2020-08-15T00:00:01.000Z', 'quote': {'USD': {'open': 11768.6971443, 'high': 11963.2030649, 'low': 11768.6971443, 'close': 11865.69857, 'volume': 23354924400.3362, 'market_cap': 219064372745.259, 'timestamp': '2020-08-15T23:59:59.999Z'}}}, {'time_open': '2020-08-16T00:00:00.000Z', 'time_close': '2020-08-16T23:59:59.999Z', 'time_high': '2020-08-16T04:02:00.000Z', 'time_low': '2020-08-16T12:18:00.000Z', 'quote': {'USD': {'open': 11866.6855801, 'high': 11934.9009151, 'low': 11737.1885988, 'close': 11892.8040631, 'volume': 20583375490.1685, 'market_cap': 219576092170.359, 'timestamp': '2020-08-16T23:59:59.999Z'}}}, {'time_open': '2020-08-17T00:00:00.000Z', 'time_close': '2020-08-17T23:59:59.999Z', 'time_high': '2020-08-17T16:05:00.000Z', 'time_low': '2020-08-17T06:09:00.000Z', 'quote': {'USD': {'open': 11895.6577737, 'high': 12359.0570221, 'low': 11806.6958823, 'close': 12254.4019083, 'volume': 28227687026.7691, 'market_cap': 226261747567.102, 'timestamp': '2020-08-17T23:59:59.999Z'}}}, {'time_open': '2020-08-18T00:00:00.000Z', 'time_close': '2020-08-18T23:59:59.999Z', 'time_high': '2020-08-18T03:05:01.000Z', 'time_low': '2020-08-18T16:13:01.000Z', 'quote': {'USD': {'open': 12251.8959698, 'high': 12335.7070704, 'low': 11954.5257491, 'close': 11991.2332456, 'volume': 26043227671.8792, 'market_cap': 221413097553.274, 'timestamp': '2020-08-18T23:59:59.999Z'}}}, {'time_open': '2020-08-19T00:00:00.000Z', 'time_close': '2020-08-19T23:59:59.999Z', 'time_high': '2020-08-19T01:23:01.000Z', 'time_low': '2020-08-19T20:26:01.000Z', 'quote': {'USD': {'open': 11990.8847804, 'high': 12028.9234443, 'low': 11687.3328305, 'close': 11758.2835921, 'volume': 24502851117.2582, 'market_cap': 217122068305.445, 'timestamp': '2020-08-19T23:59:59.999Z'}}}, {'time_open': '2020-08-20T00:00:00.000Z', 'time_close': '2020-08-20T23:59:59.999Z', 'time_high': '2020-08-20T21:30:01.000Z', 'time_low': '2020-08-20T06:00:00.000Z', 'quote': {'USD': {'open': 11761.499735, 'high': 11900.4111753, 'low': 11710.0633726, 'close': 11878.3716211, 'volume': 20175242944.6744, 'market_cap': 219350310325.759, 'timestamp': '2020-08-20T23:59:59.999Z'}}}, {'time_open': '2020-08-21T00:00:00.000Z', 'time_close': '2020-08-21T23:59:59.999Z', 'time_high': '2020-08-21T00:13:00.000Z', 'time_low': '2020-08-21T21:59:00.000Z', 'quote': {'USD': {'open': 11878.026439, 'high': 11899.2593199, 'low': 11564.9793191, 'close': 11592.4890449, 'volume': 23762425998.9504, 'market_cap': 214082401860.976, 'timestamp': '2020-08-21T23:59:59.999Z'}}}, {'time_open': '2020-08-22T00:00:00.000Z', 'time_close': '2020-08-22T23:59:59.999Z', 'time_high': '2020-08-22T23:57:00.000Z', 'time_low': '2020-08-22T01:14:01.000Z', 'quote': {'USD': {'open': 11585.4775342, 'high': 11689.4073895, 'low': 11448.8060449, 'close': 11681.8255623, 'volume': 20224191305.9585, 'market_cap': 215742068894.983, 'timestamp': '2020-08-22T23:59:59.999Z'}}}, {'time_open': '2020-08-23T00:00:00.000Z', 'time_close': '2020-08-23T23:59:59.999Z', 'time_high': '2020-08-23T20:22:00.000Z', 'time_low': '2020-08-23T11:04:00.000Z', 'quote': {'USD': {'open': 11679.6959587, 'high': 11713.4297949, 'low': 11559.9212608, 'close': 11664.8479948, 'volume': 18482062657.8012, 'market_cap': 215439967321.336, 'timestamp': '2020-08-23T23:59:59.999Z'}}}, {'time_open': '2020-08-24T00:00:00.000Z', 'time_close': '2020-08-24T23:59:59.999Z', 'time_high': '2020-08-24T12:25:01.000Z', 'time_low': '2020-08-24T00:22:00.000Z', 'quote': {'USD': {'open': 11663.6895523, 'high': 11807.6323164, 'low': 11623.2504376, 'close': 11774.5958414, 'volume': 20681511754.5735, 'market_cap': 217477962650.242, 'timestamp': '2020-08-24T23:59:59.999Z'}}}, {'time_open': '2020-08-25T00:00:00.000Z', 'time_close': '2020-08-25T23:59:59.999Z', 'time_high': '2020-08-25T02:00:01.000Z', 'time_low': '2020-08-25T18:22:01.000Z', 'quote': {'USD': {'open': 11773.58935, 'high': 11778.2998953, 'low': 11189.8510492, 'close': 11366.1350817, 'volume': 26301509931.9274, 'market_cap': 209942744480.573, 'timestamp': '2020-08-25T23:59:59.999Z'}}}, {'time_open': '2020-08-26T00:00:00.000Z', 'time_close': '2020-08-26T23:59:59.999Z', 'time_high': '2020-08-26T16:41:01.000Z', 'time_low': '2020-08-26T00:51:00.000Z', 'quote': {'USD': {'open': 11366.8949329, 'high': 11530.0530661, 'low': 11296.993373, 'close': 11488.3634896, 'volume': 22466660957.6266, 'market_cap': 212210534428.287, 'timestamp': '2020-08-26T23:59:59.999Z'}}}, {'time_open': '2020-08-27T00:00:00.000Z', 'time_close': '2020-08-27T23:59:59.999Z', 'time_high': '2020-08-27T13:32:01.000Z', 'time_low': '2020-08-27T17:51:00.000Z', 'quote': {'USD': {'open': 11485.6083964, 'high': 11570.7863091, 'low': 11185.9418123, 'close': 11323.3970324, 'volume': 23240415075.9787, 'market_cap': 209172436816.551, 'timestamp': '2020-08-27T23:59:59.999Z'}}}, {'time_open': '2020-08-28T00:00:00.000Z', 'time_close': '2020-08-28T23:59:59.999Z', 'time_high': '2020-08-28T23:52:00.000Z', 'time_low': '2020-08-28T00:19:00.000Z', 'quote': {'USD': {'open': 11325.2956031, 'high': 11545.6154059, 'low': 11316.4224397, 'close': 11542.4997333, 'volume': 19807127587.5076, 'market_cap': 213231661583.088, 'timestamp': '2020-08-28T23:59:59.999Z'}}}, {'time_open': '2020-08-29T00:00:00.000Z', 'time_close': '2020-08-29T23:59:59.999Z', 'time_high': '2020-08-29T07:50:01.000Z', 'time_low': '2020-08-29T14:05:00.000Z', 'quote': {'USD': {'open': 11541.0543254, 'high': 11585.6406794, 'low': 11466.2933646, 'close': 11506.8653177, 'volume': 17485597759.1377, 'market_cap': 212583870983.482, 'timestamp': '2020-08-29T23:59:59.999Z'}}}, {'time_open': '2020-08-30T00:00:00.000Z', 'time_close': '2020-08-30T23:59:59.999Z', 'time_high': '2020-08-30T23:33:00.000Z', 'time_low': '2020-08-30T00:05:00.000Z', 'quote': {'USD': {'open': 11508.7139745, 'high': 11715.2648492, 'low': 11492.381773, 'close': 11711.506161, 'volume': 19760127944.6617, 'market_cap': 216373660045.36, 'timestamp': '2020-08-30T23:59:59.999Z'}}}, {'time_open': '2020-08-31T00:00:00.000Z', 'time_close': '2020-08-31T23:59:59.999Z', 'time_high': '2020-08-31T13:26:00.000Z', 'time_low': '2020-08-31T10:15:00.000Z', 'quote': {'USD': {'open': 11713.3062719, 'high': 11768.8767439, 'low': 11598.3184963, 'close': 11680.8204905, 'volume': 22285928250.3117, 'market_cap': 215817677821.857, 'timestamp': '2020-08-31T23:59:59.999Z'}}}, {'time_open': '2020-09-01T00:00:00.000Z', 'time_close': '2020-09-01T23:59:59.999Z', 'time_high': '2020-09-01T22:24:00.000Z', 'time_low': '2020-09-01T00:31:00.000Z', 'quote': {'USD': {'open': 11679.3166637, 'high': 12067.0812887, 'low': 11601.1286113, 'close': 11970.4787405, 'volume': 27311555343.111, 'market_cap': 221181001606.839, 'timestamp': '2020-09-01T23:59:59.999Z'}}}, {'time_open': '2020-09-02T00:00:00.000Z', 'time_close': '2020-09-02T23:59:59.999Z', 'time_high': '2020-09-02T00:00:01.000Z', 'time_low': '2020-09-02T15:08:02.000Z', 'quote': {'USD': {'open': 11964.8228043, 'high': 11964.8228043, 'low': 11290.7942647, 'close': 11414.0337325, 'volume': 28037405298.8447, 'market_cap': 210909793680.913, 'timestamp': '2020-09-02T23:59:59.999Z'}}}, {'time_open': '2020-09-03T00:00:00.000Z', 'time_close': '2020-09-03T23:59:59.999Z', 'time_high': '2020-09-03T00:50:01.000Z', 'time_low': '2020-09-03T23:43:00.000Z', 'quote': {'USD': {'open': 11407.1910772, 'high': 11443.0227947, 'low': 10182.4650856, 'close': 10245.296686, 'volume': 31927261554.7735, 'market_cap': 189322069063.343, 'timestamp': '2020-09-03T23:59:59.999Z'}}}, {'time_open': '2020-09-04T00:00:00.000Z', 'time_close': '2020-09-04T23:59:59.999Z', 'time_high': '2020-09-04T11:39:00.000Z', 'time_low': '2020-09-04T14:53:00.000Z', 'quote': {'USD': {'open': 10230.3651615, 'high': 10663.9200452, 'low': 10207.9402189, 'close': 10511.8138807, 'volume': 29965130373.7473, 'market_cap': 194255818703.632, 'timestamp': '2020-09-04T23:59:59.999Z'}}}, {'time_open': '2020-09-05T00:00:00.000Z', 'time_close': '2020-09-05T23:59:59.999Z', 'time_high': '2020-09-05T19:31:00.000Z', 'time_low': '2020-09-05T19:52:00.000Z', 'quote': {'USD': {'open': 10512.5301954, 'high': 10581.5714107, 'low': 9946.67532811, 'close': 10169.567221, 'volume': 44916565291.5468, 'market_cap': 187940141275.803, 'timestamp': '2020-09-05T23:59:59.999Z'}}}, {'time_open': '2020-09-06T00:00:00.000Z', 'time_close': '2020-09-06T23:59:59.999Z', 'time_high': '2020-09-06T21:55:01.000Z', 'time_low': '2020-09-06T05:23:00.000Z', 'quote': {'USD': {'open': 10167.2167634, 'high': 10353.928072, 'low': 10056.8857496, 'close': 10280.3517032, 'volume': 37071460174.4703, 'market_cap': 189997214393.289, 'timestamp': '2020-09-06T23:59:59.999Z'}}}, {'time_open': '2020-09-07T00:00:00.000Z', 'time_close': '2020-09-07T23:59:59.999Z', 'time_high': '2020-09-07T13:20:01.000Z', 'time_low': '2020-09-07T12:38:00.000Z', 'quote': {'USD': {'open': 10280.9976217, 'high': 10399.1534283, 'low': 9916.49293063, 'close': 10369.5637386, 'volume': 33703098409.3065, 'market_cap': 191657203885.383, 'timestamp': '2020-09-07T23:59:59.999Z'}}}, {'time_open': '2020-09-08T00:00:00.000Z', 'time_close': '2020-09-08T23:59:59.999Z', 'time_high': '2020-09-08T22:15:01.000Z', 'time_low': '2020-09-08T11:49:00.000Z', 'quote': {'USD': {'open': 10369.3069685, 'high': 10414.7752084, 'low': 9945.11015892, 'close': 10131.5166457, 'volume': 33430927462.2299, 'market_cap': 187267336727.676, 'timestamp': '2020-09-08T23:59:59.999Z'}}}, {'time_open': '2020-09-09T00:00:00.000Z', 'time_close': '2020-09-09T23:59:59.999Z', 'time_high': '2020-09-09T19:06:01.000Z', 'time_low': '2020-09-09T03:20:01.000Z', 'quote': {'USD': {'open': 10134.1515061, 'high': 10350.5427324, 'low': 10017.2510729, 'close': 10242.3477803, 'volume': 24128292754.8478, 'market_cap': 189325507175.126, 'timestamp': '2020-09-09T23:59:59.999Z'}}}, {'time_open': '2020-09-10T00:00:00.000Z', 'time_close': '2020-09-10T23:59:59.999Z', 'time_high': '2020-09-10T14:12:00.000Z', 'time_low': '2020-09-10T00:01:01.000Z', 'quote': {'USD': {'open': 10242.3301347, 'high': 10503.9125262, 'low': 10238.1358906, 'close': 10363.1390401, 'volume': 54406443210.5135, 'market_cap': 191568387061.555, 'timestamp': '2020-09-10T23:59:59.999Z'}}}, {'time_open': '2020-09-11T00:00:00.000Z', 'time_close': '2020-09-11T23:59:59.999Z', 'time_high': '2020-09-11T15:15:01.000Z', 'time_low': '2020-09-11T03:59:01.000Z', 'quote': {'USD': {'open': 10369.0283892, 'high': 10434.9225461, 'low': 10140.8366858, 'close': 10400.9146854, 'volume': 45201121774.7768, 'market_cap': 192275791668.534, 'timestamp': '2020-09-11T23:59:59.999Z'}}}, {'time_open': '2020-09-12T00:00:00.000Z', 'time_close': '2020-09-12T23:59:59.999Z', 'time_high': '2020-09-12T20:07:00.000Z', 'time_low': '2020-09-12T12:39:00.000Z', 'quote': {'USD': {'open': 10409.8617874, 'high': 10578.8382504, 'low': 10292.3865099, 'close': 10442.1706031, 'volume': 36750077323.5385, 'market_cap': 193049493276.593, 'timestamp': '2020-09-12T23:59:59.999Z'}}}, {'time_open': '2020-09-13T00:00:00.000Z', 'time_close': '2020-09-13T23:59:59.999Z', 'time_high': '2020-09-13T04:05:00.000Z', 'time_low': '2020-09-13T19:15:00.000Z', 'quote': {'USD': {'open': 10452.3990309, 'high': 10577.2152413, 'low': 10224.3299006, 'close': 10323.7557975, 'volume': 36506852789.3039, 'market_cap': 190870759062.079, 'timestamp': '2020-09-13T23:59:59.999Z'}}}, {'time_open': '2020-09-14T00:00:00.000Z', 'time_close': '2020-09-14T23:59:59.999Z', 'time_high': '2020-09-14T15:39:01.000Z', 'time_low': '2020-09-14T01:04:00.000Z', 'quote': {'USD': {'open': 10328.7341116, 'high': 10800.0110604, 'low': 10266.008771, 'close': 10680.8374328, 'volume': 35453581939.7213, 'market_cap': 197484272946.612, 'timestamp': '2020-09-14T23:59:59.999Z'}}}, {'time_open': '2020-09-15T00:00:00.000Z', 'time_close': '2020-09-15T23:59:59.999Z', 'time_high': '2020-09-15T12:45:01.000Z', 'time_low': '2020-09-15T09:07:01.000Z', 'quote': {'USD': {'open': 10677.7548513, 'high': 10938.6320402, 'low': 10656.4603435, 'close': 10796.9509861, 'volume': 32509451925.0468, 'market_cap': 199641896761.512, 'timestamp': '2020-09-15T23:59:59.999Z'}}}, {'time_open': '2020-09-16T00:00:00.000Z', 'time_close': '2020-09-16T23:59:59.999Z', 'time_high': '2020-09-16T16:51:01.000Z', 'time_low': '2020-09-16T00:56:00.000Z', 'quote': {'USD': {'open': 10797.7620187, 'high': 11100.1243423, 'low': 10704.8843495, 'close': 10974.9048915, 'volume': 30769986454.5301, 'market_cap': 202942925722.083, 'timestamp': '2020-09-16T23:59:59.999Z'}}}, {'time_open': '2020-09-17T00:00:00.000Z', 'time_close': '2020-09-17T23:59:59.999Z', 'time_high': '2020-09-17T00:54:01.000Z', 'time_low': '2020-09-17T13:17:01.000Z', 'quote': {'USD': {'open': 10973.2522347, 'high': 11037.4211271, 'low': 10774.6276667, 'close': 10948.9899152, 'volume': 38151810523.0524, 'market_cap': 202475761712.394, 'timestamp': '2020-09-17T23:59:59.999Z'}}}, {'time_open': '2020-09-18T00:00:00.000Z', 'time_close': '2020-09-18T23:59:59.999Z', 'time_high': '2020-09-18T09:52:01.000Z', 'time_low': '2020-09-18T18:08:00.000Z', 'quote': {'USD': {'open': 10951.8200208, 'high': 11034.908069, 'low': 10829.6568158, 'close': 10944.5858045, 'volume': 26341903912.3861, 'market_cap': 202405809880.581, 'timestamp': '2020-09-18T23:59:59.999Z'}}}, {'time_open': '2020-09-19T00:00:00.000Z', 'time_close': '2020-09-19T23:59:59.999Z', 'time_high': '2020-09-19T12:04:00.000Z', 'time_low': '2020-09-19T08:27:00.000Z', 'quote': {'USD': {'open': 10933.7526485, 'high': 11134.0927157, 'low': 10909.6183675, 'close': 11094.3462761, 'volume': 22764204007.5724, 'market_cap': 205185696336.192, 'timestamp': '2020-09-19T23:59:59.999Z'}}}, {'time_open': '2020-09-20T00:00:00.000Z', 'time_close': '2020-09-20T23:59:59.999Z', 'time_high': '2020-09-20T00:00:00.000Z', 'time_low': '2020-09-20T16:23:00.000Z', 'quote': {'USD': {'open': 11095.8697916, 'high': 11095.8697916, 'low': 10814.4770514, 'close': 10938.2712894, 'volume': 24699523787.7245, 'market_cap': 202308927892.353, 'timestamp': '2020-09-20T23:59:59.999Z'}}}, {'time_open': '2020-09-21T00:00:00.000Z', 'time_close': '2020-09-21T23:59:59.999Z', 'time_high': '2020-09-21T04:37:00.000Z', 'time_low': '2020-09-21T15:24:01.000Z', 'quote': {'USD': {'open': 10934.9255349, 'high': 10988.304783, 'low': 10380.2607189, 'close': 10462.2596185, 'volume': 28884999243.6721, 'market_cap': 193514327128.297, 'timestamp': '2020-09-21T23:59:59.999Z'}}}, {'time_open': '2020-09-22T00:00:00.000Z', 'time_close': '2020-09-22T23:59:59.999Z', 'time_high': '2020-09-22T21:44:00.000Z', 'time_low': '2020-09-22T08:02:01.000Z', 'quote': {'USD': {'open': 10459.6245084, 'high': 10568.0767512, 'low': 10382.7262965, 'close': 10538.4603213, 'volume': 23621787803.579, 'market_cap': 194932197947.436, 'timestamp': '2020-09-22T23:59:59.999Z'}}}, {'time_open': '2020-09-23T00:00:00.000Z', 'time_close': '2020-09-23T23:59:59.999Z', 'time_high': '2020-09-23T05:47:00.000Z', 'time_low': '2020-09-23T20:58:00.000Z', 'quote': {'USD': {'open': 10539.4566326, 'high': 10637.8479787, 'low': 10185.7742189, 'close': 10225.8639271, 'volume': 22986733996.61, 'market_cap': 189159114865.072, 'timestamp': '2020-09-23T23:59:59.999Z'}}}, {'time_open': '2020-09-24T00:00:00.000Z', 'time_close': '2020-09-24T23:59:59.999Z', 'time_high': '2020-09-24T23:01:01.000Z', 'time_low': '2020-09-24T00:13:00.000Z', 'quote': {'USD': {'open': 10227.4796296, 'high': 10765.7947139, 'low': 10215.2051725, 'close': 10745.5486217, 'volume': 23017536741.6127, 'market_cap': 198781560095.272, 'timestamp': '2020-09-24T23:59:59.999Z'}}}, {'time_open': '2020-09-25T00:00:00.000Z', 'time_close': '2020-09-25T23:59:59.999Z', 'time_high': '2020-09-25T20:31:01.000Z', 'time_low': '2020-09-25T11:12:01.000Z', 'quote': {'USD': {'open': 10747.4726158, 'high': 10757.5491007, 'low': 10594.0481307, 'close': 10702.290491, 'volume': 21232549821.0275, 'market_cap': 197992438297.243, 'timestamp': '2020-09-25T23:59:59.999Z'}}}, {'time_open': '2020-09-26T00:00:00.000Z', 'time_close': '2020-09-26T23:59:59.999Z', 'time_high': '2020-09-26T06:32:00.000Z', 'time_low': '2020-09-26T01:01:00.000Z', 'quote': {'USD': {'open': 10702.237564, 'high': 10778.4995131, 'low': 10682.0819241, 'close': 10754.4375117, 'volume': 18105012128.2159, 'market_cap': 198967310682.086, 'timestamp': '2020-09-26T23:59:59.999Z'}}}, {'time_open': '2020-09-27T00:00:00.000Z', 'time_close': '2020-09-27T23:59:59.999Z', 'time_high': '2020-09-27T01:26:00.000Z', 'time_low': '2020-09-27T09:32:00.000Z', 'quote': {'USD': {'open': 10752.9398441, 'high': 10804.7324691, 'low': 10643.4581872, 'close': 10774.4267558, 'volume': 18016880214.0968, 'market_cap': 199347495686.257, 'timestamp': '2020-09-27T23:59:59.999Z'}}}, {'time_open': '2020-09-28T00:00:00.000Z', 'time_close': '2020-09-28T23:59:59.999Z', 'time_high': '2020-09-28T13:34:01.000Z', 'time_low': '2020-09-28T23:55:01.000Z', 'quote': {'USD': {'open': 10771.6417403, 'high': 10949.1231486, 'low': 10716.6770746, 'close': 10721.3270409, 'volume': 22720365388.5599, 'market_cap': 198373626495.585, 'timestamp': '2020-09-28T23:59:59.999Z'}}}, {'time_open': '2020-09-29T00:00:00.000Z', 'time_close': '2020-09-29T23:59:59.999Z', 'time_high': '2020-09-29T23:27:01.000Z', 'time_low': '2020-09-29T17:27:01.000Z', 'quote': {'USD': {'open': 10712.46335, 'high': 10858.9398293, 'low': 10665.3447319, 'close': 10848.8304873, 'volume': 20459870041.5853, 'market_cap': 200742343862.991, 'timestamp': '2020-09-29T23:59:59.999Z'}}}, {'time_open': '2020-09-30T00:00:00.000Z', 'time_close': '2020-09-30T23:59:59.999Z', 'time_high': '2020-09-30T00:05:01.000Z', 'time_low': '2020-09-30T09:52:00.000Z', 'quote': {'USD': {'open': 10845.4113815, 'high': 10856.5282511, 'low': 10689.6709436, 'close': 10787.6178668, 'volume': 20759622009.897, 'market_cap': 199620143648.508, 'timestamp': '2020-09-30T23:59:59.999Z'}}}, {'time_open': '2020-10-01T00:00:00.000Z', 'time_close': '2020-10-01T23:59:59.999Z', 'time_high': '2020-10-01T10:00:00.000Z', 'time_low': '2020-10-01T18:07:00.000Z', 'quote': {'USD': {'open': 10785.0111206, 'high': 10915.8440154, 'low': 10493.5526754, 'close': 10623.3301247, 'volume': 27178227815.5939, 'market_cap': 196588367759.806, 'timestamp': '2020-10-01T23:59:59.999Z'}}}, {'time_open': '2020-10-02T00:00:00.000Z', 'time_close': '2020-10-02T23:59:59.999Z', 'time_high': '2020-10-02T04:32:01.000Z', 'time_low': '2020-10-02T05:38:00.000Z', 'quote': {'USD': {'open': 10624.3901581, 'high': 10662.8130247, 'low': 10440.3117125, 'close': 10585.1639779, 'volume': 23127839259.4894, 'market_cap': 195891161607.813, 'timestamp': '2020-10-02T23:59:59.999Z'}}}, {'time_open': '2020-10-03T00:00:00.000Z', 'time_close': '2020-10-03T23:59:59.999Z', 'time_high': '2020-10-03T19:47:01.000Z', 'time_low': '2020-10-03T10:49:00.000Z', 'quote': {'USD': {'open': 10583.8062913, 'high': 10614.0918294, 'low': 10527.9784973, 'close': 10565.4935211, 'volume': 17094010304.4639, 'market_cap': 195537099460.571, 'timestamp': '2020-10-03T23:59:59.999Z'}}}, {'time_open': '2020-10-04T00:00:00.000Z', 'time_close': '2020-10-04T23:59:59.999Z', 'time_high': '2020-10-04T20:36:07.000Z', 'time_low': '2020-10-04T01:42:01.000Z', 'quote': {'USD': {'open': 10567.9203405, 'high': 10700.7912422, 'low': 10531.3430984, 'close': 10684.4291882, 'volume': 17546792791.6245, 'market_cap': 197748815075.429, 'timestamp': '2020-10-04T23:59:59.999Z'}}}, {'time_open': '2020-10-05T00:00:00.000Z', 'time_close': '2020-10-05T23:59:59.999Z', 'time_high': '2020-10-05T23:59:00.000Z', 'time_low': '2020-10-05T06:40:00.000Z', 'quote': {'USD': {'open': 10688.0338225, 'high': 10804.0013503, 'low': 10646.4435814, 'close': 10804.0013503, 'volume': 19385191766.1453, 'market_cap': 199971325816.711, 'timestamp': '2020-10-05T23:59:59.999Z'}}}, {'time_open': '2020-10-06T00:00:00.000Z', 'time_close': '2020-10-06T23:59:59.999Z', 'time_high': '2020-10-06T00:02:00.000Z', 'time_low': '2020-10-06T21:07:00.000Z', 'quote': {'USD': {'open': 10799.7784165, 'high': 10803.4561558, 'low': 10565.1971742, 'close': 10621.6635913, 'volume': 22264958686.3509, 'market_cap': 196604996202.208, 'timestamp': '2020-10-06T23:59:59.999Z'}}}, {'time_open': '2020-10-07T00:00:00.000Z', 'time_close': '2020-10-07T23:59:59.999Z', 'time_high': '2020-10-07T19:17:00.000Z', 'time_low': '2020-10-07T04:14:00.000Z', 'quote': {'USD': {'open': 10619.8039255, 'high': 10687.2685668, 'low': 10591.9638314, 'close': 10679.1364777, 'volume': 17634388529.4093, 'market_cap': 197678953704.223, 'timestamp': '2020-10-07T23:59:59.999Z'}}}, {'time_open': '2020-10-08T00:00:00.000Z', 'time_close': '2020-10-08T23:59:59.999Z', 'time_high': '2020-10-08T17:25:00.000Z', 'time_low': '2020-10-08T09:19:00.000Z', 'quote': {'USD': {'open': 10677.6254161, 'high': 10939.7994956, 'low': 10569.8234036, 'close': 10923.6281759, 'volume': 21962121001.4681, 'market_cap': 202215604968.755, 'timestamp': '2020-10-08T23:59:59.999Z'}}}, {'time_open': '2020-10-09T00:00:00.000Z', 'time_close': '2020-10-09T23:59:59.999Z', 'time_high': '2020-10-09T12:53:01.000Z', 'time_low': '2020-10-09T00:50:01.000Z', 'quote': {'USD': {'open': 10925.4447612, 'high': 11105.8492658, 'low': 10862.9741373, 'close': 11079.4655318, 'volume': 22593173917.0058, 'market_cap': 205110190021.019, 'timestamp': '2020-10-09T23:59:59.999Z'}}}, {'time_open': '2020-10-10T00:00:00.000Z', 'time_close': '2020-10-10T23:59:59.999Z', 'time_high': '2020-10-10T03:16:44.000Z', 'time_low': '2020-10-10T00:01:41.000Z', 'quote': {'USD': {'open': 11059.14269142, 'high': 11442.2111099, 'low': 11056.94053325, 'close': 11296.3614282, 'volume': 22877978587.762783, 'market_cap': 209130239494.65012, 'timestamp': '2020-10-10T23:59:59.999Z'}}}, {'time_open': '2020-10-11T00:00:00.000Z', 'time_close': '2020-10-11T23:59:59.999Z', 'time_high': '2020-10-11T15:31:43.000Z', 'time_low': '2020-10-11T00:52:06.000Z', 'quote': {'USD': {'open': 11296.08178425, 'high': 11428.81376969, 'low': 11288.62766113, 'close': 11384.1819535, 'volume': 19968627059.96427, 'market_cap': 210766812992.17508, 'timestamp': '2020-10-11T23:59:59.999Z'}}}, {'time_open': '2020-10-12T00:00:00.000Z', 'time_close': '2020-10-12T23:59:59.999Z', 'time_high': '2020-10-12T22:16:42.000Z', 'time_low': '2020-10-12T10:47:43.000Z', 'quote': {'USD': {'open': 11392.63621516, 'high': 11698.4677363, 'low': 11240.68699569, 'close': 11555.3628878, 'volume': 26163972641.64605, 'market_cap': 213950143824.2092, 'timestamp': '2020-10-12T23:59:59.999Z'}}}, {'time_open': '2020-10-13T00:00:00.000Z', 'time_close': '2020-10-13T23:59:59.999Z', 'time_high': '2020-10-13T00:21:44.000Z', 'time_low': '2020-10-13T14:18:42.000Z', 'quote': {'USD': {'open': 11548.71975926, 'high': 11548.98483187, 'low': 11321.22451322, 'close': 11425.8994007, 'volume': 24241420250.858337, 'market_cap': 211565586739.30667, 'timestamp': '2020-10-13T23:59:59.999Z'}}}, {'time_open': '2020-10-14T00:00:00.000Z', 'time_close': '2020-10-14T23:59:59.999Z', 'time_high': '2020-10-14T14:02:43.000Z', 'time_low': '2020-10-14T18:41:44.000Z', 'quote': {'USD': {'open': 11429.04780192, 'high': 11539.97794666, 'low': 11307.8308683, 'close': 11429.50688675, 'volume': 24103426719.264656, 'market_cap': 211643390713.38098, 'timestamp': '2020-10-14T23:59:59.999Z'}}}, {'time_open': '2020-10-15T00:00:00.000Z', 'time_close': '2020-10-15T23:59:59.999Z', 'time_high': '2020-10-15T20:11:43.000Z', 'time_low': '2020-10-15T09:48:43.000Z', 'quote': {'USD': {'open': 11426.60259823, 'high': 11569.91418955, 'low': 11303.60351126, 'close': 11495.34965037, 'volume': 24487233057.769238, 'market_cap': 212873103428.00137, 'timestamp': '2020-10-15T23:59:59.999Z'}}}]\n"
          ],
          "name": "stdout"
        }
      ]
    },
    {
      "cell_type": "code",
      "metadata": {
        "id": "XiDKrK2IrYOE",
        "outputId": "5c3543db-7b36-4d8b-859f-0cfa40e42ec9",
        "colab": {
          "base_uri": "https://localhost:8080/",
          "height": 527
        }
      },
      "source": [
        "# convert it to pandas dataframe\n",
        "high = []\n",
        "low = []\n",
        "open = []\n",
        "close = []\n",
        "market_cap = []\n",
        "volume = []\n",
        "timestamp = []\n",
        "name = []\n",
        "symbol = []\n",
        "slug = []\n",
        "\n",
        "for j in quotes:\n",
        "  market_cap.append(j['quote']['USD']['market_cap'])\n",
        "  volume.append(j['quote']['USD']['volume'])\n",
        "  timestamp.append(j['quote']['USD']['timestamp'])\n",
        "  high.append(j['quote']['USD']['high'])\n",
        "  low.append(j['quote']['USD']['low'])\n",
        "  open.append(j['quote']['USD']['open'])\n",
        "  close.append(j['quote']['USD']['close'])\n",
        "\n",
        "df = pd.DataFrame(columns = ['high','low','open','close','marketcap', 'volume', 'timestamp','name'])\n",
        "df['high'] = high\n",
        "df['low'] = low\n",
        "df['open'] = open\n",
        "df['close'] = close\n",
        "df['marketcap'] = market_cap\n",
        "df['volume'] = volume\n",
        "df['timestamp'] = timestamp\n",
        "df['name'] = ['Bitcoin']*len(df)\n",
        "df.sort_values('timestamp')\n",
        "print(df.info())\n",
        "print(df)"
      ],
      "execution_count": 6,
      "outputs": [
        {
          "output_type": "stream",
          "text": [
            "<class 'pandas.core.frame.DataFrame'>\n",
            "RangeIndex: 289 entries, 0 to 288\n",
            "Data columns (total 8 columns):\n",
            " #   Column     Non-Null Count  Dtype  \n",
            "---  ------     --------------  -----  \n",
            " 0   high       289 non-null    float64\n",
            " 1   low        289 non-null    float64\n",
            " 2   open       289 non-null    float64\n",
            " 3   close      289 non-null    float64\n",
            " 4   marketcap  289 non-null    float64\n",
            " 5   volume     289 non-null    float64\n",
            " 6   timestamp  289 non-null    object \n",
            " 7   name       289 non-null    object \n",
            "dtypes: float64(6), object(2)\n",
            "memory usage: 18.2+ KB\n",
            "None\n",
            "             high           low  ...                 timestamp     name\n",
            "0     7254.330611   7174.944153  ...  2020-01-01T23:59:59.999Z  Bitcoin\n",
            "1     7212.155253   6935.269972  ...  2020-01-02T23:59:59.999Z  Bitcoin\n",
            "2     7413.715099   6914.995908  ...  2020-01-03T23:59:59.999Z  Bitcoin\n",
            "3     7427.385794   7309.514012  ...  2020-01-04T23:59:59.999Z  Bitcoin\n",
            "4     7544.496872   7400.535561  ...  2020-01-05T23:59:59.999Z  Bitcoin\n",
            "..            ...           ...  ...                       ...      ...\n",
            "284  11428.813770  11288.627661  ...  2020-10-11T23:59:59.999Z  Bitcoin\n",
            "285  11698.467736  11240.686996  ...  2020-10-12T23:59:59.999Z  Bitcoin\n",
            "286  11548.984832  11321.224513  ...  2020-10-13T23:59:59.999Z  Bitcoin\n",
            "287  11539.977947  11307.830868  ...  2020-10-14T23:59:59.999Z  Bitcoin\n",
            "288  11569.914190  11303.603511  ...  2020-10-15T23:59:59.999Z  Bitcoin\n",
            "\n",
            "[289 rows x 8 columns]\n"
          ],
          "name": "stdout"
        }
      ]
    },
    {
      "cell_type": "markdown",
      "metadata": {
        "id": "x5ZB4tKt_QRo"
      },
      "source": [
        "**Vis**"
      ]
    },
    {
      "cell_type": "code",
      "metadata": {
        "id": "7OUyB2eV_SGp",
        "outputId": "6266470b-9e27-4590-c892-75a26797289d",
        "colab": {
          "base_uri": "https://localhost:8080/",
          "height": 542
        }
      },
      "source": [
        "import plotly.graph_objects as go\n",
        "from plotly.subplots import make_subplots\n",
        "import numpy as np\n",
        "layout = {\n",
        "  \"title\": \"Bitcoin: Open Price from 2020-01-01 to \" + yesterday}\n",
        "fig = go.Figure(layout=layout)\n",
        "#fig = make_subplots(specs=[[{\"secondary_y\": True}]])\n",
        "\n",
        "fig.add_trace(go.Scatter(\n",
        "    x=df['timestamp'],\n",
        "    y=df['low'], \n",
        "    name=\"Low Price\",\n",
        "    line_color='red', \n",
        "    line=dict(width=0.2)))\n",
        "fig.add_trace(go.Scatter(\n",
        "    x=df['timestamp'],\n",
        "    y=df['high'],\n",
        "    name=\"High Price\",\n",
        "    fill='tonexty', # fill area between trace0 and trace1\n",
        "    mode='lines', line_color='green',\n",
        "    fillcolor=\"rgba(0,40,100,0.2)\",\n",
        "    line=dict(width=0.2)))\n",
        "fig.add_trace(\n",
        "  go.Scatter(\n",
        "      x=df['timestamp'], \n",
        "      y=df['open'], \n",
        "      line_color='black',\n",
        "      name=\"Open Price\"))\n",
        "# Set x-axis title\n",
        "fig.update_xaxes(title_text=\"Date\")\n",
        "\n",
        "# Set y-axes titles\n",
        "fig.update_yaxes(title_text=\"Price\")\n",
        "fig.show()"
      ],
      "execution_count": 16,
      "outputs": [
        {
          "output_type": "display_data",
          "data": {
            "text/html": [
              "<html>\n",
              "<head><meta charset=\"utf-8\" /></head>\n",
              "<body>\n",
              "    <div>\n",
              "            <script src=\"https://cdnjs.cloudflare.com/ajax/libs/mathjax/2.7.5/MathJax.js?config=TeX-AMS-MML_SVG\"></script><script type=\"text/javascript\">if (window.MathJax) {MathJax.Hub.Config({SVG: {font: \"STIX-Web\"}});}</script>\n",
              "                <script type=\"text/javascript\">window.PlotlyConfig = {MathJaxConfig: 'local'};</script>\n",
              "        <script src=\"https://cdn.plot.ly/plotly-latest.min.js\"></script>    \n",
              "            <div id=\"7c93f970-ff58-41f3-a75d-53420d87dbeb\" class=\"plotly-graph-div\" style=\"height:525px; width:100%;\"></div>\n",
              "            <script type=\"text/javascript\">\n",
              "                \n",
              "                    window.PLOTLYENV=window.PLOTLYENV || {};\n",
              "                    \n",
              "                if (document.getElementById(\"7c93f970-ff58-41f3-a75d-53420d87dbeb\")) {\n",
              "                    Plotly.newPlot(\n",
              "                        '7c93f970-ff58-41f3-a75d-53420d87dbeb',\n",
              "                        [{\"line\": {\"color\": \"red\", \"width\": 0.2}, \"name\": \"Low Price\", \"type\": \"scatter\", \"x\": [\"2020-01-01T23:59:59.999Z\", \"2020-01-02T23:59:59.999Z\", \"2020-01-03T23:59:59.999Z\", \"2020-01-04T23:59:59.999Z\", \"2020-01-05T23:59:59.999Z\", \"2020-01-06T23:59:59.999Z\", \"2020-01-07T23:59:59.999Z\", \"2020-01-08T23:59:59.999Z\", \"2020-01-09T23:59:59.999Z\", \"2020-01-10T23:59:59.999Z\", \"2020-01-11T23:59:59.999Z\", \"2020-01-12T23:59:59.999Z\", \"2020-01-13T23:59:59.999Z\", \"2020-01-14T23:59:59.999Z\", \"2020-01-15T23:59:59.999Z\", \"2020-01-16T23:59:59.999Z\", \"2020-01-17T23:59:59.999Z\", \"2020-01-18T23:59:59.999Z\", \"2020-01-19T23:59:59.999Z\", \"2020-01-20T23:59:59.999Z\", \"2020-01-21T23:59:59.999Z\", \"2020-01-22T23:59:59.999Z\", \"2020-01-23T23:59:59.999Z\", \"2020-01-24T23:59:59.999Z\", \"2020-01-25T23:59:59.999Z\", \"2020-01-26T23:59:59.999Z\", \"2020-01-27T23:59:59.999Z\", \"2020-01-28T23:59:59.999Z\", \"2020-01-29T23:59:59.999Z\", \"2020-01-30T23:59:59.999Z\", \"2020-01-31T23:59:59.999Z\", \"2020-02-01T23:59:59.999Z\", \"2020-02-02T23:59:59.999Z\", \"2020-02-03T23:59:59.999Z\", \"2020-02-04T23:59:59.999Z\", \"2020-02-05T23:59:59.999Z\", \"2020-02-06T23:59:59.999Z\", \"2020-02-07T23:59:59.999Z\", \"2020-02-08T23:59:59.999Z\", \"2020-02-09T23:59:59.999Z\", \"2020-02-10T23:59:59.999Z\", \"2020-02-11T23:59:59.999Z\", \"2020-02-12T23:59:59.999Z\", \"2020-02-13T23:59:59.999Z\", \"2020-02-14T23:59:59.999Z\", \"2020-02-15T23:59:59.999Z\", \"2020-02-16T23:59:59.999Z\", \"2020-02-17T23:59:59.999Z\", \"2020-02-18T23:59:59.999Z\", \"2020-02-19T23:59:59.999Z\", \"2020-02-20T23:59:59.999Z\", \"2020-02-21T23:59:59.999Z\", \"2020-02-22T23:59:59.999Z\", \"2020-02-23T23:59:59.999Z\", \"2020-02-24T23:59:59.999Z\", \"2020-02-25T23:59:59.999Z\", \"2020-02-26T23:59:59.999Z\", \"2020-02-27T23:59:59.999Z\", \"2020-02-28T23:59:59.999Z\", \"2020-02-29T23:59:59.999Z\", \"2020-03-01T23:59:59.999Z\", \"2020-03-02T23:59:59.999Z\", \"2020-03-03T23:59:59.999Z\", \"2020-03-04T23:59:59.999Z\", \"2020-03-05T23:59:59.999Z\", \"2020-03-06T23:59:59.999Z\", \"2020-03-07T23:59:59.999Z\", \"2020-03-08T23:59:59.999Z\", \"2020-03-09T23:59:59.999Z\", \"2020-03-10T23:59:59.999Z\", \"2020-03-11T23:59:59.999Z\", \"2020-03-12T23:59:59.999Z\", \"2020-03-13T23:59:59.999Z\", \"2020-03-14T23:59:59.999Z\", \"2020-03-15T23:59:59.999Z\", \"2020-03-16T23:59:59.999Z\", \"2020-03-17T23:59:59.999Z\", \"2020-03-18T23:59:59.999Z\", \"2020-03-19T23:59:59.999Z\", \"2020-03-20T23:59:59.999Z\", \"2020-03-21T23:59:59.999Z\", \"2020-03-22T23:59:59.999Z\", \"2020-03-23T23:59:59.999Z\", \"2020-03-24T23:59:59.999Z\", \"2020-03-25T23:59:59.999Z\", \"2020-03-26T23:59:59.999Z\", \"2020-03-27T23:59:59.999Z\", \"2020-03-28T23:59:59.999Z\", \"2020-03-29T23:59:59.999Z\", \"2020-03-30T23:59:59.999Z\", \"2020-03-31T23:59:59.999Z\", \"2020-04-01T23:59:59.999Z\", \"2020-04-02T23:59:59.999Z\", \"2020-04-03T23:59:59.999Z\", \"2020-04-04T23:59:59.999Z\", \"2020-04-05T23:59:59.999Z\", \"2020-04-06T23:59:59.999Z\", \"2020-04-07T23:59:59.999Z\", \"2020-04-08T23:59:59.999Z\", \"2020-04-09T23:59:59.999Z\", \"2020-04-10T23:59:59.999Z\", \"2020-04-11T23:59:59.999Z\", \"2020-04-12T23:59:59.999Z\", \"2020-04-13T23:59:59.999Z\", \"2020-04-14T23:59:59.999Z\", \"2020-04-15T23:59:59.999Z\", \"2020-04-16T23:59:59.999Z\", \"2020-04-17T23:59:59.999Z\", \"2020-04-18T23:59:59.999Z\", \"2020-04-19T23:59:59.999Z\", \"2020-04-20T23:59:59.999Z\", \"2020-04-21T23:59:59.999Z\", \"2020-04-22T23:59:59.999Z\", \"2020-04-23T23:59:59.999Z\", \"2020-04-24T23:59:59.999Z\", \"2020-04-25T23:59:59.999Z\", \"2020-04-26T23:59:59.999Z\", \"2020-04-27T23:59:59.999Z\", \"2020-04-28T23:59:59.999Z\", \"2020-04-29T23:59:59.999Z\", \"2020-04-30T23:59:59.999Z\", \"2020-05-01T23:59:59.999Z\", \"2020-05-02T23:59:59.999Z\", \"2020-05-03T23:59:59.999Z\", \"2020-05-04T23:59:59.999Z\", \"2020-05-05T23:59:59.999Z\", \"2020-05-06T23:59:59.999Z\", \"2020-05-07T23:59:59.999Z\", \"2020-05-08T23:59:59.999Z\", \"2020-05-09T23:59:59.999Z\", \"2020-05-10T23:59:59.999Z\", \"2020-05-11T23:59:59.999Z\", \"2020-05-12T23:59:59.999Z\", \"2020-05-13T23:59:59.999Z\", \"2020-05-14T23:59:59.999Z\", \"2020-05-15T23:59:59.999Z\", \"2020-05-16T23:59:59.999Z\", \"2020-05-17T23:59:59.999Z\", \"2020-05-18T23:59:59.999Z\", \"2020-05-19T23:59:59.999Z\", \"2020-05-20T23:59:59.999Z\", \"2020-05-21T23:59:59.999Z\", \"2020-05-22T23:59:59.999Z\", \"2020-05-23T23:59:59.999Z\", \"2020-05-24T23:59:59.999Z\", \"2020-05-25T23:59:59.999Z\", \"2020-05-26T23:59:59.999Z\", \"2020-05-27T23:59:59.999Z\", \"2020-05-28T23:59:59.999Z\", \"2020-05-29T23:59:59.999Z\", \"2020-05-30T23:59:59.999Z\", \"2020-05-31T23:59:59.999Z\", \"2020-06-01T23:59:59.999Z\", \"2020-06-02T23:59:59.999Z\", \"2020-06-03T23:59:59.999Z\", \"2020-06-04T23:59:59.999Z\", \"2020-06-05T23:59:59.999Z\", \"2020-06-06T23:59:59.999Z\", \"2020-06-07T23:59:59.999Z\", \"2020-06-08T23:59:59.999Z\", \"2020-06-09T23:59:59.999Z\", \"2020-06-10T23:59:59.999Z\", \"2020-06-11T23:59:59.999Z\", \"2020-06-12T23:59:59.999Z\", \"2020-06-13T23:59:59.999Z\", \"2020-06-14T23:59:59.999Z\", \"2020-06-15T23:59:59.999Z\", \"2020-06-16T23:59:59.999Z\", \"2020-06-17T23:59:59.999Z\", \"2020-06-18T23:59:59.999Z\", \"2020-06-19T23:59:59.999Z\", \"2020-06-20T23:59:59.999Z\", \"2020-06-21T23:59:59.999Z\", \"2020-06-22T23:59:59.999Z\", \"2020-06-23T23:59:59.999Z\", \"2020-06-24T23:59:59.999Z\", \"2020-06-25T23:59:59.999Z\", \"2020-06-26T23:59:59.999Z\", \"2020-06-27T23:59:59.999Z\", \"2020-06-28T23:59:59.999Z\", \"2020-06-29T23:59:59.999Z\", \"2020-06-30T23:59:59.999Z\", \"2020-07-01T23:59:59.999Z\", \"2020-07-02T23:59:59.999Z\", \"2020-07-03T23:59:59.999Z\", \"2020-07-04T23:59:59.999Z\", \"2020-07-05T23:59:59.999Z\", \"2020-07-06T23:59:59.999Z\", \"2020-07-07T23:59:59.999Z\", \"2020-07-08T23:59:59.999Z\", \"2020-07-09T23:59:59.999Z\", \"2020-07-10T23:59:59.999Z\", \"2020-07-11T23:59:59.999Z\", \"2020-07-12T23:59:59.999Z\", \"2020-07-13T23:59:59.999Z\", \"2020-07-14T23:59:59.999Z\", \"2020-07-15T23:59:59.999Z\", \"2020-07-16T23:59:59.999Z\", \"2020-07-17T23:59:59.999Z\", \"2020-07-18T23:59:59.999Z\", \"2020-07-19T23:59:59.999Z\", \"2020-07-20T23:59:59.999Z\", \"2020-07-21T23:59:59.999Z\", \"2020-07-22T23:59:59.999Z\", \"2020-07-23T23:59:59.999Z\", \"2020-07-24T23:59:59.999Z\", \"2020-07-25T23:59:59.999Z\", \"2020-07-26T23:59:59.999Z\", \"2020-07-27T23:59:59.999Z\", \"2020-07-28T23:59:59.999Z\", \"2020-07-29T23:59:59.999Z\", \"2020-07-30T23:59:59.999Z\", \"2020-07-31T23:59:59.999Z\", \"2020-08-01T23:59:59.999Z\", \"2020-08-02T23:59:59.999Z\", \"2020-08-03T23:59:59.999Z\", \"2020-08-04T23:59:59.999Z\", \"2020-08-05T23:59:59.999Z\", \"2020-08-06T23:59:59.999Z\", \"2020-08-07T23:59:59.999Z\", \"2020-08-08T23:59:59.999Z\", \"2020-08-09T23:59:59.999Z\", \"2020-08-10T23:59:59.999Z\", \"2020-08-11T23:59:59.999Z\", \"2020-08-12T23:59:59.999Z\", \"2020-08-13T23:59:59.999Z\", \"2020-08-14T23:59:59.999Z\", \"2020-08-15T23:59:59.999Z\", \"2020-08-16T23:59:59.999Z\", \"2020-08-17T23:59:59.999Z\", \"2020-08-18T23:59:59.999Z\", \"2020-08-19T23:59:59.999Z\", \"2020-08-20T23:59:59.999Z\", \"2020-08-21T23:59:59.999Z\", \"2020-08-22T23:59:59.999Z\", \"2020-08-23T23:59:59.999Z\", \"2020-08-24T23:59:59.999Z\", \"2020-08-25T23:59:59.999Z\", \"2020-08-26T23:59:59.999Z\", \"2020-08-27T23:59:59.999Z\", \"2020-08-28T23:59:59.999Z\", \"2020-08-29T23:59:59.999Z\", \"2020-08-30T23:59:59.999Z\", \"2020-08-31T23:59:59.999Z\", \"2020-09-01T23:59:59.999Z\", \"2020-09-02T23:59:59.999Z\", \"2020-09-03T23:59:59.999Z\", \"2020-09-04T23:59:59.999Z\", \"2020-09-05T23:59:59.999Z\", \"2020-09-06T23:59:59.999Z\", \"2020-09-07T23:59:59.999Z\", \"2020-09-08T23:59:59.999Z\", \"2020-09-09T23:59:59.999Z\", \"2020-09-10T23:59:59.999Z\", \"2020-09-11T23:59:59.999Z\", \"2020-09-12T23:59:59.999Z\", \"2020-09-13T23:59:59.999Z\", \"2020-09-14T23:59:59.999Z\", \"2020-09-15T23:59:59.999Z\", \"2020-09-16T23:59:59.999Z\", \"2020-09-17T23:59:59.999Z\", \"2020-09-18T23:59:59.999Z\", \"2020-09-19T23:59:59.999Z\", \"2020-09-20T23:59:59.999Z\", \"2020-09-21T23:59:59.999Z\", \"2020-09-22T23:59:59.999Z\", \"2020-09-23T23:59:59.999Z\", \"2020-09-24T23:59:59.999Z\", \"2020-09-25T23:59:59.999Z\", \"2020-09-26T23:59:59.999Z\", \"2020-09-27T23:59:59.999Z\", \"2020-09-28T23:59:59.999Z\", \"2020-09-29T23:59:59.999Z\", \"2020-09-30T23:59:59.999Z\", \"2020-10-01T23:59:59.999Z\", \"2020-10-02T23:59:59.999Z\", \"2020-10-03T23:59:59.999Z\", \"2020-10-04T23:59:59.999Z\", \"2020-10-05T23:59:59.999Z\", \"2020-10-06T23:59:59.999Z\", \"2020-10-07T23:59:59.999Z\", \"2020-10-08T23:59:59.999Z\", \"2020-10-09T23:59:59.999Z\", \"2020-10-10T23:59:59.999Z\", \"2020-10-11T23:59:59.999Z\", \"2020-10-12T23:59:59.999Z\", \"2020-10-13T23:59:59.999Z\", \"2020-10-14T23:59:59.999Z\", \"2020-10-15T23:59:59.999Z\"], \"y\": [7174.94415256, 6935.26997193, 6914.99590793, 7309.5140117, 7400.5355609, 7409.29318246, 7768.22771944, 7956.77421957, 7842.4036134, 7726.77498918, 8029.64210795, 8009.0588841, 8079.70074107, 8140.93309605, 8657.18744654, 8612.09583682, 8677.3163483, 8827.33234474, 8620.0799932, 8560.47404294, 8544.52045256, 8636.7474349, 8333.63787363, 8266.84057849, 8296.21900672, 8325.49808268, 8597.30877926, 8908.44692853, 9269.46813861, 9230.89727886, 9230.77618023, 9313.2387904, 9217.82397728, 9248.63423233, 9112.8114171, 9163.70413921, 9539.8180851, 9726.00315742, 9678.90979138, 9850.39221314, 9784.563802, 9729.33489054, 10202.3876541, 10116.1614999, 10125.5337907, 9874.4275077, 9722.38715745, 9507.63799409, 9632.38276334, 9611.22354001, 9507.90006137, 9589.74360064, 9600.72878571, 9657.79114467, 9537.04322252, 9305.02118582, 8704.4265506, 8577.19930942, 8492.93215312, 8599.50861972, 8471.21262606, 8532.63094465, 8704.99029396, 8712.43181192, 8757.25403405, 9032.07958273, 8890.74417157, 8105.25280434, 7690.09818591, 7814.76324378, 7642.81243049, 4860.35383012, 4106.98075029, 5125.06934725, 5169.28339052, 4575.35788665, 4981.90941273, 5069.3361519, 5236.96875288, 5865.78196437, 5932.82338618, 5823.71407014, 5785.00445322, 6411.06651215, 6536.92618369, 6590.96271561, 6466.70180578, 6117.83774851, 5920.08601757, 5903.23434726, 6374.16217148, 6202.37351173, 6595.91827654, 6673.33575767, 6696.48466818, 6715.9292996, 6782.88974461, 7136.71418613, 7153.30567428, 7179.0943407, 6802.47496589, 6789.9207024, 6811.07790015, 6668.25976411, 6793.82120931, 6633.40269245, 6555.50427487, 7050.33182989, 7089.24716763, 7167.05456229, 6835.50314462, 6834.44232463, 6867.78168929, 7081.5946281, 7434.18155636, 7521.67241878, 7561.40785333, 7679.41895085, 7730.80654225, 7786.04929564, 8533.25593295, 8667.76321655, 8811.36632956, 8830.97125528, 8645.02412633, 8856.82715528, 8966.70598977, 9138.32257195, 9767.17307027, 9580.64449235, 8395.10745112, 8374.32297508, 8569.64398804, 8805.38781338, 9255.03484619, 9261.3979997, 9260.69416318, 9349.5460711, 9570.35898532, 9539.62405543, 9447.20154126, 8869.93110855, 9008.63827133, 9118.10885548, 8787.251002, 8719.66836224, 8757.29380384, 8834.15742919, 9148.45714843, 9379.33894613, 9366.72941775, 9432.29679512, 9450.89911148, 9460.57137098, 9471.84640611, 9525.24667912, 9663.21633712, 9591.02453467, 9458.1504702, 9675.88590718, 9664.72013333, 9728.29114041, 9263.06958826, 9285.85140439, 9396.00939365, 9347.59379317, 8990.1759467, 9400.44500832, 9327.33958675, 9328.39559548, 9274.29612136, 9247.37967261, 9300.43050848, 9296.87166573, 9547.24708412, 9278.23354695, 9095.32457939, 9101.73845201, 8998.21670066, 8975.52585473, 9041.87625573, 9084.83749244, 9104.73487906, 9036.6234943, 9058.79478198, 9053.62967104, 8977.01563525, 9058.6644583, 9201.81538154, 9249.49994806, 9234.99945975, 9118.00240742, 9199.48551044, 9197.4503198, 9224.29284137, 9171.66111846, 9171.93355443, 9088.94740241, 9089.20245471, 9100.82441002, 9097.63308598, 9137.50962153, 9149.3899187, 9319.65339503, 9483.00401906, 9481.45392527, 9530.21219614, 9652.84720642, 9903.97011125, 10632.6317033, 10856.1413409, 10895.4554062, 10987.0535485, 11239.6827355, 11018.1300423, 11012.4147398, 11094.1453896, 11158.2851945, 11598.7138024, 11408.5940427, 11558.4316317, 11548.7844464, 11662.2569338, 11195.7092716, 11249.6054441, 11216.8725398, 11685.4554805, 11768.6971443, 11737.1885988, 11806.6958823, 11954.5257491, 11687.3328305, 11710.0633726, 11564.9793191, 11448.8060449, 11559.9212608, 11623.2504376, 11189.8510492, 11296.993373, 11185.9418123, 11316.4224397, 11466.2933646, 11492.381773, 11598.3184963, 11601.1286113, 11290.7942647, 10182.4650856, 10207.9402189, 9946.67532811, 10056.8857496, 9916.49293063, 9945.11015892, 10017.2510729, 10238.1358906, 10140.8366858, 10292.3865099, 10224.3299006, 10266.008771, 10656.4603435, 10704.8843495, 10774.6276667, 10829.6568158, 10909.6183675, 10814.4770514, 10380.2607189, 10382.7262965, 10185.7742189, 10215.2051725, 10594.0481307, 10682.0819241, 10643.4581872, 10716.6770746, 10665.3447319, 10689.6709436, 10493.5526754, 10440.3117125, 10527.9784973, 10531.3430984, 10646.4435814, 10565.1971742, 10591.9638314, 10569.8234036, 10862.9741373, 11056.94053325, 11288.62766113, 11240.68699569, 11321.22451322, 11307.8308683, 11303.60351126]}, {\"fill\": \"tonexty\", \"fillcolor\": \"rgba(0,40,100,0.2)\", \"line\": {\"color\": \"green\", \"width\": 0.2}, \"mode\": \"lines\", \"name\": \"High Price\", \"type\": \"scatter\", \"x\": [\"2020-01-01T23:59:59.999Z\", \"2020-01-02T23:59:59.999Z\", \"2020-01-03T23:59:59.999Z\", \"2020-01-04T23:59:59.999Z\", \"2020-01-05T23:59:59.999Z\", \"2020-01-06T23:59:59.999Z\", \"2020-01-07T23:59:59.999Z\", \"2020-01-08T23:59:59.999Z\", \"2020-01-09T23:59:59.999Z\", \"2020-01-10T23:59:59.999Z\", \"2020-01-11T23:59:59.999Z\", \"2020-01-12T23:59:59.999Z\", \"2020-01-13T23:59:59.999Z\", \"2020-01-14T23:59:59.999Z\", \"2020-01-15T23:59:59.999Z\", \"2020-01-16T23:59:59.999Z\", \"2020-01-17T23:59:59.999Z\", \"2020-01-18T23:59:59.999Z\", \"2020-01-19T23:59:59.999Z\", \"2020-01-20T23:59:59.999Z\", \"2020-01-21T23:59:59.999Z\", \"2020-01-22T23:59:59.999Z\", \"2020-01-23T23:59:59.999Z\", \"2020-01-24T23:59:59.999Z\", \"2020-01-25T23:59:59.999Z\", \"2020-01-26T23:59:59.999Z\", \"2020-01-27T23:59:59.999Z\", \"2020-01-28T23:59:59.999Z\", \"2020-01-29T23:59:59.999Z\", \"2020-01-30T23:59:59.999Z\", \"2020-01-31T23:59:59.999Z\", \"2020-02-01T23:59:59.999Z\", \"2020-02-02T23:59:59.999Z\", \"2020-02-03T23:59:59.999Z\", \"2020-02-04T23:59:59.999Z\", \"2020-02-05T23:59:59.999Z\", \"2020-02-06T23:59:59.999Z\", \"2020-02-07T23:59:59.999Z\", \"2020-02-08T23:59:59.999Z\", \"2020-02-09T23:59:59.999Z\", \"2020-02-10T23:59:59.999Z\", \"2020-02-11T23:59:59.999Z\", \"2020-02-12T23:59:59.999Z\", \"2020-02-13T23:59:59.999Z\", \"2020-02-14T23:59:59.999Z\", \"2020-02-15T23:59:59.999Z\", \"2020-02-16T23:59:59.999Z\", \"2020-02-17T23:59:59.999Z\", \"2020-02-18T23:59:59.999Z\", \"2020-02-19T23:59:59.999Z\", \"2020-02-20T23:59:59.999Z\", \"2020-02-21T23:59:59.999Z\", \"2020-02-22T23:59:59.999Z\", \"2020-02-23T23:59:59.999Z\", \"2020-02-24T23:59:59.999Z\", \"2020-02-25T23:59:59.999Z\", \"2020-02-26T23:59:59.999Z\", \"2020-02-27T23:59:59.999Z\", \"2020-02-28T23:59:59.999Z\", \"2020-02-29T23:59:59.999Z\", \"2020-03-01T23:59:59.999Z\", \"2020-03-02T23:59:59.999Z\", \"2020-03-03T23:59:59.999Z\", \"2020-03-04T23:59:59.999Z\", \"2020-03-05T23:59:59.999Z\", \"2020-03-06T23:59:59.999Z\", \"2020-03-07T23:59:59.999Z\", \"2020-03-08T23:59:59.999Z\", \"2020-03-09T23:59:59.999Z\", \"2020-03-10T23:59:59.999Z\", \"2020-03-11T23:59:59.999Z\", \"2020-03-12T23:59:59.999Z\", \"2020-03-13T23:59:59.999Z\", \"2020-03-14T23:59:59.999Z\", \"2020-03-15T23:59:59.999Z\", \"2020-03-16T23:59:59.999Z\", \"2020-03-17T23:59:59.999Z\", \"2020-03-18T23:59:59.999Z\", \"2020-03-19T23:59:59.999Z\", \"2020-03-20T23:59:59.999Z\", \"2020-03-21T23:59:59.999Z\", \"2020-03-22T23:59:59.999Z\", \"2020-03-23T23:59:59.999Z\", \"2020-03-24T23:59:59.999Z\", \"2020-03-25T23:59:59.999Z\", \"2020-03-26T23:59:59.999Z\", \"2020-03-27T23:59:59.999Z\", \"2020-03-28T23:59:59.999Z\", \"2020-03-29T23:59:59.999Z\", \"2020-03-30T23:59:59.999Z\", \"2020-03-31T23:59:59.999Z\", \"2020-04-01T23:59:59.999Z\", \"2020-04-02T23:59:59.999Z\", \"2020-04-03T23:59:59.999Z\", \"2020-04-04T23:59:59.999Z\", \"2020-04-05T23:59:59.999Z\", \"2020-04-06T23:59:59.999Z\", \"2020-04-07T23:59:59.999Z\", \"2020-04-08T23:59:59.999Z\", \"2020-04-09T23:59:59.999Z\", \"2020-04-10T23:59:59.999Z\", \"2020-04-11T23:59:59.999Z\", \"2020-04-12T23:59:59.999Z\", \"2020-04-13T23:59:59.999Z\", \"2020-04-14T23:59:59.999Z\", \"2020-04-15T23:59:59.999Z\", \"2020-04-16T23:59:59.999Z\", \"2020-04-17T23:59:59.999Z\", \"2020-04-18T23:59:59.999Z\", \"2020-04-19T23:59:59.999Z\", \"2020-04-20T23:59:59.999Z\", \"2020-04-21T23:59:59.999Z\", \"2020-04-22T23:59:59.999Z\", \"2020-04-23T23:59:59.999Z\", \"2020-04-24T23:59:59.999Z\", \"2020-04-25T23:59:59.999Z\", \"2020-04-26T23:59:59.999Z\", \"2020-04-27T23:59:59.999Z\", \"2020-04-28T23:59:59.999Z\", \"2020-04-29T23:59:59.999Z\", \"2020-04-30T23:59:59.999Z\", \"2020-05-01T23:59:59.999Z\", \"2020-05-02T23:59:59.999Z\", \"2020-05-03T23:59:59.999Z\", \"2020-05-04T23:59:59.999Z\", \"2020-05-05T23:59:59.999Z\", \"2020-05-06T23:59:59.999Z\", \"2020-05-07T23:59:59.999Z\", \"2020-05-08T23:59:59.999Z\", \"2020-05-09T23:59:59.999Z\", \"2020-05-10T23:59:59.999Z\", \"2020-05-11T23:59:59.999Z\", \"2020-05-12T23:59:59.999Z\", \"2020-05-13T23:59:59.999Z\", \"2020-05-14T23:59:59.999Z\", \"2020-05-15T23:59:59.999Z\", \"2020-05-16T23:59:59.999Z\", \"2020-05-17T23:59:59.999Z\", \"2020-05-18T23:59:59.999Z\", \"2020-05-19T23:59:59.999Z\", \"2020-05-20T23:59:59.999Z\", \"2020-05-21T23:59:59.999Z\", \"2020-05-22T23:59:59.999Z\", \"2020-05-23T23:59:59.999Z\", \"2020-05-24T23:59:59.999Z\", \"2020-05-25T23:59:59.999Z\", \"2020-05-26T23:59:59.999Z\", \"2020-05-27T23:59:59.999Z\", \"2020-05-28T23:59:59.999Z\", \"2020-05-29T23:59:59.999Z\", \"2020-05-30T23:59:59.999Z\", \"2020-05-31T23:59:59.999Z\", \"2020-06-01T23:59:59.999Z\", \"2020-06-02T23:59:59.999Z\", \"2020-06-03T23:59:59.999Z\", \"2020-06-04T23:59:59.999Z\", \"2020-06-05T23:59:59.999Z\", \"2020-06-06T23:59:59.999Z\", \"2020-06-07T23:59:59.999Z\", \"2020-06-08T23:59:59.999Z\", \"2020-06-09T23:59:59.999Z\", \"2020-06-10T23:59:59.999Z\", \"2020-06-11T23:59:59.999Z\", \"2020-06-12T23:59:59.999Z\", \"2020-06-13T23:59:59.999Z\", \"2020-06-14T23:59:59.999Z\", \"2020-06-15T23:59:59.999Z\", \"2020-06-16T23:59:59.999Z\", \"2020-06-17T23:59:59.999Z\", \"2020-06-18T23:59:59.999Z\", \"2020-06-19T23:59:59.999Z\", \"2020-06-20T23:59:59.999Z\", \"2020-06-21T23:59:59.999Z\", \"2020-06-22T23:59:59.999Z\", \"2020-06-23T23:59:59.999Z\", \"2020-06-24T23:59:59.999Z\", \"2020-06-25T23:59:59.999Z\", \"2020-06-26T23:59:59.999Z\", \"2020-06-27T23:59:59.999Z\", \"2020-06-28T23:59:59.999Z\", \"2020-06-29T23:59:59.999Z\", \"2020-06-30T23:59:59.999Z\", \"2020-07-01T23:59:59.999Z\", \"2020-07-02T23:59:59.999Z\", \"2020-07-03T23:59:59.999Z\", \"2020-07-04T23:59:59.999Z\", \"2020-07-05T23:59:59.999Z\", \"2020-07-06T23:59:59.999Z\", \"2020-07-07T23:59:59.999Z\", \"2020-07-08T23:59:59.999Z\", \"2020-07-09T23:59:59.999Z\", \"2020-07-10T23:59:59.999Z\", \"2020-07-11T23:59:59.999Z\", \"2020-07-12T23:59:59.999Z\", \"2020-07-13T23:59:59.999Z\", \"2020-07-14T23:59:59.999Z\", \"2020-07-15T23:59:59.999Z\", \"2020-07-16T23:59:59.999Z\", \"2020-07-17T23:59:59.999Z\", \"2020-07-18T23:59:59.999Z\", \"2020-07-19T23:59:59.999Z\", \"2020-07-20T23:59:59.999Z\", \"2020-07-21T23:59:59.999Z\", \"2020-07-22T23:59:59.999Z\", \"2020-07-23T23:59:59.999Z\", \"2020-07-24T23:59:59.999Z\", \"2020-07-25T23:59:59.999Z\", \"2020-07-26T23:59:59.999Z\", \"2020-07-27T23:59:59.999Z\", \"2020-07-28T23:59:59.999Z\", \"2020-07-29T23:59:59.999Z\", \"2020-07-30T23:59:59.999Z\", \"2020-07-31T23:59:59.999Z\", \"2020-08-01T23:59:59.999Z\", \"2020-08-02T23:59:59.999Z\", \"2020-08-03T23:59:59.999Z\", \"2020-08-04T23:59:59.999Z\", \"2020-08-05T23:59:59.999Z\", \"2020-08-06T23:59:59.999Z\", \"2020-08-07T23:59:59.999Z\", \"2020-08-08T23:59:59.999Z\", \"2020-08-09T23:59:59.999Z\", \"2020-08-10T23:59:59.999Z\", \"2020-08-11T23:59:59.999Z\", \"2020-08-12T23:59:59.999Z\", \"2020-08-13T23:59:59.999Z\", \"2020-08-14T23:59:59.999Z\", \"2020-08-15T23:59:59.999Z\", \"2020-08-16T23:59:59.999Z\", \"2020-08-17T23:59:59.999Z\", \"2020-08-18T23:59:59.999Z\", \"2020-08-19T23:59:59.999Z\", \"2020-08-20T23:59:59.999Z\", \"2020-08-21T23:59:59.999Z\", \"2020-08-22T23:59:59.999Z\", \"2020-08-23T23:59:59.999Z\", \"2020-08-24T23:59:59.999Z\", \"2020-08-25T23:59:59.999Z\", \"2020-08-26T23:59:59.999Z\", \"2020-08-27T23:59:59.999Z\", \"2020-08-28T23:59:59.999Z\", \"2020-08-29T23:59:59.999Z\", \"2020-08-30T23:59:59.999Z\", \"2020-08-31T23:59:59.999Z\", \"2020-09-01T23:59:59.999Z\", \"2020-09-02T23:59:59.999Z\", \"2020-09-03T23:59:59.999Z\", \"2020-09-04T23:59:59.999Z\", \"2020-09-05T23:59:59.999Z\", \"2020-09-06T23:59:59.999Z\", \"2020-09-07T23:59:59.999Z\", \"2020-09-08T23:59:59.999Z\", \"2020-09-09T23:59:59.999Z\", \"2020-09-10T23:59:59.999Z\", \"2020-09-11T23:59:59.999Z\", \"2020-09-12T23:59:59.999Z\", \"2020-09-13T23:59:59.999Z\", \"2020-09-14T23:59:59.999Z\", \"2020-09-15T23:59:59.999Z\", \"2020-09-16T23:59:59.999Z\", \"2020-09-17T23:59:59.999Z\", \"2020-09-18T23:59:59.999Z\", \"2020-09-19T23:59:59.999Z\", \"2020-09-20T23:59:59.999Z\", \"2020-09-21T23:59:59.999Z\", \"2020-09-22T23:59:59.999Z\", \"2020-09-23T23:59:59.999Z\", \"2020-09-24T23:59:59.999Z\", \"2020-09-25T23:59:59.999Z\", \"2020-09-26T23:59:59.999Z\", \"2020-09-27T23:59:59.999Z\", \"2020-09-28T23:59:59.999Z\", \"2020-09-29T23:59:59.999Z\", \"2020-09-30T23:59:59.999Z\", \"2020-10-01T23:59:59.999Z\", \"2020-10-02T23:59:59.999Z\", \"2020-10-03T23:59:59.999Z\", \"2020-10-04T23:59:59.999Z\", \"2020-10-05T23:59:59.999Z\", \"2020-10-06T23:59:59.999Z\", \"2020-10-07T23:59:59.999Z\", \"2020-10-08T23:59:59.999Z\", \"2020-10-09T23:59:59.999Z\", \"2020-10-10T23:59:59.999Z\", \"2020-10-11T23:59:59.999Z\", \"2020-10-12T23:59:59.999Z\", \"2020-10-13T23:59:59.999Z\", \"2020-10-14T23:59:59.999Z\", \"2020-10-15T23:59:59.999Z\"], \"y\": [7254.33061134, 7212.15525252, 7413.71509934, 7427.38579435, 7544.49687224, 7781.86718275, 8178.21587336, 8396.73788064, 8082.29607413, 8166.55414039, 8218.3589373, 8200.06347027, 8197.78817891, 8879.51152651, 8890.11741953, 8846.46109861, 8958.12195167, 9012.19810645, 9164.36225977, 8745.59079709, 8755.70629569, 8792.9938714, 8687.74708842, 8514.66703526, 8458.45301525, 8602.40124618, 8977.7269618, 9358.59031703, 9406.43179329, 9553.12613251, 9521.70592625, 9439.323332, 9468.79761797, 9540.37173779, 9331.26581712, 9701.30003735, 9824.61926061, 9834.71678972, 9876.74934121, 10129.4351603, 10165.765355, 10210.0526411, 10393.6117227, 10457.6271997, 10321.9957973, 10341.5559017, 10053.9690091, 9938.81578, 10161.9353141, 10191.6758471, 9643.21673144, 9723.01498512, 9698.23112312, 9937.40410608, 9951.74614899, 9652.73686506, 9354.77831023, 8932.89304727, 8890.45600513, 8775.63201232, 8726.79676016, 8921.30839546, 8901.59868323, 8843.36574975, 9142.05429624, 9167.69579623, 9163.22109566, 8914.34415498, 8177.79322362, 8136.9452227, 7950.81435628, 7929.11601884, 5838.11493749, 5625.22650517, 5836.64500618, 5385.22952159, 5371.34851644, 5331.83385967, 6329.73594838, 6844.26152806, 6378.13517055, 6359.69729033, 6443.93454693, 6789.02272423, 6892.51135949, 6735.4638794, 6793.83619652, 6467.501165, 6250.46730894, 6517.19578925, 6504.51532416, 6612.57379089, 7088.24732438, 7003.22078432, 6878.95351761, 6883.41414332, 7271.7811527, 7427.93933989, 7356.22386412, 7341.44831412, 7303.81519824, 6926.0696338, 7119.94706176, 6965.61663772, 6958.55722441, 6928.66436972, 7134.45052778, 7167.18298759, 7269.95653094, 7280.52178187, 7240.29059686, 6934.55187057, 7145.86574462, 7491.78492971, 7574.19602617, 7641.36397705, 7700.59429483, 7795.60083451, 7814.52714133, 8871.75372738, 9440.65067326, 9048.02383263, 9007.18780321, 9167.7813443, 8956.90651911, 9062.41456364, 9411.46787039, 9992.66392105, 9996.74335304, 9913.86299284, 9595.58062909, 9033.47117613, 8949.89797874, 9317.87855411, 9793.26820869, 9755.82849814, 9564.20498908, 9823.0022878, 9906.03020325, 9836.04752405, 9804.79388786, 9555.24217533, 9232.93609283, 9302.50164919, 9288.40401564, 8951.00563809, 8991.9676255, 9203.32051535, 9546.31960175, 9573.66681733, 9704.03030928, 9700.34389507, 10199.5649719, 10182.3407084, 9682.85947041, 9887.6106294, 9869.2369055, 9773.43201601, 9768.49790176, 9782.30649673, 9836.36896869, 9908.89655918, 9938.29767389, 9540.46539289, 9493.21171489, 9482.27093599, 9504.86006526, 9579.43037458, 9540.42327076, 9482.78198635, 9440.87603373, 9394.97159448, 9401.10749682, 9655.07321812, 9670.54076171, 9680.36714624, 9340.16150568, 9310.51638223, 9207.81098342, 9197.54701677, 9237.57275525, 9217.83601269, 9309.75486362, 9274.96292273, 9202.34438443, 9183.29558274, 9162.18323157, 9375.47475925, 9360.61757468, 9450.33567174, 9431.37858131, 9287.47159361, 9293.53268075, 9319.41941671, 9306.40492983, 9283.84214229, 9275.32512547, 9214.31269823, 9182.25430793, 9230.98350533, 9201.39848305, 9214.27062879, 9407.26305599, 9530.5190089, 9610.24712467, 9623.33703153, 9704.55701308, 10023.807661, 11298.2217576, 11204.327602, 11304.3970694, 11169.3566691, 11415.8638958, 11794.7753933, 12034.1441504, 11453.0787225, 11385.3815713, 11786.6168994, 11902.3359717, 11898.0384141, 11800.0648506, 11806.0562765, 12045.1403178, 11932.7111738, 11748.3964937, 11796.3961941, 12150.9936677, 11963.2030649, 11934.9009151, 12359.0570221, 12335.7070704, 12028.9234443, 11900.4111753, 11899.2593199, 11689.4073895, 11713.4297949, 11807.6323164, 11778.2998953, 11530.0530661, 11570.7863091, 11545.6154059, 11585.6406794, 11715.2648492, 11768.8767439, 12067.0812887, 11964.8228043, 11443.0227947, 10663.9200452, 10581.5714107, 10353.928072, 10399.1534283, 10414.7752084, 10350.5427324, 10503.9125262, 10434.9225461, 10578.8382504, 10577.2152413, 10800.0110604, 10938.6320402, 11100.1243423, 11037.4211271, 11034.908069, 11134.0927157, 11095.8697916, 10988.304783, 10568.0767512, 10637.8479787, 10765.7947139, 10757.5491007, 10778.4995131, 10804.7324691, 10949.1231486, 10858.9398293, 10856.5282511, 10915.8440154, 10662.8130247, 10614.0918294, 10700.7912422, 10804.0013503, 10803.4561558, 10687.2685668, 10939.7994956, 11105.8492658, 11442.2111099, 11428.81376969, 11698.4677363, 11548.98483187, 11539.97794666, 11569.91418955]}, {\"line\": {\"color\": \"black\"}, \"name\": \"Open Price\", \"type\": \"scatter\", \"x\": [\"2020-01-01T23:59:59.999Z\", \"2020-01-02T23:59:59.999Z\", \"2020-01-03T23:59:59.999Z\", \"2020-01-04T23:59:59.999Z\", \"2020-01-05T23:59:59.999Z\", \"2020-01-06T23:59:59.999Z\", \"2020-01-07T23:59:59.999Z\", \"2020-01-08T23:59:59.999Z\", \"2020-01-09T23:59:59.999Z\", \"2020-01-10T23:59:59.999Z\", \"2020-01-11T23:59:59.999Z\", \"2020-01-12T23:59:59.999Z\", \"2020-01-13T23:59:59.999Z\", \"2020-01-14T23:59:59.999Z\", \"2020-01-15T23:59:59.999Z\", \"2020-01-16T23:59:59.999Z\", \"2020-01-17T23:59:59.999Z\", \"2020-01-18T23:59:59.999Z\", \"2020-01-19T23:59:59.999Z\", \"2020-01-20T23:59:59.999Z\", \"2020-01-21T23:59:59.999Z\", \"2020-01-22T23:59:59.999Z\", \"2020-01-23T23:59:59.999Z\", \"2020-01-24T23:59:59.999Z\", \"2020-01-25T23:59:59.999Z\", \"2020-01-26T23:59:59.999Z\", \"2020-01-27T23:59:59.999Z\", \"2020-01-28T23:59:59.999Z\", \"2020-01-29T23:59:59.999Z\", \"2020-01-30T23:59:59.999Z\", \"2020-01-31T23:59:59.999Z\", \"2020-02-01T23:59:59.999Z\", \"2020-02-02T23:59:59.999Z\", \"2020-02-03T23:59:59.999Z\", \"2020-02-04T23:59:59.999Z\", \"2020-02-05T23:59:59.999Z\", \"2020-02-06T23:59:59.999Z\", \"2020-02-07T23:59:59.999Z\", \"2020-02-08T23:59:59.999Z\", \"2020-02-09T23:59:59.999Z\", \"2020-02-10T23:59:59.999Z\", \"2020-02-11T23:59:59.999Z\", \"2020-02-12T23:59:59.999Z\", \"2020-02-13T23:59:59.999Z\", \"2020-02-14T23:59:59.999Z\", \"2020-02-15T23:59:59.999Z\", \"2020-02-16T23:59:59.999Z\", \"2020-02-17T23:59:59.999Z\", \"2020-02-18T23:59:59.999Z\", \"2020-02-19T23:59:59.999Z\", \"2020-02-20T23:59:59.999Z\", \"2020-02-21T23:59:59.999Z\", \"2020-02-22T23:59:59.999Z\", \"2020-02-23T23:59:59.999Z\", \"2020-02-24T23:59:59.999Z\", \"2020-02-25T23:59:59.999Z\", \"2020-02-26T23:59:59.999Z\", \"2020-02-27T23:59:59.999Z\", \"2020-02-28T23:59:59.999Z\", \"2020-02-29T23:59:59.999Z\", \"2020-03-01T23:59:59.999Z\", \"2020-03-02T23:59:59.999Z\", \"2020-03-03T23:59:59.999Z\", \"2020-03-04T23:59:59.999Z\", \"2020-03-05T23:59:59.999Z\", \"2020-03-06T23:59:59.999Z\", \"2020-03-07T23:59:59.999Z\", \"2020-03-08T23:59:59.999Z\", \"2020-03-09T23:59:59.999Z\", \"2020-03-10T23:59:59.999Z\", \"2020-03-11T23:59:59.999Z\", \"2020-03-12T23:59:59.999Z\", \"2020-03-13T23:59:59.999Z\", \"2020-03-14T23:59:59.999Z\", \"2020-03-15T23:59:59.999Z\", \"2020-03-16T23:59:59.999Z\", \"2020-03-17T23:59:59.999Z\", \"2020-03-18T23:59:59.999Z\", \"2020-03-19T23:59:59.999Z\", \"2020-03-20T23:59:59.999Z\", \"2020-03-21T23:59:59.999Z\", \"2020-03-22T23:59:59.999Z\", \"2020-03-23T23:59:59.999Z\", \"2020-03-24T23:59:59.999Z\", \"2020-03-25T23:59:59.999Z\", \"2020-03-26T23:59:59.999Z\", \"2020-03-27T23:59:59.999Z\", \"2020-03-28T23:59:59.999Z\", \"2020-03-29T23:59:59.999Z\", \"2020-03-30T23:59:59.999Z\", \"2020-03-31T23:59:59.999Z\", \"2020-04-01T23:59:59.999Z\", \"2020-04-02T23:59:59.999Z\", \"2020-04-03T23:59:59.999Z\", \"2020-04-04T23:59:59.999Z\", \"2020-04-05T23:59:59.999Z\", \"2020-04-06T23:59:59.999Z\", \"2020-04-07T23:59:59.999Z\", \"2020-04-08T23:59:59.999Z\", \"2020-04-09T23:59:59.999Z\", \"2020-04-10T23:59:59.999Z\", \"2020-04-11T23:59:59.999Z\", \"2020-04-12T23:59:59.999Z\", \"2020-04-13T23:59:59.999Z\", \"2020-04-14T23:59:59.999Z\", \"2020-04-15T23:59:59.999Z\", \"2020-04-16T23:59:59.999Z\", \"2020-04-17T23:59:59.999Z\", \"2020-04-18T23:59:59.999Z\", \"2020-04-19T23:59:59.999Z\", \"2020-04-20T23:59:59.999Z\", \"2020-04-21T23:59:59.999Z\", \"2020-04-22T23:59:59.999Z\", \"2020-04-23T23:59:59.999Z\", \"2020-04-24T23:59:59.999Z\", \"2020-04-25T23:59:59.999Z\", \"2020-04-26T23:59:59.999Z\", \"2020-04-27T23:59:59.999Z\", \"2020-04-28T23:59:59.999Z\", \"2020-04-29T23:59:59.999Z\", \"2020-04-30T23:59:59.999Z\", \"2020-05-01T23:59:59.999Z\", \"2020-05-02T23:59:59.999Z\", \"2020-05-03T23:59:59.999Z\", \"2020-05-04T23:59:59.999Z\", \"2020-05-05T23:59:59.999Z\", \"2020-05-06T23:59:59.999Z\", \"2020-05-07T23:59:59.999Z\", \"2020-05-08T23:59:59.999Z\", \"2020-05-09T23:59:59.999Z\", \"2020-05-10T23:59:59.999Z\", \"2020-05-11T23:59:59.999Z\", \"2020-05-12T23:59:59.999Z\", \"2020-05-13T23:59:59.999Z\", \"2020-05-14T23:59:59.999Z\", \"2020-05-15T23:59:59.999Z\", \"2020-05-16T23:59:59.999Z\", \"2020-05-17T23:59:59.999Z\", \"2020-05-18T23:59:59.999Z\", \"2020-05-19T23:59:59.999Z\", \"2020-05-20T23:59:59.999Z\", \"2020-05-21T23:59:59.999Z\", \"2020-05-22T23:59:59.999Z\", \"2020-05-23T23:59:59.999Z\", \"2020-05-24T23:59:59.999Z\", \"2020-05-25T23:59:59.999Z\", \"2020-05-26T23:59:59.999Z\", \"2020-05-27T23:59:59.999Z\", \"2020-05-28T23:59:59.999Z\", \"2020-05-29T23:59:59.999Z\", \"2020-05-30T23:59:59.999Z\", \"2020-05-31T23:59:59.999Z\", \"2020-06-01T23:59:59.999Z\", \"2020-06-02T23:59:59.999Z\", \"2020-06-03T23:59:59.999Z\", \"2020-06-04T23:59:59.999Z\", \"2020-06-05T23:59:59.999Z\", \"2020-06-06T23:59:59.999Z\", \"2020-06-07T23:59:59.999Z\", \"2020-06-08T23:59:59.999Z\", \"2020-06-09T23:59:59.999Z\", \"2020-06-10T23:59:59.999Z\", \"2020-06-11T23:59:59.999Z\", \"2020-06-12T23:59:59.999Z\", \"2020-06-13T23:59:59.999Z\", \"2020-06-14T23:59:59.999Z\", \"2020-06-15T23:59:59.999Z\", \"2020-06-16T23:59:59.999Z\", \"2020-06-17T23:59:59.999Z\", \"2020-06-18T23:59:59.999Z\", \"2020-06-19T23:59:59.999Z\", \"2020-06-20T23:59:59.999Z\", \"2020-06-21T23:59:59.999Z\", \"2020-06-22T23:59:59.999Z\", \"2020-06-23T23:59:59.999Z\", \"2020-06-24T23:59:59.999Z\", \"2020-06-25T23:59:59.999Z\", \"2020-06-26T23:59:59.999Z\", \"2020-06-27T23:59:59.999Z\", \"2020-06-28T23:59:59.999Z\", \"2020-06-29T23:59:59.999Z\", \"2020-06-30T23:59:59.999Z\", \"2020-07-01T23:59:59.999Z\", \"2020-07-02T23:59:59.999Z\", \"2020-07-03T23:59:59.999Z\", \"2020-07-04T23:59:59.999Z\", \"2020-07-05T23:59:59.999Z\", \"2020-07-06T23:59:59.999Z\", \"2020-07-07T23:59:59.999Z\", \"2020-07-08T23:59:59.999Z\", \"2020-07-09T23:59:59.999Z\", \"2020-07-10T23:59:59.999Z\", \"2020-07-11T23:59:59.999Z\", \"2020-07-12T23:59:59.999Z\", \"2020-07-13T23:59:59.999Z\", \"2020-07-14T23:59:59.999Z\", \"2020-07-15T23:59:59.999Z\", \"2020-07-16T23:59:59.999Z\", \"2020-07-17T23:59:59.999Z\", \"2020-07-18T23:59:59.999Z\", \"2020-07-19T23:59:59.999Z\", \"2020-07-20T23:59:59.999Z\", \"2020-07-21T23:59:59.999Z\", \"2020-07-22T23:59:59.999Z\", \"2020-07-23T23:59:59.999Z\", \"2020-07-24T23:59:59.999Z\", \"2020-07-25T23:59:59.999Z\", \"2020-07-26T23:59:59.999Z\", \"2020-07-27T23:59:59.999Z\", \"2020-07-28T23:59:59.999Z\", \"2020-07-29T23:59:59.999Z\", \"2020-07-30T23:59:59.999Z\", \"2020-07-31T23:59:59.999Z\", \"2020-08-01T23:59:59.999Z\", \"2020-08-02T23:59:59.999Z\", \"2020-08-03T23:59:59.999Z\", \"2020-08-04T23:59:59.999Z\", \"2020-08-05T23:59:59.999Z\", \"2020-08-06T23:59:59.999Z\", \"2020-08-07T23:59:59.999Z\", \"2020-08-08T23:59:59.999Z\", \"2020-08-09T23:59:59.999Z\", \"2020-08-10T23:59:59.999Z\", \"2020-08-11T23:59:59.999Z\", \"2020-08-12T23:59:59.999Z\", \"2020-08-13T23:59:59.999Z\", \"2020-08-14T23:59:59.999Z\", \"2020-08-15T23:59:59.999Z\", \"2020-08-16T23:59:59.999Z\", \"2020-08-17T23:59:59.999Z\", \"2020-08-18T23:59:59.999Z\", \"2020-08-19T23:59:59.999Z\", \"2020-08-20T23:59:59.999Z\", \"2020-08-21T23:59:59.999Z\", \"2020-08-22T23:59:59.999Z\", \"2020-08-23T23:59:59.999Z\", \"2020-08-24T23:59:59.999Z\", \"2020-08-25T23:59:59.999Z\", \"2020-08-26T23:59:59.999Z\", \"2020-08-27T23:59:59.999Z\", \"2020-08-28T23:59:59.999Z\", \"2020-08-29T23:59:59.999Z\", \"2020-08-30T23:59:59.999Z\", \"2020-08-31T23:59:59.999Z\", \"2020-09-01T23:59:59.999Z\", \"2020-09-02T23:59:59.999Z\", \"2020-09-03T23:59:59.999Z\", \"2020-09-04T23:59:59.999Z\", \"2020-09-05T23:59:59.999Z\", \"2020-09-06T23:59:59.999Z\", \"2020-09-07T23:59:59.999Z\", \"2020-09-08T23:59:59.999Z\", \"2020-09-09T23:59:59.999Z\", \"2020-09-10T23:59:59.999Z\", \"2020-09-11T23:59:59.999Z\", \"2020-09-12T23:59:59.999Z\", \"2020-09-13T23:59:59.999Z\", \"2020-09-14T23:59:59.999Z\", \"2020-09-15T23:59:59.999Z\", \"2020-09-16T23:59:59.999Z\", \"2020-09-17T23:59:59.999Z\", \"2020-09-18T23:59:59.999Z\", \"2020-09-19T23:59:59.999Z\", \"2020-09-20T23:59:59.999Z\", \"2020-09-21T23:59:59.999Z\", \"2020-09-22T23:59:59.999Z\", \"2020-09-23T23:59:59.999Z\", \"2020-09-24T23:59:59.999Z\", \"2020-09-25T23:59:59.999Z\", \"2020-09-26T23:59:59.999Z\", \"2020-09-27T23:59:59.999Z\", \"2020-09-28T23:59:59.999Z\", \"2020-09-29T23:59:59.999Z\", \"2020-09-30T23:59:59.999Z\", \"2020-10-01T23:59:59.999Z\", \"2020-10-02T23:59:59.999Z\", \"2020-10-03T23:59:59.999Z\", \"2020-10-04T23:59:59.999Z\", \"2020-10-05T23:59:59.999Z\", \"2020-10-06T23:59:59.999Z\", \"2020-10-07T23:59:59.999Z\", \"2020-10-08T23:59:59.999Z\", \"2020-10-09T23:59:59.999Z\", \"2020-10-10T23:59:59.999Z\", \"2020-10-11T23:59:59.999Z\", \"2020-10-12T23:59:59.999Z\", \"2020-10-13T23:59:59.999Z\", \"2020-10-14T23:59:59.999Z\", \"2020-10-15T23:59:59.999Z\"], \"y\": [7194.89197053, 7202.55112207, 6984.4286123, 7345.37527527, 7410.45169373, 7410.45216807, 7768.68189098, 8161.93547734, 8082.29607413, 7878.30753815, 8162.1911379, 8033.26184596, 8189.77206362, 8140.93309605, 8825.34368451, 8812.48149122, 8725.20996387, 8927.21225983, 8941.44574506, 8704.63181434, 8658.99118302, 8744.21075075, 8680.65055954, 8405.56773288, 8440.11958702, 8364.41006958, 8597.30877926, 8912.52433979, 9357.47037892, 9316.01697842, 9508.31314184, 9346.35762761, 9389.82059095, 9344.68367852, 9292.84190002, 9183.41577743, 9617.8210448, 9726.00315742, 9793.07042002, 9863.89488145, 10115.559686, 9855.89170857, 10202.3876541, 10323.9604932, 10211.5503892, 10313.8568369, 9889.17970534, 9936.56026014, 9691.23094489, 10143.7983568, 9629.32531033, 9611.78201954, 9687.70676008, 9663.31864201, 9921.58346055, 9651.31279866, 9338.29028024, 8825.09351775, 8788.72854689, 8671.21254207, 8599.7583441, 8563.26425933, 8865.38796487, 8788.54218625, 8760.28504049, 9078.30852906, 9121.60053553, 8908.20601509, 8111.14639164, 7922.1470416, 7910.08980669, 7913.61638784, 5017.83083939, 5573.07764952, 5201.06668673, 5385.22952159, 5002.5781383, 5227.1136885, 5245.4166032, 6191.65372133, 6206.52165025, 6185.55790292, 5831.37473534, 6436.64245088, 6738.71663989, 6675.17065538, 6719.38897407, 6467.25404592, 6245.62462695, 5925.53848884, 6430.60652809, 6437.31921486, 6606.77626829, 6797.39659183, 6738.38301967, 6862.53782636, 6788.04980287, 7273.64421075, 7179.28341821, 7337.9661825, 7303.81519824, 6867.4404519, 6858.06802459, 6965.61663772, 6843.28177662, 6845.56171696, 6640.45388894, 7116.55260865, 7092.29152293, 7260.92257873, 7186.8737411, 6879.78434985, 6879.44029975, 7121.30605911, 7434.18155636, 7550.48301195, 7570.13893823, 7679.41895085, 7796.97044056, 7806.71256355, 8797.67005044, 8672.7819143, 8869.05761887, 8983.61414879, 8895.74487399, 8912.8321603, 9007.44125582, 9261.89505826, 9936.16248196, 9840.90638396, 9591.16923131, 8755.5356389, 8610.38621232, 8805.38781338, 9271.32863776, 9734.29077525, 9333.23987276, 9374.92998661, 9675.69498013, 9727.06360375, 9725.32936525, 9522.74008319, 9080.33473763, 9185.06272737, 9212.28340427, 8786.10769511, 8909.58607327, 8837.3812128, 9184.94499772, 9528.35562913, 9438.91400926, 9700.10569689, 9463.6056622, 10162.9731448, 9533.76049336, 9655.85445253, 9800.21547674, 9664.90477464, 9653.00332503, 9760.0632524, 9774.35993635, 9794.11951106, 9870.07852908, 9320.69085457, 9480.73574979, 9477.55403706, 9386.03529073, 9454.26643056, 9533.78375101, 9481.56706237, 9410.29434848, 9290.96027975, 9330.9264778, 9300.91545819, 9644.07594221, 9632.14957943, 9314.12688901, 9260.99499378, 9167.82427849, 9048.46083712, 9140.02907078, 9185.58126105, 9145.98505502, 9231.13965322, 9124.84264611, 9084.23373428, 9126.090803, 9072.85007426, 9349.16137441, 9253.02015436, 9427.99387728, 9273.35699507, 9277.51196283, 9241.0550437, 9277.2046601, 9238.7032275, 9241.89699957, 9191.9802336, 9131.8121414, 9151.18404834, 9158.00603543, 9187.22037014, 9162.51448207, 9375.08046428, 9527.14199636, 9585.51480236, 9539.48551544, 9680.23483128, 9905.21791377, 11017.4638476, 10912.9529611, 11099.8328914, 11110.2109424, 11322.5705008, 11758.7646653, 11043.7688847, 11246.2032469, 11203.8230991, 11749.8713321, 11778.8942824, 11604.5533476, 11737.3252342, 11662.2569338, 11881.64754, 11404.5968775, 11588.4055125, 11772.6593859, 11768.6971443, 11866.6855801, 11895.6577737, 12251.8959698, 11990.8847804, 11761.499735, 11878.026439, 11585.4775342, 11679.6959587, 11663.6895523, 11773.58935, 11366.8949329, 11485.6083964, 11325.2956031, 11541.0543254, 11508.7139745, 11713.3062719, 11679.3166637, 11964.8228043, 11407.1910772, 10230.3651615, 10512.5301954, 10167.2167634, 10280.9976217, 10369.3069685, 10134.1515061, 10242.3301347, 10369.0283892, 10409.8617874, 10452.3990309, 10328.7341116, 10677.7548513, 10797.7620187, 10973.2522347, 10951.8200208, 10933.7526485, 11095.8697916, 10934.9255349, 10459.6245084, 10539.4566326, 10227.4796296, 10747.4726158, 10702.237564, 10752.9398441, 10771.6417403, 10712.46335, 10845.4113815, 10785.0111206, 10624.3901581, 10583.8062913, 10567.9203405, 10688.0338225, 10799.7784165, 10619.8039255, 10677.6254161, 10925.4447612, 11059.14269142, 11296.08178425, 11392.63621516, 11548.71975926, 11429.04780192, 11426.60259823]}],\n",
              "                        {\"template\": {\"data\": {\"bar\": [{\"error_x\": {\"color\": \"#2a3f5f\"}, \"error_y\": {\"color\": \"#2a3f5f\"}, \"marker\": {\"line\": {\"color\": \"#E5ECF6\", \"width\": 0.5}}, \"type\": \"bar\"}], \"barpolar\": [{\"marker\": {\"line\": {\"color\": \"#E5ECF6\", \"width\": 0.5}}, \"type\": \"barpolar\"}], \"carpet\": [{\"aaxis\": {\"endlinecolor\": \"#2a3f5f\", \"gridcolor\": \"white\", \"linecolor\": \"white\", \"minorgridcolor\": \"white\", \"startlinecolor\": \"#2a3f5f\"}, \"baxis\": {\"endlinecolor\": \"#2a3f5f\", \"gridcolor\": \"white\", \"linecolor\": \"white\", \"minorgridcolor\": \"white\", \"startlinecolor\": \"#2a3f5f\"}, \"type\": \"carpet\"}], \"choropleth\": [{\"colorbar\": {\"outlinewidth\": 0, \"ticks\": \"\"}, \"type\": \"choropleth\"}], \"contour\": [{\"colorbar\": {\"outlinewidth\": 0, \"ticks\": \"\"}, \"colorscale\": [[0.0, \"#0d0887\"], [0.1111111111111111, \"#46039f\"], [0.2222222222222222, \"#7201a8\"], [0.3333333333333333, \"#9c179e\"], [0.4444444444444444, \"#bd3786\"], [0.5555555555555556, \"#d8576b\"], [0.6666666666666666, \"#ed7953\"], [0.7777777777777778, \"#fb9f3a\"], [0.8888888888888888, \"#fdca26\"], [1.0, \"#f0f921\"]], \"type\": \"contour\"}], \"contourcarpet\": [{\"colorbar\": {\"outlinewidth\": 0, \"ticks\": \"\"}, \"type\": \"contourcarpet\"}], \"heatmap\": [{\"colorbar\": {\"outlinewidth\": 0, \"ticks\": \"\"}, \"colorscale\": [[0.0, \"#0d0887\"], [0.1111111111111111, \"#46039f\"], [0.2222222222222222, \"#7201a8\"], [0.3333333333333333, \"#9c179e\"], [0.4444444444444444, \"#bd3786\"], [0.5555555555555556, \"#d8576b\"], [0.6666666666666666, \"#ed7953\"], [0.7777777777777778, \"#fb9f3a\"], [0.8888888888888888, \"#fdca26\"], [1.0, \"#f0f921\"]], \"type\": \"heatmap\"}], \"heatmapgl\": [{\"colorbar\": {\"outlinewidth\": 0, \"ticks\": \"\"}, \"colorscale\": [[0.0, \"#0d0887\"], [0.1111111111111111, \"#46039f\"], [0.2222222222222222, \"#7201a8\"], [0.3333333333333333, \"#9c179e\"], [0.4444444444444444, \"#bd3786\"], [0.5555555555555556, \"#d8576b\"], [0.6666666666666666, \"#ed7953\"], [0.7777777777777778, \"#fb9f3a\"], [0.8888888888888888, \"#fdca26\"], [1.0, \"#f0f921\"]], \"type\": \"heatmapgl\"}], \"histogram\": [{\"marker\": {\"colorbar\": {\"outlinewidth\": 0, \"ticks\": \"\"}}, \"type\": \"histogram\"}], \"histogram2d\": [{\"colorbar\": {\"outlinewidth\": 0, \"ticks\": \"\"}, \"colorscale\": [[0.0, \"#0d0887\"], [0.1111111111111111, \"#46039f\"], [0.2222222222222222, \"#7201a8\"], [0.3333333333333333, \"#9c179e\"], [0.4444444444444444, \"#bd3786\"], [0.5555555555555556, \"#d8576b\"], [0.6666666666666666, \"#ed7953\"], [0.7777777777777778, \"#fb9f3a\"], [0.8888888888888888, \"#fdca26\"], [1.0, \"#f0f921\"]], \"type\": \"histogram2d\"}], \"histogram2dcontour\": [{\"colorbar\": {\"outlinewidth\": 0, \"ticks\": \"\"}, \"colorscale\": [[0.0, \"#0d0887\"], [0.1111111111111111, \"#46039f\"], [0.2222222222222222, \"#7201a8\"], [0.3333333333333333, \"#9c179e\"], [0.4444444444444444, \"#bd3786\"], [0.5555555555555556, \"#d8576b\"], [0.6666666666666666, \"#ed7953\"], [0.7777777777777778, \"#fb9f3a\"], [0.8888888888888888, \"#fdca26\"], [1.0, \"#f0f921\"]], \"type\": \"histogram2dcontour\"}], \"mesh3d\": [{\"colorbar\": {\"outlinewidth\": 0, \"ticks\": \"\"}, \"type\": \"mesh3d\"}], \"parcoords\": [{\"line\": {\"colorbar\": {\"outlinewidth\": 0, \"ticks\": \"\"}}, \"type\": \"parcoords\"}], \"pie\": [{\"automargin\": true, \"type\": \"pie\"}], \"scatter\": [{\"marker\": {\"colorbar\": {\"outlinewidth\": 0, \"ticks\": \"\"}}, \"type\": \"scatter\"}], \"scatter3d\": [{\"line\": {\"colorbar\": {\"outlinewidth\": 0, \"ticks\": \"\"}}, \"marker\": {\"colorbar\": {\"outlinewidth\": 0, \"ticks\": \"\"}}, \"type\": \"scatter3d\"}], \"scattercarpet\": [{\"marker\": {\"colorbar\": {\"outlinewidth\": 0, \"ticks\": \"\"}}, \"type\": \"scattercarpet\"}], \"scattergeo\": [{\"marker\": {\"colorbar\": {\"outlinewidth\": 0, \"ticks\": \"\"}}, \"type\": \"scattergeo\"}], \"scattergl\": [{\"marker\": {\"colorbar\": {\"outlinewidth\": 0, \"ticks\": \"\"}}, \"type\": \"scattergl\"}], \"scattermapbox\": [{\"marker\": {\"colorbar\": {\"outlinewidth\": 0, \"ticks\": \"\"}}, \"type\": \"scattermapbox\"}], \"scatterpolar\": [{\"marker\": {\"colorbar\": {\"outlinewidth\": 0, \"ticks\": \"\"}}, \"type\": \"scatterpolar\"}], \"scatterpolargl\": [{\"marker\": {\"colorbar\": {\"outlinewidth\": 0, \"ticks\": \"\"}}, \"type\": \"scatterpolargl\"}], \"scatterternary\": [{\"marker\": {\"colorbar\": {\"outlinewidth\": 0, \"ticks\": \"\"}}, \"type\": \"scatterternary\"}], \"surface\": [{\"colorbar\": {\"outlinewidth\": 0, \"ticks\": \"\"}, \"colorscale\": [[0.0, \"#0d0887\"], [0.1111111111111111, \"#46039f\"], [0.2222222222222222, \"#7201a8\"], [0.3333333333333333, \"#9c179e\"], [0.4444444444444444, \"#bd3786\"], [0.5555555555555556, \"#d8576b\"], [0.6666666666666666, \"#ed7953\"], [0.7777777777777778, \"#fb9f3a\"], [0.8888888888888888, \"#fdca26\"], [1.0, \"#f0f921\"]], \"type\": \"surface\"}], \"table\": [{\"cells\": {\"fill\": {\"color\": \"#EBF0F8\"}, \"line\": {\"color\": \"white\"}}, \"header\": {\"fill\": {\"color\": \"#C8D4E3\"}, \"line\": {\"color\": \"white\"}}, \"type\": \"table\"}]}, \"layout\": {\"annotationdefaults\": {\"arrowcolor\": \"#2a3f5f\", \"arrowhead\": 0, \"arrowwidth\": 1}, \"coloraxis\": {\"colorbar\": {\"outlinewidth\": 0, \"ticks\": \"\"}}, \"colorscale\": {\"diverging\": [[0, \"#8e0152\"], [0.1, \"#c51b7d\"], [0.2, \"#de77ae\"], [0.3, \"#f1b6da\"], [0.4, \"#fde0ef\"], [0.5, \"#f7f7f7\"], [0.6, \"#e6f5d0\"], [0.7, \"#b8e186\"], [0.8, \"#7fbc41\"], [0.9, \"#4d9221\"], [1, \"#276419\"]], \"sequential\": [[0.0, \"#0d0887\"], [0.1111111111111111, \"#46039f\"], [0.2222222222222222, \"#7201a8\"], [0.3333333333333333, \"#9c179e\"], [0.4444444444444444, \"#bd3786\"], [0.5555555555555556, \"#d8576b\"], [0.6666666666666666, \"#ed7953\"], [0.7777777777777778, \"#fb9f3a\"], [0.8888888888888888, \"#fdca26\"], [1.0, \"#f0f921\"]], \"sequentialminus\": [[0.0, \"#0d0887\"], [0.1111111111111111, \"#46039f\"], [0.2222222222222222, \"#7201a8\"], [0.3333333333333333, \"#9c179e\"], [0.4444444444444444, \"#bd3786\"], [0.5555555555555556, \"#d8576b\"], [0.6666666666666666, \"#ed7953\"], [0.7777777777777778, \"#fb9f3a\"], [0.8888888888888888, \"#fdca26\"], [1.0, \"#f0f921\"]]}, \"colorway\": [\"#636efa\", \"#EF553B\", \"#00cc96\", \"#ab63fa\", \"#FFA15A\", \"#19d3f3\", \"#FF6692\", \"#B6E880\", \"#FF97FF\", \"#FECB52\"], \"font\": {\"color\": \"#2a3f5f\"}, \"geo\": {\"bgcolor\": \"white\", \"lakecolor\": \"white\", \"landcolor\": \"#E5ECF6\", \"showlakes\": true, \"showland\": true, \"subunitcolor\": \"white\"}, \"hoverlabel\": {\"align\": \"left\"}, \"hovermode\": \"closest\", \"mapbox\": {\"style\": \"light\"}, \"paper_bgcolor\": \"white\", \"plot_bgcolor\": \"#E5ECF6\", \"polar\": {\"angularaxis\": {\"gridcolor\": \"white\", \"linecolor\": \"white\", \"ticks\": \"\"}, \"bgcolor\": \"#E5ECF6\", \"radialaxis\": {\"gridcolor\": \"white\", \"linecolor\": \"white\", \"ticks\": \"\"}}, \"scene\": {\"xaxis\": {\"backgroundcolor\": \"#E5ECF6\", \"gridcolor\": \"white\", \"gridwidth\": 2, \"linecolor\": \"white\", \"showbackground\": true, \"ticks\": \"\", \"zerolinecolor\": \"white\"}, \"yaxis\": {\"backgroundcolor\": \"#E5ECF6\", \"gridcolor\": \"white\", \"gridwidth\": 2, \"linecolor\": \"white\", \"showbackground\": true, \"ticks\": \"\", \"zerolinecolor\": \"white\"}, \"zaxis\": {\"backgroundcolor\": \"#E5ECF6\", \"gridcolor\": \"white\", \"gridwidth\": 2, \"linecolor\": \"white\", \"showbackground\": true, \"ticks\": \"\", \"zerolinecolor\": \"white\"}}, \"shapedefaults\": {\"line\": {\"color\": \"#2a3f5f\"}}, \"ternary\": {\"aaxis\": {\"gridcolor\": \"white\", \"linecolor\": \"white\", \"ticks\": \"\"}, \"baxis\": {\"gridcolor\": \"white\", \"linecolor\": \"white\", \"ticks\": \"\"}, \"bgcolor\": \"#E5ECF6\", \"caxis\": {\"gridcolor\": \"white\", \"linecolor\": \"white\", \"ticks\": \"\"}}, \"title\": {\"x\": 0.05}, \"xaxis\": {\"automargin\": true, \"gridcolor\": \"white\", \"linecolor\": \"white\", \"ticks\": \"\", \"title\": {\"standoff\": 15}, \"zerolinecolor\": \"white\", \"zerolinewidth\": 2}, \"yaxis\": {\"automargin\": true, \"gridcolor\": \"white\", \"linecolor\": \"white\", \"ticks\": \"\", \"title\": {\"standoff\": 15}, \"zerolinecolor\": \"white\", \"zerolinewidth\": 2}}}, \"title\": {\"text\": \"Bitcoin: Open Price from 2020-01-01 to 20201015\"}, \"xaxis\": {\"title\": {\"text\": \"Date\"}}, \"yaxis\": {\"title\": {\"text\": \"Price\"}}},\n",
              "                        {\"responsive\": true}\n",
              "                    ).then(function(){\n",
              "                            \n",
              "var gd = document.getElementById('7c93f970-ff58-41f3-a75d-53420d87dbeb');\n",
              "var x = new MutationObserver(function (mutations, observer) {{\n",
              "        var display = window.getComputedStyle(gd).display;\n",
              "        if (!display || display === 'none') {{\n",
              "            console.log([gd, 'removed!']);\n",
              "            Plotly.purge(gd);\n",
              "            observer.disconnect();\n",
              "        }}\n",
              "}});\n",
              "\n",
              "// Listen for the removal of the full notebook cells\n",
              "var notebookContainer = gd.closest('#notebook-container');\n",
              "if (notebookContainer) {{\n",
              "    x.observe(notebookContainer, {childList: true});\n",
              "}}\n",
              "\n",
              "// Listen for the clearing of the current output cell\n",
              "var outputEl = gd.closest('.output');\n",
              "if (outputEl) {{\n",
              "    x.observe(outputEl, {childList: true});\n",
              "}}\n",
              "\n",
              "                        })\n",
              "                };\n",
              "                \n",
              "            </script>\n",
              "        </div>\n",
              "</body>\n",
              "</html>"
            ]
          },
          "metadata": {
            "tags": []
          }
        }
      ]
    },
    {
      "cell_type": "markdown",
      "metadata": {
        "id": "OPOTrdjW_NKJ"
      },
      "source": [
        "**2. Latest data, ranked by market capital**"
      ]
    },
    {
      "cell_type": "code",
      "metadata": {
        "id": "SU2V4uEn_QpV"
      },
      "source": [
        "page = requests.get(\"https://coinmarketcap.com/coins/\")\n",
        "soup = BeautifulSoup(page.content, 'html.parser')\n",
        "print(soup.prettify)\n",
        "data = soup.find('script', id = \"__NEXT_DATA__\",type = \"application/json\")\n",
        "rank_data= json.loads(data.contents[0])\n"
      ],
      "execution_count": null,
      "outputs": []
    },
    {
      "cell_type": "code",
      "metadata": {
        "id": "TwEgR5Kt_2Ay",
        "outputId": "a18c8570-bdde-4ca3-9b2d-1077465b9477",
        "colab": {
          "base_uri": "https://localhost:8080/",
          "height": 71
        }
      },
      "source": [
        "print(rank_data['props']['initialState']['cryptocurrency'].keys())\n",
        "#print(rank_data['props']['initialState']['cryptocurrency']['listingLatest']['data'])\n",
        "quotes = rank_data['props']['initialState']['cryptocurrency']['map']\n",
        "print(quotes)"
      ],
      "execution_count": 48,
      "outputs": [
        {
          "output_type": "stream",
          "text": [
            "dict_keys(['listingLatest', 'listingHistorical', 'new', 'watchlist', 'map', 'info', 'prices', 'quotesLatest', 'quotesHistorical', 'ohlcvHistorical', 'related', 'marketPairsLatest', 'pricePerformanceStatsLatest', 'topDerivatives', 'yieldFarmingRankingLatest'])\n",
            "{'data': [], 'slugMap': {}}\n"
          ],
          "name": "stdout"
        }
      ]
    },
    {
      "cell_type": "code",
      "metadata": {
        "id": "n_bEIz1LwMjp"
      },
      "source": [
        "#for j in quotes:\n",
        "#  print(j)\n",
        "\n",
        "names = []\n",
        "for j in quotes:\n",
        "  names.append(j['quote'].keys())\n",
        "\n",
        "print(names[0])"
      ],
      "execution_count": null,
      "outputs": []
    },
    {
      "cell_type": "code",
      "metadata": {
        "id": "qVq50PW2G4N3",
        "outputId": "11021d7b-6244-49e0-9969-5952d783bbb4",
        "colab": {
          "base_uri": "https://localhost:8080/",
          "height": 527
        }
      },
      "source": [
        "# convert it to pandas dataframe\n",
        "slug = []\n",
        "price = []\n",
        "volume_24h = []\n",
        "percent_change_1h = []\n",
        "percent_change_24h = []\n",
        "percent_change_7d = []\n",
        "market_cap = []\n",
        "last_updated = []\n",
        "\n",
        "for j in quotes:\n",
        "  slug.append(j['slug'])\n",
        "  price.append(j['quote']['USD']['price'])\n",
        "  volume_24h.append(j['quote']['USD']['volume_24h'])\n",
        "  percent_change_1h.append(j['quote']['USD']['percent_change_1h'])\n",
        "  percent_change_24h.append(j['quote']['USD']['percent_change_24h'])\n",
        "  percent_change_7d.append(j['quote']['USD']['percent_change_7d'])\n",
        "  market_cap.append(j['quote']['USD']['market_cap'])\n",
        "  last_updated.append(j['quote']['USD']['last_updated'])\n",
        "\n",
        "df = pd.DataFrame(columns = ['slug','price','volume_24h','percent_change_1h','percent_change_24h','percent_change_7d', 'market_cap', 'last_updated']) # ,'name'\n",
        "df['price'] = price\n",
        "df['volume_24h'] = volume_24h\n",
        "df['percent_change_1h'] = percent_change_1h\n",
        "df['percent_change_24h'] = percent_change_24h\n",
        "df['percent_change_7d'] = percent_change_7d\n",
        "df['market_cap'] = market_cap\n",
        "df['last_updated'] = last_updated\n",
        "df['slug'] = slug\n",
        "df.sort_values('market_cap')\n",
        "print(df.info())\n",
        "print(df[['slug','price','market_cap']])"
      ],
      "execution_count": 38,
      "outputs": [
        {
          "output_type": "stream",
          "text": [
            "<class 'pandas.core.frame.DataFrame'>\n",
            "RangeIndex: 100 entries, 0 to 99\n",
            "Data columns (total 8 columns):\n",
            " #   Column              Non-Null Count  Dtype  \n",
            "---  ------              --------------  -----  \n",
            " 0   slug                100 non-null    object \n",
            " 1   price               100 non-null    float64\n",
            " 2   volume_24h          100 non-null    float64\n",
            " 3   percent_change_1h   100 non-null    float64\n",
            " 4   percent_change_24h  100 non-null    float64\n",
            " 5   percent_change_7d   100 non-null    float64\n",
            " 6   market_cap          100 non-null    float64\n",
            " 7   last_updated        100 non-null    object \n",
            "dtypes: float64(6), object(2)\n",
            "memory usage: 6.4+ KB\n",
            "None\n",
            "                        slug         price    market_cap\n",
            "0                    bitcoin  11482.948118  2.126414e+11\n",
            "1                   ethereum    376.888247  4.259557e+10\n",
            "2                        xrp      0.246678  1.115880e+10\n",
            "3               bitcoin-cash    261.091171  4.842061e+09\n",
            "4               binance-coin     31.242895  4.511679e+09\n",
            "..                       ...           ...           ...\n",
            "95  advanced-internet-blocks      0.006642  1.608349e+08\n",
            "96                 cryptonex      1.700987  9.472173e+07\n",
            "97               counos-coin      5.922479  8.793888e+07\n",
            "98                    beldex      0.081384  7.977492e+07\n",
            "99                 terra-krw      0.000865  7.928629e+07\n",
            "\n",
            "[100 rows x 3 columns]\n"
          ],
          "name": "stdout"
        }
      ]
    },
    {
      "cell_type": "code",
      "metadata": {
        "id": "Avfbzrsmpg3P",
        "outputId": "d7a38e93-858b-42de-cf23-6ba798098355",
        "colab": {
          "base_uri": "https://localhost:8080/",
          "height": 214
        }
      },
      "source": [
        "print(historical_data['props']['initialState']['cryptocurrency']['ohlcvHistorical'].keys())\n",
        "print(historical_data['props']['initialState']['cryptocurrency']['ohlcvHistorical']['1']['quotes'])"
      ],
      "execution_count": null,
      "outputs": [
        {
          "output_type": "stream",
          "text": [
            "dict_keys(['1'])\n"
          ],
          "name": "stdout"
        },
        {
          "output_type": "error",
          "ename": "AttributeError",
          "evalue": "ignored",
          "traceback": [
            "\u001b[0;31m---------------------------------------------------------------------------\u001b[0m",
            "\u001b[0;31mAttributeError\u001b[0m                            Traceback (most recent call last)",
            "\u001b[0;32m<ipython-input-16-b92d895dae3c>\u001b[0m in \u001b[0;36m<module>\u001b[0;34m()\u001b[0m\n\u001b[1;32m      1\u001b[0m \u001b[0mprint\u001b[0m\u001b[0;34m(\u001b[0m\u001b[0mhistorical_data\u001b[0m\u001b[0;34m[\u001b[0m\u001b[0;34m'props'\u001b[0m\u001b[0;34m]\u001b[0m\u001b[0;34m[\u001b[0m\u001b[0;34m'initialState'\u001b[0m\u001b[0;34m]\u001b[0m\u001b[0;34m[\u001b[0m\u001b[0;34m'cryptocurrency'\u001b[0m\u001b[0;34m]\u001b[0m\u001b[0;34m[\u001b[0m\u001b[0;34m'ohlcvHistorical'\u001b[0m\u001b[0;34m]\u001b[0m\u001b[0;34m.\u001b[0m\u001b[0mkeys\u001b[0m\u001b[0;34m(\u001b[0m\u001b[0;34m)\u001b[0m\u001b[0;34m)\u001b[0m\u001b[0;34m\u001b[0m\u001b[0;34m\u001b[0m\u001b[0m\n\u001b[0;32m----> 2\u001b[0;31m \u001b[0mprint\u001b[0m\u001b[0;34m(\u001b[0m\u001b[0mhistorical_data\u001b[0m\u001b[0;34m[\u001b[0m\u001b[0;34m'props'\u001b[0m\u001b[0;34m]\u001b[0m\u001b[0;34m[\u001b[0m\u001b[0;34m'initialState'\u001b[0m\u001b[0;34m]\u001b[0m\u001b[0;34m[\u001b[0m\u001b[0;34m'cryptocurrency'\u001b[0m\u001b[0;34m]\u001b[0m\u001b[0;34m[\u001b[0m\u001b[0;34m'ohlcvHistorical'\u001b[0m\u001b[0;34m]\u001b[0m\u001b[0;34m[\u001b[0m\u001b[0;34m'1'\u001b[0m\u001b[0;34m]\u001b[0m\u001b[0;34m[\u001b[0m\u001b[0;34m'quotes'\u001b[0m\u001b[0;34m]\u001b[0m\u001b[0;34m.\u001b[0m\u001b[0mkeys\u001b[0m\u001b[0;34m(\u001b[0m\u001b[0;34m)\u001b[0m\u001b[0;34m)\u001b[0m\u001b[0;34m\u001b[0m\u001b[0;34m\u001b[0m\u001b[0m\n\u001b[0m",
            "\u001b[0;31mAttributeError\u001b[0m: 'list' object has no attribute 'keys'"
          ]
        }
      ]
    }
  ]
}